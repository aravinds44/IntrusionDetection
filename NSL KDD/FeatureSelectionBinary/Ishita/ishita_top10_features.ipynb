{
 "cells": [
  {
   "cell_type": "code",
   "execution_count": 1,
   "id": "initial_id",
   "metadata": {
    "collapsed": true,
    "ExecuteTime": {
     "end_time": "2024-05-21T07:21:50.059422Z",
     "start_time": "2024-05-21T07:21:49.259607Z"
    }
   },
   "outputs": [],
   "source": [
    "import pandas as pd\n",
    "from sklearn.metrics import accuracy_score,precision_score,recall_score\n",
    "from sklearn.model_selection import train_test_split\n",
    "from sklearn.ensemble import RandomForestClassifier\n",
    "from sklearn.tree import DecisionTreeClassifier\n",
    "from sklearn.neighbors import KNeighborsClassifier"
   ]
  },
  {
   "cell_type": "code",
   "outputs": [],
   "source": [
    "# Load the Excel file\n",
    "excel_file = './feature_ranking_3_filters.xlsx'\n",
    "rankings_df = pd.read_excel(excel_file)"
   ],
   "metadata": {
    "collapsed": false,
    "ExecuteTime": {
     "end_time": "2024-05-21T07:21:51.881031Z",
     "start_time": "2024-05-21T07:21:51.772568Z"
    }
   },
   "id": "d8a4372992c2d739",
   "execution_count": 2
  },
  {
   "cell_type": "code",
   "outputs": [
    {
     "data": {
      "text/plain": "  CHI_2 Mutual Information Pearson Correlation\n0    f5                 f5                 f29\n1    f6                 f3                 f33\n2    f1                 f6                 f34\n3   f33                 f4                 f12\n4   f23                f29                 f39\n5   f32                f30                 f38\n6    f3                f33                 f25\n7    f4                f34                 f26\n8   f39                f12                  f4\n9   f26                f38                 f23",
      "text/html": "<div>\n<style scoped>\n    .dataframe tbody tr th:only-of-type {\n        vertical-align: middle;\n    }\n\n    .dataframe tbody tr th {\n        vertical-align: top;\n    }\n\n    .dataframe thead th {\n        text-align: right;\n    }\n</style>\n<table border=\"1\" class=\"dataframe\">\n  <thead>\n    <tr style=\"text-align: right;\">\n      <th></th>\n      <th>CHI_2</th>\n      <th>Mutual Information</th>\n      <th>Pearson Correlation</th>\n    </tr>\n  </thead>\n  <tbody>\n    <tr>\n      <th>0</th>\n      <td>f5</td>\n      <td>f5</td>\n      <td>f29</td>\n    </tr>\n    <tr>\n      <th>1</th>\n      <td>f6</td>\n      <td>f3</td>\n      <td>f33</td>\n    </tr>\n    <tr>\n      <th>2</th>\n      <td>f1</td>\n      <td>f6</td>\n      <td>f34</td>\n    </tr>\n    <tr>\n      <th>3</th>\n      <td>f33</td>\n      <td>f4</td>\n      <td>f12</td>\n    </tr>\n    <tr>\n      <th>4</th>\n      <td>f23</td>\n      <td>f29</td>\n      <td>f39</td>\n    </tr>\n    <tr>\n      <th>5</th>\n      <td>f32</td>\n      <td>f30</td>\n      <td>f38</td>\n    </tr>\n    <tr>\n      <th>6</th>\n      <td>f3</td>\n      <td>f33</td>\n      <td>f25</td>\n    </tr>\n    <tr>\n      <th>7</th>\n      <td>f4</td>\n      <td>f34</td>\n      <td>f26</td>\n    </tr>\n    <tr>\n      <th>8</th>\n      <td>f39</td>\n      <td>f12</td>\n      <td>f4</td>\n    </tr>\n    <tr>\n      <th>9</th>\n      <td>f26</td>\n      <td>f38</td>\n      <td>f23</td>\n    </tr>\n  </tbody>\n</table>\n</div>"
     },
     "execution_count": 3,
     "metadata": {},
     "output_type": "execute_result"
    }
   ],
   "source": [
    "rankings_df.head(10)"
   ],
   "metadata": {
    "collapsed": false,
    "ExecuteTime": {
     "end_time": "2024-05-21T07:21:54.652479Z",
     "start_time": "2024-05-21T07:21:54.639312Z"
    }
   },
   "id": "52915102e86df8f8",
   "execution_count": 3
  },
  {
   "cell_type": "code",
   "outputs": [],
   "source": [
    "# Load the dataset from CSV file\n",
    "train_dataset_file = '../../data/BinaryClassify/train_nsl_kdd_binary_encoded.csv'\n",
    "dataset = pd.read_csv(train_dataset_file)\n",
    "dataset = dataset.drop('level',axis=1)\n",
    "\n",
    "dataset.columns = [f'f{i+1}' for i in range(len(dataset.columns))]"
   ],
   "metadata": {
    "collapsed": false,
    "ExecuteTime": {
     "end_time": "2024-05-21T07:21:58.963212Z",
     "start_time": "2024-05-21T07:21:58.791791Z"
    }
   },
   "id": "b235296487e7a40f",
   "execution_count": 4
  },
  {
   "cell_type": "code",
   "outputs": [],
   "source": [
    "X  =dataset.drop('f42',axis=1)\n",
    "y = dataset['f42']"
   ],
   "metadata": {
    "collapsed": false,
    "ExecuteTime": {
     "end_time": "2024-05-21T07:22:07.452702Z",
     "start_time": "2024-05-21T07:22:07.442324Z"
    }
   },
   "id": "ba5894b8883a91cc",
   "execution_count": 5
  },
  {
   "cell_type": "code",
   "outputs": [],
   "source": [
    "def calculate_accuracy(model, X_train, X_test, y_train, y_test):\n",
    "    model.fit(X_train, y_train)\n",
    "    predictions = model.predict(X_test)\n",
    "    return accuracy_score(y_test, predictions)\n"
   ],
   "metadata": {
    "collapsed": false,
    "ExecuteTime": {
     "end_time": "2024-05-21T07:22:09.061013Z",
     "start_time": "2024-05-21T07:22:09.057803Z"
    }
   },
   "id": "53d6efca859f6c34",
   "execution_count": 6
  },
  {
   "cell_type": "code",
   "outputs": [],
   "source": [
    "# Split your data into train and test sets before the iterations\n",
    "X_train, X_test, y_train, y_test = train_test_split(X,y, test_size=0.2, random_state=42)\n"
   ],
   "metadata": {
    "collapsed": false,
    "ExecuteTime": {
     "end_time": "2024-05-21T07:22:09.787289Z",
     "start_time": "2024-05-21T07:22:09.739108Z"
    }
   },
   "id": "291625e0dd85c16a",
   "execution_count": 7
  },
  {
   "cell_type": "code",
   "outputs": [],
   "source": [
    "classifiers = {\n",
    "    'Random Forest': RandomForestClassifier(),\n",
    "    'Decision Tree': DecisionTreeClassifier(),\n",
    "    'KNN': KNeighborsClassifier()\n",
    "}"
   ],
   "metadata": {
    "collapsed": false,
    "ExecuteTime": {
     "end_time": "2024-05-21T07:22:12.653171Z",
     "start_time": "2024-05-21T07:22:12.650561Z"
    }
   },
   "id": "368a12e0d5bf3512",
   "execution_count": 8
  },
  {
   "cell_type": "code",
   "outputs": [
    {
     "name": "stdout",
     "output_type": "stream",
     "text": [
      "Ishita Method\n",
      "-------------\n",
      "Union of top 10 features from each filter method:\n",
      "{'f25', 'f30', 'f38', 'f26', 'f32', 'f5', 'f33', 'f34', 'f39', 'f12', 'f4', 'f6', 'f29', 'f3', 'f23', 'f1'}\n",
      "\n",
      "Random Forest:\n",
      "-------------\n",
      "Accuracy: 0.9987, Precision: 0.9979, Recall: 0.9996\n",
      "\n",
      "Decision Tree:\n",
      "-------------\n",
      "Accuracy: 0.9980, Precision: 0.9982, Recall: 0.9981\n",
      "\n",
      "KNN:\n",
      "---\n",
      "Accuracy: 0.9958, Precision: 0.9967, Recall: 0.9954\n"
     ]
    }
   ],
   "source": [
    "import pandas as pd\n",
    "from collections import Counter\n",
    "from sklearn.metrics import accuracy_score, precision_score, recall_score\n",
    "\n",
    "# Define n_val to select top 10 features\n",
    "n_val = 10\n",
    "\n",
    "# Extract top 10 features from each filter method\n",
    "top_features_by_method = {}\n",
    "for column in rankings_df.columns:\n",
    "    method_name = column  # Assuming column names are the filter method names\n",
    "    top_features_by_method[method_name] = set(rankings_df[column][:n_val])  # Extracting top 10 features\n",
    "\n",
    "# Union of all the top 10 features from each filter method\n",
    "features_union = set()\n",
    "for features in top_features_by_method.values():\n",
    "    features_union.update(features)\n",
    "print(\"Ishita Method\")\n",
    "print(\"-------------\")\n",
    "# Print the features that are in the union of all top 10 features\n",
    "print(\"Union of top 10 features from each filter method:\")\n",
    "print(features_union)\n",
    "\n",
    "# Initialize an empty DataFrame to store the results\n",
    "results_df = pd.DataFrame()\n",
    "\n",
    "for i, (classifier_name, classifier) in enumerate(classifiers.items()):\n",
    "    metrics_results = {'accuracy': {}, 'precision': {}, 'recall': {}}\n",
    "    print(f'\\n{classifier_name}:\\n{\"-\" * len(classifier_name)}')\n",
    "\n",
    "    if not features_union:\n",
    "        print('No features selected from the union of top 10 features')\n",
    "        continue\n",
    "\n",
    "    X_train_selected = X_train[list(features_union)]\n",
    "    X_test_selected = X_test[list(features_union)]\n",
    "\n",
    "    classifier.fit(X_train_selected, y_train)\n",
    "    y_pred = classifier.predict(X_test_selected)\n",
    "\n",
    "    metrics_results['accuracy'][n_val] = accuracy_score(y_test, y_pred)\n",
    "    metrics_results['precision'][n_val] = precision_score(y_test, y_pred)\n",
    "    metrics_results['recall'][n_val] = recall_score(y_test, y_pred)\n",
    "\n",
    "    print(f'Accuracy: {metrics_results[\"accuracy\"][n_val]:.4f}, Precision: {metrics_results[\"precision\"][n_val]:.4f}, Recall: {metrics_results[\"recall\"][n_val]:.4f}')\n",
    "    \n",
    "    temp_df = pd.DataFrame(metrics_results, index=[classifier_name])\n",
    "    results_df = pd.concat([results_df, temp_df])\n",
    "\n"
   ],
   "metadata": {
    "collapsed": false,
    "ExecuteTime": {
     "end_time": "2024-05-21T07:23:22.397553Z",
     "start_time": "2024-05-21T07:23:16.381821Z"
    }
   },
   "id": "18bfcc657025c81d",
   "execution_count": 10
  },
  {
   "cell_type": "code",
   "outputs": [],
   "source": [
    "'''\n",
    "Ishita Method\n",
    "-------------\n",
    "Union of top 10 features from each filter method:\n",
    "{'f25', 'f30', 'f38', 'f26', 'f32', 'f5', 'f33', 'f34', 'f39', 'f12', 'f4', 'f6', 'f29', 'f3', 'f23', 'f1'}\n",
    "\n",
    "Random Forest:\n",
    "-------------\n",
    "Accuracy: 0.9987, Precision: 0.9979, Recall: 0.9996\n",
    "\n",
    "Decision Tree:\n",
    "-------------\n",
    "Accuracy: 0.9980, Precision: 0.9982, Recall: 0.9981\n",
    "\n",
    "KNN:\n",
    "---\n",
    "Accuracy: 0.9958, Precision: 0.9967, Recall: 0.9954\n",
    "\n",
    "\n",
    "'''"
   ],
   "metadata": {
    "collapsed": false
   },
   "id": "b997fad96ad50ff4"
  }
 ],
 "metadata": {
  "kernelspec": {
   "display_name": "Python 3",
   "language": "python",
   "name": "python3"
  },
  "language_info": {
   "codemirror_mode": {
    "name": "ipython",
    "version": 2
   },
   "file_extension": ".py",
   "mimetype": "text/x-python",
   "name": "python",
   "nbconvert_exporter": "python",
   "pygments_lexer": "ipython2",
   "version": "2.7.6"
  }
 },
 "nbformat": 4,
 "nbformat_minor": 5
}
