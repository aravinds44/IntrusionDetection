{
 "cells": [
  {
   "cell_type": "code",
   "outputs": [],
   "source": [
    "# Import necessary libraries\n",
    "import pandas as pd\n",
    "from sklearn.feature_selection import VarianceThreshold, SelectKBest, chi2, f_classif, mutual_info_classif,r_regression\n",
    "from sklearn.ensemble import RandomForestClassifier\n",
    "from sklearn.model_selection import train_test_split\n",
    "import matplotlib.pyplot as plt\n",
    "import numpy as np"
   ],
   "metadata": {
    "collapsed": false,
    "ExecuteTime": {
     "end_time": "2024-01-31T16:11:10.393685Z",
     "start_time": "2024-01-31T16:11:09.347264Z"
    }
   },
   "id": "929283fcd66795eb",
   "execution_count": 1
  },
  {
   "cell_type": "code",
   "outputs": [],
   "source": [
    "# Load the datasets for training and testing\n",
    "train_data = pd.read_csv(\"../data/BinaryClassify/train_nsl_kdd_binary_encoded.csv\")\n",
    "test_data = pd.read_csv(\"../data/BinaryClassify/test_nsl_kdd_binary_encoded.csv\")"
   ],
   "metadata": {
    "collapsed": false,
    "ExecuteTime": {
     "end_time": "2024-01-31T16:11:11.408592Z",
     "start_time": "2024-01-31T16:11:11.226446Z"
    }
   },
   "id": "56fbc16366359b12",
   "execution_count": 2
  },
  {
   "cell_type": "code",
   "outputs": [],
   "source": [
    "# # Reduce sample size for testing\n",
    "# train_data = train_data.sample(frac=0.1, random_state=42)"
   ],
   "metadata": {
    "collapsed": false,
    "ExecuteTime": {
     "end_time": "2024-01-31T16:11:12.103869Z",
     "start_time": "2024-01-31T16:11:12.101388Z"
    }
   },
   "id": "db75361a82edb641",
   "execution_count": 3
  },
  {
   "cell_type": "code",
   "outputs": [],
   "source": [
    "# Features and labels for training\n",
    "X_train = train_data.drop(\"binaryoutcome\", axis=1)\n",
    "y_train = train_data[\"binaryoutcome\"]"
   ],
   "metadata": {
    "collapsed": false,
    "ExecuteTime": {
     "end_time": "2024-01-31T16:11:12.834380Z",
     "start_time": "2024-01-31T16:11:12.822117Z"
    }
   },
   "id": "4f3eb82042b579cf",
   "execution_count": 4
  },
  {
   "cell_type": "code",
   "outputs": [],
   "source": [
    "# Features and labels for testing\n",
    "X_test = test_data.drop(\"binaryoutcome\", axis=1)\n",
    "y_test = test_data[\"binaryoutcome\"]"
   ],
   "metadata": {
    "collapsed": false,
    "ExecuteTime": {
     "end_time": "2024-01-31T16:11:14.012299Z",
     "start_time": "2024-01-31T16:11:14.008114Z"
    }
   },
   "id": "15c4433bf361e02f",
   "execution_count": 5
  },
  {
   "cell_type": "code",
   "outputs": [],
   "source": [
    "# Define a function to apply a filter method, evaluate accuracy, and store results\n",
    "def evaluate_filter(filter_method, name, X_train, y_train, X_test, y_test):\n",
    "    filter_model = filter_method\n",
    "    accuracy_scores = []\n",
    "    num_features = []\n",
    "\n",
    "    # Fit the filter model\n",
    "    filter_model.fit(X_train, y_train)\n",
    "\n",
    "    # Sort features or use as is based on the method\n",
    "    if hasattr(filter_model, 'scores_'):\n",
    "        feature_info = list(zip(X_train.columns, filter_model.scores_))\n",
    "        feature_sorted = X_train.columns[np.argsort(filter_model.scores_)[::-1]]\n",
    "    elif hasattr(filter_model, 'get_support'):\n",
    "        retained_features = X_train.columns[filter_model.get_support()]\n",
    "        feature_info = list(zip(X_train.columns, filter_model.get_support()))\n",
    "        feature_sorted = retained_features\n",
    "\n",
    "    # Custom sorting function that handles NaN values\n",
    "    def custom_sort(item):\n",
    "        return float('-inf') if np.isnan(item[1]) else item[1]\n",
    "\n",
    "    sorted_feature_info = sorted(feature_info, key=custom_sort, reverse=True)\n",
    "\n",
    "    print(f\"Feature Information: {sorted_feature_info}\")\n",
    "    print(f\"Feature Sorted: {feature_sorted}\")\n",
    "\n",
    "    for i in range(1, X_train.shape[1] + 1):\n",
    "        # Extract top i features based on your sorted feature list\n",
    "        x_train_filtered = X_train[feature_sorted[:i]]\n",
    "        x_test_filtered = X_test[feature_sorted[:i]]\n",
    "\n",
    "        # Ensure at least one feature is selected\n",
    "        if x_train_filtered.shape[1] > 0:\n",
    "            # Train the model on the filtered training data\n",
    "            clf = RandomForestClassifier()\n",
    "            clf.fit(x_train_filtered, y_train)\n",
    "\n",
    "            # Test the model on the filtered test data\n",
    "            accuracy = clf.score(x_test_filtered, y_test)\n",
    "            accuracy_scores.append(accuracy)\n",
    "            num_features.append(i)\n",
    "\n",
    "            print(\n",
    "                f\"Iteration {i}: {name} - Num Features: {i}, Test Accuracy: {accuracy:.4f}\")\n",
    "\n",
    "    plt.plot(num_features, accuracy_scores, label=name)\n"
   ],
   "metadata": {
    "collapsed": false,
    "ExecuteTime": {
     "end_time": "2024-01-31T17:04:55.966957Z",
     "start_time": "2024-01-31T17:04:55.960596Z"
    }
   },
   "id": "6f6c74ff85a987ba",
   "execution_count": 11
  },
  {
   "cell_type": "markdown",
   "source": [
    "### Apply Filters"
   ],
   "metadata": {
    "collapsed": false
   },
   "id": "1364030409a8a856"
  },
  {
   "cell_type": "code",
   "outputs": [
    {
     "name": "stderr",
     "output_type": "stream",
     "text": [
      "/Users/aravind/Projects/IntrusionDetection/IntrusionDetection/venv/lib/python3.12/site-packages/sklearn/feature_selection/_univariate_selection.py:112: UserWarning: Features [19] are constant.\n",
      "  warnings.warn(\"Features %s are constant.\" % constant_features_idx, UserWarning)\n",
      "/Users/aravind/Projects/IntrusionDetection/IntrusionDetection/venv/lib/python3.12/site-packages/sklearn/feature_selection/_univariate_selection.py:113: RuntimeWarning: invalid value encountered in divide\n",
      "  f = msb / msw\n"
     ]
    },
    {
     "name": "stdout",
     "output_type": "stream",
     "text": [
      "Feature Information: [('same_srv_rate', 163863.93340376898), ('dst_host_srv_count', 137605.5500466565), ('dst_host_same_srv_rate', 116922.76800447589), ('logged_in', 114591.30239691118), ('dst_host_srv_serror_rate', 94644.56896491503), ('dst_host_serror_rate', 93068.50398806193), ('serror_rate', 92480.069219908), ('srv_serror_rate', 91323.27304188497), ('flag', 90734.32914678488), ('count', 62688.48186756385), ('level', 21221.68175520428), ('dst_host_count', 20619.81623154969), ('protocol_type', 10829.24629114564), ('service', 10431.585195731685), ('srv_rerror_rate', 8651.212571678821), ('dst_host_srv_rerror_rate', 8645.828698530271), ('rerror_rate', 8643.420842149846), ('dst_host_rerror_rate', 8582.793908410691), ('dst_host_diff_srv_rate', 7898.062300562178), ('diff_srv_rate', 5450.899043857213), ('srv_diff_host_rate', 1821.240952660609), ('wrong_fragment', 1169.402573816652), ('dst_host_same_src_port_rate', 1085.8354358278714), ('dst_host_srv_diff_host_rate', 491.312679973909), ('duration', 300.5169072167112), ('is_guest_login', 194.66064153460178), ('num_access_files', 169.90526435191143), ('su_attempted', 63.51416262877653), ('num_file_creations', 57.02159514942941), ('root_shell', 51.85943117431291), ('hot', 21.569171180964513), ('num_root', 16.524715825670054), ('num_compromised', 13.103296766884412), ('num_shells', 11.303290156621701), ('land', 6.513725440441184), ('src_bytes', 4.416868641722326), ('dst_bytes', 2.135720487372507), ('num_failed_logins', 1.7764767886394515), ('urgent', 0.9785328242443746), ('is_host_login', 0.8706296187794307), ('srv_count', 0.07431773664587726), ('num_outbound_cmds', nan)]\n",
      "Feature Sorted: Index(['num_outbound_cmds', 'same_srv_rate', 'dst_host_srv_count',\n",
      "       'dst_host_same_srv_rate', 'logged_in', 'dst_host_srv_serror_rate',\n",
      "       'dst_host_serror_rate', 'serror_rate', 'srv_serror_rate', 'flag',\n",
      "       'count', 'level', 'dst_host_count', 'protocol_type', 'service',\n",
      "       'srv_rerror_rate', 'dst_host_srv_rerror_rate', 'rerror_rate',\n",
      "       'dst_host_rerror_rate', 'dst_host_diff_srv_rate', 'diff_srv_rate',\n",
      "       'srv_diff_host_rate', 'wrong_fragment', 'dst_host_same_src_port_rate',\n",
      "       'dst_host_srv_diff_host_rate', 'duration', 'is_guest_login',\n",
      "       'num_access_files', 'su_attempted', 'num_file_creations', 'root_shell',\n",
      "       'hot', 'num_root', 'num_compromised', 'num_shells', 'land', 'src_bytes',\n",
      "       'dst_bytes', 'num_failed_logins', 'urgent', 'is_host_login',\n",
      "       'srv_count'],\n",
      "      dtype='object')\n",
      "Iteration 1: PEARSON - Num Features: 1, Test Accuracy: 0.4308\n",
      "Iteration 2: PEARSON - Num Features: 2, Test Accuracy: 0.6738\n",
      "Iteration 3: PEARSON - Num Features: 3, Test Accuracy: 0.7022\n",
      "Iteration 4: PEARSON - Num Features: 4, Test Accuracy: 0.7230\n",
      "Iteration 5: PEARSON - Num Features: 5, Test Accuracy: 0.7468\n",
      "Iteration 6: PEARSON - Num Features: 6, Test Accuracy: 0.7413\n",
      "Iteration 7: PEARSON - Num Features: 7, Test Accuracy: 0.7322\n",
      "Iteration 8: PEARSON - Num Features: 8, Test Accuracy: 0.7304\n",
      "Iteration 9: PEARSON - Num Features: 9, Test Accuracy: 0.7293\n",
      "Iteration 10: PEARSON - Num Features: 10, Test Accuracy: 0.7404\n",
      "Iteration 11: PEARSON - Num Features: 11, Test Accuracy: 0.7307\n",
      "Iteration 12: PEARSON - Num Features: 12, Test Accuracy: 0.8689\n",
      "Iteration 13: PEARSON - Num Features: 13, Test Accuracy: 0.8736\n",
      "Iteration 14: PEARSON - Num Features: 14, Test Accuracy: 0.8608\n",
      "Iteration 15: PEARSON - Num Features: 15, Test Accuracy: 0.8557\n",
      "Iteration 16: PEARSON - Num Features: 16, Test Accuracy: 0.8558\n",
      "Iteration 17: PEARSON - Num Features: 17, Test Accuracy: 0.8586\n",
      "Iteration 18: PEARSON - Num Features: 18, Test Accuracy: 0.8585\n",
      "Iteration 19: PEARSON - Num Features: 19, Test Accuracy: 0.8749\n",
      "Iteration 20: PEARSON - Num Features: 20, Test Accuracy: 0.8599\n",
      "Iteration 21: PEARSON - Num Features: 21, Test Accuracy: 0.8589\n",
      "Iteration 22: PEARSON - Num Features: 22, Test Accuracy: 0.8477\n",
      "Iteration 23: PEARSON - Num Features: 23, Test Accuracy: 0.8465\n",
      "Iteration 24: PEARSON - Num Features: 24, Test Accuracy: 0.8593\n",
      "Iteration 25: PEARSON - Num Features: 25, Test Accuracy: 0.8515\n",
      "Iteration 26: PEARSON - Num Features: 26, Test Accuracy: 0.8492\n",
      "Iteration 27: PEARSON - Num Features: 27, Test Accuracy: 0.8557\n",
      "Iteration 28: PEARSON - Num Features: 28, Test Accuracy: 0.8561\n",
      "Iteration 29: PEARSON - Num Features: 29, Test Accuracy: 0.8490\n",
      "Iteration 30: PEARSON - Num Features: 30, Test Accuracy: 0.8350\n",
      "Iteration 31: PEARSON - Num Features: 31, Test Accuracy: 0.8508\n",
      "Iteration 32: PEARSON - Num Features: 32, Test Accuracy: 0.8242\n",
      "Iteration 33: PEARSON - Num Features: 33, Test Accuracy: 0.8364\n",
      "Iteration 34: PEARSON - Num Features: 34, Test Accuracy: 0.8257\n",
      "Iteration 35: PEARSON - Num Features: 35, Test Accuracy: 0.8231\n",
      "Iteration 36: PEARSON - Num Features: 36, Test Accuracy: 0.8253\n",
      "Iteration 37: PEARSON - Num Features: 37, Test Accuracy: 0.8356\n",
      "Iteration 38: PEARSON - Num Features: 38, Test Accuracy: 0.8229\n",
      "Iteration 39: PEARSON - Num Features: 39, Test Accuracy: 0.8361\n",
      "Iteration 40: PEARSON - Num Features: 40, Test Accuracy: 0.8356\n",
      "Iteration 41: PEARSON - Num Features: 41, Test Accuracy: 0.8181\n",
      "Iteration 42: PEARSON - Num Features: 42, Test Accuracy: 0.8284\n"
     ]
    },
    {
     "data": {
      "text/plain": "<Figure size 640x480 with 1 Axes>",
      "image/png": "[encoded data removed]"
     },
     "metadata": {},
     "output_type": "display_data"
    }
   ],
   "source": [
    "select_k_best_pearson = SelectKBest(f_classif, k=X_train.shape[1])\n",
    "evaluate_filter(select_k_best_pearson, \"PEARSON\", X_train, y_train, X_test, y_test)"
   ],
   "metadata": {
    "collapsed": false,
    "ExecuteTime": {
     "end_time": "2024-01-31T16:13:42.526884Z",
     "start_time": "2024-01-31T16:11:20.210581Z"
    }
   },
   "id": "dae24c9fb7692516",
   "execution_count": 7
  },
  {
   "cell_type": "code",
   "outputs": [
    {
     "name": "stdout",
     "output_type": "stream",
     "text": [
      "Feature Information: [('src_bytes', 3340257591.4457445), ('dst_bytes', 1746063122.1702244), ('duration', 7082565.303892097), ('dst_host_srv_count', 6968826.69801921), ('count', 6525616.721263824), ('dst_host_count', 957425.8043037683), ('service', 82437.93955815387), ('flag', 54653.93292607195), ('dst_host_srv_serror_rate', 38543.822243196024), ('srv_serror_rate', 37451.32465887905), ('serror_rate', 37364.83553764291), ('dst_host_serror_rate', 37225.466492949854), ('logged_in', 36259.73858447517), ('num_root', 32550.97103273541), ('num_compromised', 26894.75327950227), ('dst_host_same_srv_rate', 23448.2085387342), ('same_srv_rate', 20826.414096268774), ('srv_rerror_rate', 6997.367717676969), ('rerror_rate', 6923.373013273987), ('dst_host_srv_rerror_rate', 6866.941117392023), ('dst_host_rerror_rate', 6354.755807978947), ('level', 4889.745829142064), ('wrong_fragment', 3282.6784240150096), ('dst_host_diff_srv_rate', 3197.8426151034937), ('diff_srv_rate', 2694.210071542976), ('protocol_type', 1723.289569546626), ('srv_diff_host_rate', 1245.3952621578328), ('num_file_creations', 1053.5739886776714), ('dst_host_same_src_port_rate', 692.7567558492688), ('hot', 487.6709925760863), ('num_access_files', 409.03396567974767), ('is_guest_login', 192.5319501544994), ('dst_host_srv_diff_host_rate', 190.55391013951848), ('su_attempted', 117.30529554402624), ('root_shell', 51.7693680244827), ('srv_count', 14.13591775299517), ('num_shells', 13.471339029383252), ('land', 6.512199407543797), ('num_failed_logins', 2.974008944179703), ('urgent', 1.8171812299380998), ('is_host_login', 0.8706305129042797), ('num_outbound_cmds', nan)]\n",
      "Feature Sorted: Index(['num_outbound_cmds', 'src_bytes', 'dst_bytes', 'duration',\n",
      "       'dst_host_srv_count', 'count', 'dst_host_count', 'service', 'flag',\n",
      "       'dst_host_srv_serror_rate', 'srv_serror_rate', 'serror_rate',\n",
      "       'dst_host_serror_rate', 'logged_in', 'num_root', 'num_compromised',\n",
      "       'dst_host_same_srv_rate', 'same_srv_rate', 'srv_rerror_rate',\n",
      "       'rerror_rate', 'dst_host_srv_rerror_rate', 'dst_host_rerror_rate',\n",
      "       'level', 'wrong_fragment', 'dst_host_diff_srv_rate', 'diff_srv_rate',\n",
      "       'protocol_type', 'srv_diff_host_rate', 'num_file_creations',\n",
      "       'dst_host_same_src_port_rate', 'hot', 'num_access_files',\n",
      "       'is_guest_login', 'dst_host_srv_diff_host_rate', 'su_attempted',\n",
      "       'root_shell', 'srv_count', 'num_shells', 'land', 'num_failed_logins',\n",
      "       'urgent', 'is_host_login'],\n",
      "      dtype='object')\n",
      "Iteration 1: Chi-Squared - Num Features: 1, Test Accuracy: 0.4308\n",
      "Iteration 2: Chi-Squared - Num Features: 2, Test Accuracy: 0.8145\n",
      "Iteration 3: Chi-Squared - Num Features: 3, Test Accuracy: 0.7604\n",
      "Iteration 4: Chi-Squared - Num Features: 4, Test Accuracy: 0.7660\n",
      "Iteration 5: Chi-Squared - Num Features: 5, Test Accuracy: 0.7566\n",
      "Iteration 6: Chi-Squared - Num Features: 6, Test Accuracy: 0.7617\n",
      "Iteration 7: Chi-Squared - Num Features: 7, Test Accuracy: 0.7721\n",
      "Iteration 8: Chi-Squared - Num Features: 8, Test Accuracy: 0.7852\n",
      "Iteration 9: Chi-Squared - Num Features: 9, Test Accuracy: 0.7844\n",
      "Iteration 10: Chi-Squared - Num Features: 10, Test Accuracy: 0.7794\n",
      "Iteration 11: Chi-Squared - Num Features: 11, Test Accuracy: 0.7869\n",
      "Iteration 12: Chi-Squared - Num Features: 12, Test Accuracy: 0.7894\n",
      "Iteration 13: Chi-Squared - Num Features: 13, Test Accuracy: 0.7892\n",
      "Iteration 14: Chi-Squared - Num Features: 14, Test Accuracy: 0.7794\n",
      "Iteration 15: Chi-Squared - Num Features: 15, Test Accuracy: 0.7787\n",
      "Iteration 16: Chi-Squared - Num Features: 16, Test Accuracy: 0.7749\n",
      "Iteration 17: Chi-Squared - Num Features: 17, Test Accuracy: 0.7865\n",
      "Iteration 18: Chi-Squared - Num Features: 18, Test Accuracy: 0.7813\n",
      "Iteration 19: Chi-Squared - Num Features: 19, Test Accuracy: 0.7825\n",
      "Iteration 20: Chi-Squared - Num Features: 20, Test Accuracy: 0.7887\n",
      "Iteration 21: Chi-Squared - Num Features: 21, Test Accuracy: 0.7928\n",
      "Iteration 22: Chi-Squared - Num Features: 22, Test Accuracy: 0.7962\n",
      "Iteration 23: Chi-Squared - Num Features: 23, Test Accuracy: 0.8558\n",
      "Iteration 24: Chi-Squared - Num Features: 24, Test Accuracy: 0.8588\n",
      "Iteration 25: Chi-Squared - Num Features: 25, Test Accuracy: 0.8469\n",
      "Iteration 26: Chi-Squared - Num Features: 26, Test Accuracy: 0.8383\n",
      "Iteration 27: Chi-Squared - Num Features: 27, Test Accuracy: 0.8383\n",
      "Iteration 28: Chi-Squared - Num Features: 28, Test Accuracy: 0.8188\n",
      "Iteration 29: Chi-Squared - Num Features: 29, Test Accuracy: 0.8264\n",
      "Iteration 30: Chi-Squared - Num Features: 30, Test Accuracy: 0.8394\n",
      "Iteration 31: Chi-Squared - Num Features: 31, Test Accuracy: 0.8091\n",
      "Iteration 32: Chi-Squared - Num Features: 32, Test Accuracy: 0.8196\n",
      "Iteration 33: Chi-Squared - Num Features: 33, Test Accuracy: 0.8289\n",
      "Iteration 34: Chi-Squared - Num Features: 34, Test Accuracy: 0.8183\n",
      "Iteration 35: Chi-Squared - Num Features: 35, Test Accuracy: 0.8131\n",
      "Iteration 36: Chi-Squared - Num Features: 36, Test Accuracy: 0.8272\n",
      "Iteration 37: Chi-Squared - Num Features: 37, Test Accuracy: 0.8324\n",
      "Iteration 38: Chi-Squared - Num Features: 38, Test Accuracy: 0.8150\n",
      "Iteration 39: Chi-Squared - Num Features: 39, Test Accuracy: 0.8136\n",
      "Iteration 40: Chi-Squared - Num Features: 40, Test Accuracy: 0.8242\n",
      "Iteration 41: Chi-Squared - Num Features: 41, Test Accuracy: 0.8341\n",
      "Iteration 42: Chi-Squared - Num Features: 42, Test Accuracy: 0.8267\n"
     ]
    },
    {
     "data": {
      "text/plain": "<Figure size 640x480 with 1 Axes>",
      "image/png": "[encoded data removed]"
     },
     "metadata": {},
     "output_type": "display_data"
    }
   ],
   "source": [
    "select_k_best_chi2 = SelectKBest(chi2, k=X_train.shape[1])\n",
    "evaluate_filter(select_k_best_chi2, \"Chi-Squared\", X_train, y_train, X_test, y_test)"
   ],
   "metadata": {
    "collapsed": false,
    "ExecuteTime": {
     "end_time": "2024-01-31T16:16:33.593660Z",
     "start_time": "2024-01-31T16:13:47.070290Z"
    }
   },
   "id": "b9748d06145d3304",
   "execution_count": 8
  },
  {
   "cell_type": "code",
   "outputs": [
    {
     "name": "stderr",
     "output_type": "stream",
     "text": [
      "No artists with labels found to put in legend.  Note that artists whose label start with an underscore are ignored when legend() is called with no argument.\n"
     ]
    },
    {
     "data": {
      "text/plain": "<Figure size 640x480 with 1 Axes>",
      "image/png": "[encoded data removed]"
     },
     "metadata": {},
     "output_type": "display_data"
    }
   ],
   "source": [
    "select_k_best_mutual_info = SelectKBest(mutual_info_classif, k=X_train.shape[1])\n",
    "evaluate_filter(select_k_best_mutual_info, \"Mutual Information\", X_train, y_train, X_test, y_test)"
   ],
   "metadata": {
    "collapsed": false,
    "ExecuteTime": {
     "end_time": "2024-01-31T16:16:37.920656Z",
     "start_time": "2024-01-31T16:16:37.858827Z"
    }
   },
   "id": "ea6090743513d917",
   "execution_count": 9
  },
  {
   "cell_type": "code",
   "outputs": [],
   "source": [
    "import numpy as np\n",
    "from sklearn.base import BaseEstimator\n",
    "from sklearn.metrics import mutual_info_score\n",
    "from scipy.stats import entropy\n",
    "\n",
    "class SymmetricUncertainty(BaseEstimator):\n",
    "    def __init__(self):\n",
    "        self.scores_ = None\n",
    "\n",
    "    def fit(self, X_train, y_train):\n",
    "        if len(X_train) != len(y_train):\n",
    "            raise ValueError(\"Input arrays must have the same length.\")\n",
    "\n",
    "        num_features = X_train.shape[1]\n",
    "        self.scores_ = np.zeros(num_features)\n",
    "\n",
    "        # Use vectorized operations\n",
    "        label_counts = np.bincount(y_train.astype(int))\n",
    "        label_probs = label_counts / len(y_train)\n",
    "        entropy_target = entropy(label_probs, base=2)\n",
    "\n",
    "        # Parallelize the loop for calculating SU scores\n",
    "        def calculate_su(feature_idx):\n",
    "            feature_values = X_train[:, feature_idx]\n",
    "            mutual_info = mutual_info_score(feature_values, y_train)\n",
    "            entropy_feature = entropy(np.bincount(feature_values.astype(int)) / len(feature_values), base=2)\n",
    "            return 2 * mutual_info / (entropy_feature + entropy_target)\n",
    "\n",
    "        from joblib import Parallel, delayed\n",
    "        self.scores_ = Parallel(n_jobs=-1)(delayed(calculate_su)(i) for i in range(num_features))\n",
    "\n",
    "        return self\n"
   ],
   "metadata": {
    "collapsed": false,
    "ExecuteTime": {
     "end_time": "2024-01-31T22:47:57.348209Z",
     "start_time": "2024-01-31T22:47:57.342366Z"
    }
   },
   "id": "10e86c0f96f1ad00",
   "execution_count": 21
  },
  {
   "cell_type": "code",
   "outputs": [],
   "source": [
    "su = SymmetricUncertainty()"
   ],
   "metadata": {
    "collapsed": false,
    "ExecuteTime": {
     "end_time": "2024-01-31T22:48:18.180302Z",
     "start_time": "2024-01-31T22:48:18.174100Z"
    }
   },
   "id": "27b2a09a17813957",
   "execution_count": 22
  },
  {
   "cell_type": "code",
   "outputs": [
    {
     "ename": "InvalidParameterError",
     "evalue": "The 'score_func' parameter of SelectKBest must be a callable. Got SymmetricUncertainty() instead.",
     "output_type": "error",
     "traceback": [
      "\u001B[0;31m---------------------------------------------------------------------------\u001B[0m",
      "\u001B[0;31mInvalidParameterError\u001B[0m                     Traceback (most recent call last)",
      "Cell \u001B[0;32mIn[25], line 2\u001B[0m\n\u001B[1;32m      1\u001B[0m select_k_best_su \u001B[38;5;241m=\u001B[39m SelectKBest(su, k\u001B[38;5;241m=\u001B[39mX_train\u001B[38;5;241m.\u001B[39mshape[\u001B[38;5;241m1\u001B[39m])\n\u001B[0;32m----> 2\u001B[0m \u001B[43mevaluate_filter\u001B[49m\u001B[43m(\u001B[49m\u001B[43mselect_k_best_su\u001B[49m\u001B[43m,\u001B[49m\u001B[43m \u001B[49m\u001B[38;5;124;43m\"\u001B[39;49m\u001B[38;5;124;43mS U\u001B[39;49m\u001B[38;5;124;43m\"\u001B[39;49m\u001B[43m,\u001B[49m\u001B[43m \u001B[49m\u001B[43mX_train\u001B[49m\u001B[43m,\u001B[49m\u001B[43m \u001B[49m\u001B[43my_train\u001B[49m\u001B[43m,\u001B[49m\u001B[43m \u001B[49m\u001B[43mX_test\u001B[49m\u001B[43m,\u001B[49m\u001B[43m \u001B[49m\u001B[43my_test\u001B[49m\u001B[43m)\u001B[49m\n",
      "Cell \u001B[0;32mIn[11], line 8\u001B[0m, in \u001B[0;36mevaluate_filter\u001B[0;34m(filter_method, name, X_train, y_train, X_test, y_test)\u001B[0m\n\u001B[1;32m      5\u001B[0m num_features \u001B[38;5;241m=\u001B[39m []\n\u001B[1;32m      7\u001B[0m \u001B[38;5;66;03m# Fit the filter model\u001B[39;00m\n\u001B[0;32m----> 8\u001B[0m \u001B[43mfilter_model\u001B[49m\u001B[38;5;241;43m.\u001B[39;49m\u001B[43mfit\u001B[49m\u001B[43m(\u001B[49m\u001B[43mX_train\u001B[49m\u001B[43m,\u001B[49m\u001B[43m \u001B[49m\u001B[43my_train\u001B[49m\u001B[43m)\u001B[49m\n\u001B[1;32m     10\u001B[0m \u001B[38;5;66;03m# Sort features or use as is based on the method\u001B[39;00m\n\u001B[1;32m     11\u001B[0m \u001B[38;5;28;01mif\u001B[39;00m \u001B[38;5;28mhasattr\u001B[39m(filter_model, \u001B[38;5;124m'\u001B[39m\u001B[38;5;124mscores_\u001B[39m\u001B[38;5;124m'\u001B[39m):\n",
      "File \u001B[0;32m~/Projects/IntrusionDetection/IntrusionDetection/venv/lib/python3.12/site-packages/sklearn/base.py:1344\u001B[0m, in \u001B[0;36m_fit_context.<locals>.decorator.<locals>.wrapper\u001B[0;34m(estimator, *args, **kwargs)\u001B[0m\n\u001B[1;32m   1339\u001B[0m partial_fit_and_fitted \u001B[38;5;241m=\u001B[39m (\n\u001B[1;32m   1340\u001B[0m     fit_method\u001B[38;5;241m.\u001B[39m\u001B[38;5;18m__name__\u001B[39m \u001B[38;5;241m==\u001B[39m \u001B[38;5;124m\"\u001B[39m\u001B[38;5;124mpartial_fit\u001B[39m\u001B[38;5;124m\"\u001B[39m \u001B[38;5;129;01mand\u001B[39;00m _is_fitted(estimator)\n\u001B[1;32m   1341\u001B[0m )\n\u001B[1;32m   1343\u001B[0m \u001B[38;5;28;01mif\u001B[39;00m \u001B[38;5;129;01mnot\u001B[39;00m global_skip_validation \u001B[38;5;129;01mand\u001B[39;00m \u001B[38;5;129;01mnot\u001B[39;00m partial_fit_and_fitted:\n\u001B[0;32m-> 1344\u001B[0m     \u001B[43mestimator\u001B[49m\u001B[38;5;241;43m.\u001B[39;49m\u001B[43m_validate_params\u001B[49m\u001B[43m(\u001B[49m\u001B[43m)\u001B[49m\n\u001B[1;32m   1346\u001B[0m \u001B[38;5;28;01mwith\u001B[39;00m config_context(\n\u001B[1;32m   1347\u001B[0m     skip_parameter_validation\u001B[38;5;241m=\u001B[39m(\n\u001B[1;32m   1348\u001B[0m         prefer_skip_nested_validation \u001B[38;5;129;01mor\u001B[39;00m global_skip_validation\n\u001B[1;32m   1349\u001B[0m     )\n\u001B[1;32m   1350\u001B[0m ):\n\u001B[1;32m   1351\u001B[0m     \u001B[38;5;28;01mreturn\u001B[39;00m fit_method(estimator, \u001B[38;5;241m*\u001B[39margs, \u001B[38;5;241m*\u001B[39m\u001B[38;5;241m*\u001B[39mkwargs)\n",
      "File \u001B[0;32m~/Projects/IntrusionDetection/IntrusionDetection/venv/lib/python3.12/site-packages/sklearn/base.py:666\u001B[0m, in \u001B[0;36mBaseEstimator._validate_params\u001B[0;34m(self)\u001B[0m\n\u001B[1;32m    658\u001B[0m \u001B[38;5;28;01mdef\u001B[39;00m \u001B[38;5;21m_validate_params\u001B[39m(\u001B[38;5;28mself\u001B[39m):\n\u001B[1;32m    659\u001B[0m \u001B[38;5;250m    \u001B[39m\u001B[38;5;124;03m\"\"\"Validate types and values of constructor parameters\u001B[39;00m\n\u001B[1;32m    660\u001B[0m \n\u001B[1;32m    661\u001B[0m \u001B[38;5;124;03m    The expected type and values must be defined in the `_parameter_constraints`\u001B[39;00m\n\u001B[0;32m   (...)\u001B[0m\n\u001B[1;32m    664\u001B[0m \u001B[38;5;124;03m    accepted constraints.\u001B[39;00m\n\u001B[1;32m    665\u001B[0m \u001B[38;5;124;03m    \"\"\"\u001B[39;00m\n\u001B[0;32m--> 666\u001B[0m     \u001B[43mvalidate_parameter_constraints\u001B[49m\u001B[43m(\u001B[49m\n\u001B[1;32m    667\u001B[0m \u001B[43m        \u001B[49m\u001B[38;5;28;43mself\u001B[39;49m\u001B[38;5;241;43m.\u001B[39;49m\u001B[43m_parameter_constraints\u001B[49m\u001B[43m,\u001B[49m\n\u001B[1;32m    668\u001B[0m \u001B[43m        \u001B[49m\u001B[38;5;28;43mself\u001B[39;49m\u001B[38;5;241;43m.\u001B[39;49m\u001B[43mget_params\u001B[49m\u001B[43m(\u001B[49m\u001B[43mdeep\u001B[49m\u001B[38;5;241;43m=\u001B[39;49m\u001B[38;5;28;43;01mFalse\u001B[39;49;00m\u001B[43m)\u001B[49m\u001B[43m,\u001B[49m\n\u001B[1;32m    669\u001B[0m \u001B[43m        \u001B[49m\u001B[43mcaller_name\u001B[49m\u001B[38;5;241;43m=\u001B[39;49m\u001B[38;5;28;43mself\u001B[39;49m\u001B[38;5;241;43m.\u001B[39;49m\u001B[38;5;18;43m__class__\u001B[39;49m\u001B[38;5;241;43m.\u001B[39;49m\u001B[38;5;18;43m__name__\u001B[39;49m\u001B[43m,\u001B[49m\n\u001B[1;32m    670\u001B[0m \u001B[43m    \u001B[49m\u001B[43m)\u001B[49m\n",
      "File \u001B[0;32m~/Projects/IntrusionDetection/IntrusionDetection/venv/lib/python3.12/site-packages/sklearn/utils/_param_validation.py:95\u001B[0m, in \u001B[0;36mvalidate_parameter_constraints\u001B[0;34m(parameter_constraints, params, caller_name)\u001B[0m\n\u001B[1;32m     89\u001B[0m \u001B[38;5;28;01melse\u001B[39;00m:\n\u001B[1;32m     90\u001B[0m     constraints_str \u001B[38;5;241m=\u001B[39m (\n\u001B[1;32m     91\u001B[0m         \u001B[38;5;124mf\u001B[39m\u001B[38;5;124m\"\u001B[39m\u001B[38;5;132;01m{\u001B[39;00m\u001B[38;5;124m'\u001B[39m\u001B[38;5;124m, \u001B[39m\u001B[38;5;124m'\u001B[39m\u001B[38;5;241m.\u001B[39mjoin([\u001B[38;5;28mstr\u001B[39m(c)\u001B[38;5;250m \u001B[39m\u001B[38;5;28;01mfor\u001B[39;00m\u001B[38;5;250m \u001B[39mc\u001B[38;5;250m \u001B[39m\u001B[38;5;129;01min\u001B[39;00m\u001B[38;5;250m \u001B[39mconstraints[:\u001B[38;5;241m-\u001B[39m\u001B[38;5;241m1\u001B[39m]])\u001B[38;5;132;01m}\u001B[39;00m\u001B[38;5;124m or\u001B[39m\u001B[38;5;124m\"\u001B[39m\n\u001B[1;32m     92\u001B[0m         \u001B[38;5;124mf\u001B[39m\u001B[38;5;124m\"\u001B[39m\u001B[38;5;124m \u001B[39m\u001B[38;5;132;01m{\u001B[39;00mconstraints[\u001B[38;5;241m-\u001B[39m\u001B[38;5;241m1\u001B[39m]\u001B[38;5;132;01m}\u001B[39;00m\u001B[38;5;124m\"\u001B[39m\n\u001B[1;32m     93\u001B[0m     )\n\u001B[0;32m---> 95\u001B[0m \u001B[38;5;28;01mraise\u001B[39;00m InvalidParameterError(\n\u001B[1;32m     96\u001B[0m     \u001B[38;5;124mf\u001B[39m\u001B[38;5;124m\"\u001B[39m\u001B[38;5;124mThe \u001B[39m\u001B[38;5;132;01m{\u001B[39;00mparam_name\u001B[38;5;132;01m!r}\u001B[39;00m\u001B[38;5;124m parameter of \u001B[39m\u001B[38;5;132;01m{\u001B[39;00mcaller_name\u001B[38;5;132;01m}\u001B[39;00m\u001B[38;5;124m must be\u001B[39m\u001B[38;5;124m\"\u001B[39m\n\u001B[1;32m     97\u001B[0m     \u001B[38;5;124mf\u001B[39m\u001B[38;5;124m\"\u001B[39m\u001B[38;5;124m \u001B[39m\u001B[38;5;132;01m{\u001B[39;00mconstraints_str\u001B[38;5;132;01m}\u001B[39;00m\u001B[38;5;124m. Got \u001B[39m\u001B[38;5;132;01m{\u001B[39;00mparam_val\u001B[38;5;132;01m!r}\u001B[39;00m\u001B[38;5;124m instead.\u001B[39m\u001B[38;5;124m\"\u001B[39m\n\u001B[1;32m     98\u001B[0m )\n",
      "\u001B[0;31mInvalidParameterError\u001B[0m: The 'score_func' parameter of SelectKBest must be a callable. Got SymmetricUncertainty() instead."
     ]
    }
   ],
   "source": [
    "select_k_best_su = SelectKBest(su, k=X_train.shape[1])\n",
    "evaluate_filter(select_k_best_su, \"S U\", X_train, y_train, X_test, y_test)"
   ],
   "metadata": {
    "collapsed": false,
    "ExecuteTime": {
     "end_time": "2024-01-31T22:49:36.802957Z",
     "start_time": "2024-01-31T22:49:36.743796Z"
    }
   },
   "id": "cf4ad9a499043e73",
   "execution_count": 25
  },
  {
   "cell_type": "code",
   "outputs": [],
   "source": [],
   "metadata": {
    "collapsed": false
   },
   "id": "175bd5eac46b8c95"
  }
 ],
 "metadata": {
  "kernelspec": {
   "display_name": "Python 3",
   "language": "python",
   "name": "python3"
  },
  "language_info": {
   "codemirror_mode": {
    "name": "ipython",
    "version": 2
   },
   "file_extension": ".py",
   "mimetype": "text/x-python",
   "name": "python",
   "nbconvert_exporter": "python",
   "pygments_lexer": "ipython2",
   "version": "2.7.6"
  }
 },
 "nbformat": 4,
 "nbformat_minor": 5
}
