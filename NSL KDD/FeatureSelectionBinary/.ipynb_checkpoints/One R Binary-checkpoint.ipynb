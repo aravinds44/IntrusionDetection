{
 "cells": [
  {
   "cell_type": "code",
   "execution_count": 1,
   "id": "11af2f0d",
   "metadata": {},
   "outputs": [],
   "source": [
    "import pandas as pd"
   ]
  },
  {
   "cell_type": "code",
   "execution_count": 2,
   "id": "5147f076",
   "metadata": {},
   "outputs": [],
   "source": [
    "#loading encoded data from csv\n",
    "\n",
    "train_encoded = pd.read_csv(\"data/BinaryClassify/train_nsl_kdd_binary_encoded.csv\")\n",
    "test_encoded = pd.read_csv(\"data/BinaryClassify/train_nsl_kdd_binary_encoded.csv\")"
   ]
  },
  {
   "cell_type": "code",
   "execution_count": 3,
   "id": "d0d17958",
   "metadata": {},
   "outputs": [],
   "source": [
    "X = train_encoded.drop('binaryoutcome', axis=1)\n",
    "Y = train_encoded['binaryoutcome']"
   ]
  },
  {
   "cell_type": "code",
   "execution_count": 6,
   "id": "a52064c8",
   "metadata": {},
   "outputs": [
    {
     "name": "stdout",
     "output_type": "stream",
     "text": [
      "Top 10 Features and Their Accuracies:\n",
      "land: 0.9998015432000762\n",
      "urgent: 0.9999285555520274\n",
      "num_failed_logins: 0.9990315308163719\n",
      "root_shell: 0.9986584320325151\n",
      "su_attempted: 0.9993649382402439\n",
      "num_file_creations: 0.9977217159368749\n",
      "num_shells: 0.9996269012161433\n",
      "num_access_files: 0.9970549010891309\n",
      "num_outbound_cmds: 1.0\n",
      "is_host_login: 0.999992061728003\n"
     ]
    }
   ],
   "source": [
    "# Initialize variables to store the top 10 features and their corresponding accuracy\n",
    "top_10_features = []\n",
    "top_10_accuracies = []\n",
    "\n",
    "# Iterate through each feature and evaluate its accuracy using the One-R algorithm\n",
    "for feature in X.columns:\n",
    "    # Create a rule based on the current feature\n",
    "    rule = X[feature].value_counts().idxmax()\n",
    "    \n",
    "    # Apply the rule and calculate accuracy\n",
    "    accuracy = (X[feature] == rule).mean()\n",
    "    \n",
    "    # Update the top 10 features if the current feature has higher accuracy\n",
    "    if len(top_10_features) < 10 or accuracy > min(top_10_accuracies):\n",
    "        if len(top_10_features) == 10:\n",
    "            # Remove the feature with the lowest accuracy if we have more than 10 features\n",
    "            min_index = top_10_accuracies.index(min(top_10_accuracies))\n",
    "            top_10_features.pop(min_index)\n",
    "            top_10_accuracies.pop(min_index)\n",
    "        \n",
    "        # Add the current feature to the top 10 features\n",
    "        top_10_features.append(feature)\n",
    "        top_10_accuracies.append(accuracy)\n",
    "\n",
    "# Display the selected top 10 features and their accuracies\n",
    "print(\"Top 10 Features and Their Accuracies:\")\n",
    "for feature, accuracy in zip(top_10_features, top_10_accuracies):\n",
    "    print(f\"{feature}: {accuracy}\")"
   ]
  },
  {
   "cell_type": "code",
   "execution_count": null,
   "id": "f158c7e4",
   "metadata": {},
   "outputs": [],
   "source": []
  }
 ],
 "metadata": {
  "kernelspec": {
   "display_name": "Python 3 (ipykernel)",
   "language": "python",
   "name": "python3"
  },
  "language_info": {
   "codemirror_mode": {
    "name": "ipython",
    "version": 3
   },
   "file_extension": ".py",
   "mimetype": "text/x-python",
   "name": "python",
   "nbconvert_exporter": "python",
   "pygments_lexer": "ipython3",
   "version": "3.11.4"
  }
 },
 "nbformat": 4,
 "nbformat_minor": 5
}
