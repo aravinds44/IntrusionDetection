{
 "cells": [
  {
   "cell_type": "code",
   "execution_count": 1,
   "id": "6b833a71",
   "metadata": {},
   "outputs": [],
   "source": [
    "import pandas as pd\n",
    "import numpy as np"
   ]
  },
  {
   "cell_type": "code",
   "execution_count": 2,
   "id": "157ba229",
   "metadata": {},
   "outputs": [],
   "source": [
    "#pip install skfeature-chappers"
   ]
  },
  {
   "cell_type": "code",
   "execution_count": 3,
   "id": "ee5159ef",
   "metadata": {},
   "outputs": [],
   "source": [
    "from skfeature.function.similarity_based import fisher_score\n",
    "import pandas as pd\n",
    "import numpy as np"
   ]
  },
  {
   "cell_type": "code",
   "execution_count": 8,
   "id": "1b074e40",
   "metadata": {},
   "outputs": [],
   "source": [
    "#loading encoded data from csv\n",
    "\n",
    "train_encoded = pd.read_csv(\"data/BinaryClassify/train_nsl_kdd_binary_encoded.csv\")\n",
    "test_encoded = pd.read_csv(\"data/BinaryClassify/train_nsl_kdd_binary_encoded.csv\")"
   ]
  },
  {
   "cell_type": "code",
   "execution_count": 9,
   "id": "2dc16785",
   "metadata": {},
   "outputs": [],
   "source": [
    "\n",
    "# Sample a random subset of 10,000 data points\n",
    "subset_size = 15000\n",
    "# train_encoded = train_encoded.sample(n=subset_size, random_state=42)\n",
    "\n",
    "X = train_encoded.drop('binaryoutcome', axis=1)\n",
    "Y = train_encoded['binaryoutcome']\n"
   ]
  },
  {
   "cell_type": "code",
   "execution_count": 10,
   "id": "25bdabbf",
   "metadata": {},
   "outputs": [],
   "source": [
    "# Convert DataFrame to NumPy array\n",
    "X_np = X.values\n",
    "y_np = Y.values"
   ]
  },
  {
   "cell_type": "code",
   "execution_count": 11,
   "id": "ac8d4e02",
   "metadata": {},
   "outputs": [
    {
     "ename": "MemoryError",
     "evalue": "Unable to allocate 51.2 GiB for an array with shape (3437476900, 2) and data type int64",
     "output_type": "error",
     "traceback": [
      "\u001b[1;31m---------------------------------------------------------------------------\u001b[0m",
      "\u001b[1;31mMemoryError\u001b[0m                               Traceback (most recent call last)",
      "Cell \u001b[1;32mIn[11], line 2\u001b[0m\n\u001b[0;32m      1\u001b[0m \u001b[38;5;66;03m# Perform feature selection using Fisher Score\u001b[39;00m\n\u001b[1;32m----> 2\u001b[0m scores \u001b[38;5;241m=\u001b[39m fisher_score\u001b[38;5;241m.\u001b[39mfisher_score(X_np, y_np)\n\u001b[0;32m      4\u001b[0m \u001b[38;5;66;03m# Get the indices of top k features\u001b[39;00m\n\u001b[0;32m      5\u001b[0m k \u001b[38;5;241m=\u001b[39m \u001b[38;5;241m42\u001b[39m  \u001b[38;5;66;03m# Change this value as needed\u001b[39;00m\n",
      "File \u001b[1;32m~\\AppData\\Roaming\\Python\\Python311\\site-packages\\skfeature\\function\\similarity_based\\fisher_score.py:40\u001b[0m, in \u001b[0;36mfisher_score\u001b[1;34m(X, y, mode)\u001b[0m\n\u001b[0;32m     38\u001b[0m \u001b[38;5;66;03m# Construct weight matrix W in a fisherScore way\u001b[39;00m\n\u001b[0;32m     39\u001b[0m kwargs \u001b[38;5;241m=\u001b[39m {\u001b[38;5;124m\"\u001b[39m\u001b[38;5;124mneighbor_mode\u001b[39m\u001b[38;5;124m\"\u001b[39m: \u001b[38;5;124m\"\u001b[39m\u001b[38;5;124msupervised\u001b[39m\u001b[38;5;124m\"\u001b[39m, \u001b[38;5;124m\"\u001b[39m\u001b[38;5;124mfisher_score\u001b[39m\u001b[38;5;124m\"\u001b[39m: \u001b[38;5;28;01mTrue\u001b[39;00m, \u001b[38;5;124m\"\u001b[39m\u001b[38;5;124my\u001b[39m\u001b[38;5;124m\"\u001b[39m: y}\n\u001b[1;32m---> 40\u001b[0m W \u001b[38;5;241m=\u001b[39m construct_W(X, \u001b[38;5;241m*\u001b[39m\u001b[38;5;241m*\u001b[39mkwargs)\n\u001b[0;32m     42\u001b[0m \u001b[38;5;66;03m# build the diagonal D matrix from affinity matrix W\u001b[39;00m\n\u001b[0;32m     43\u001b[0m D \u001b[38;5;241m=\u001b[39m np\u001b[38;5;241m.\u001b[39marray(W\u001b[38;5;241m.\u001b[39msum(axis\u001b[38;5;241m=\u001b[39m\u001b[38;5;241m1\u001b[39m))\n",
      "File \u001b[1;32m~\\AppData\\Roaming\\Python\\Python311\\site-packages\\skfeature\\utility\\construct_W.py:195\u001b[0m, in \u001b[0;36mconstruct_W\u001b[1;34m(X, **kwargs)\u001b[0m\n\u001b[0;32m    193\u001b[0m         class_idx \u001b[38;5;241m=\u001b[39m y \u001b[38;5;241m==\u001b[39m label[i]\n\u001b[0;32m    194\u001b[0m         class_idx_all \u001b[38;5;241m=\u001b[39m class_idx[:, np\u001b[38;5;241m.\u001b[39mnewaxis] \u001b[38;5;241m&\u001b[39m class_idx[np\u001b[38;5;241m.\u001b[39mnewaxis, :]\n\u001b[1;32m--> 195\u001b[0m         W[class_idx_all] \u001b[38;5;241m=\u001b[39m \u001b[38;5;241m1.0\u001b[39m \u001b[38;5;241m/\u001b[39m np\u001b[38;5;241m.\u001b[39msum(np\u001b[38;5;241m.\u001b[39msum(class_idx))\n\u001b[0;32m    196\u001b[0m     \u001b[38;5;28;01mreturn\u001b[39;00m W\n\u001b[0;32m    198\u001b[0m \u001b[38;5;66;03m# construct the weight matrix W in a reliefF way, NH(x) and NM(x,y) denotes a set of k nearest\u001b[39;00m\n\u001b[0;32m    199\u001b[0m \u001b[38;5;66;03m# points to x with the same class as x, a different class (the class y), respectively. W_ij = 1 if i = j;\u001b[39;00m\n\u001b[0;32m    200\u001b[0m \u001b[38;5;66;03m# W_ij = 1/k if x_j \\in NH(x_i); W_ij = -1/(c-1)k if x_j \\in NM(x_i, y)\u001b[39;00m\n",
      "File \u001b[1;32mC:\\ProgramData\\anaconda3\\Lib\\site-packages\\scipy\\sparse\\_lil.py:331\u001b[0m, in \u001b[0;36mlil_matrix.__setitem__\u001b[1;34m(self, key, x)\u001b[0m\n\u001b[0;32m    329\u001b[0m     \u001b[38;5;28;01mreturn\u001b[39;00m \u001b[38;5;28mself\u001b[39m\u001b[38;5;241m.\u001b[39m_set_intXint(key[\u001b[38;5;241m0\u001b[39m], key[\u001b[38;5;241m1\u001b[39m], x)\n\u001b[0;32m    330\u001b[0m \u001b[38;5;66;03m# Everything else takes the normal path.\u001b[39;00m\n\u001b[1;32m--> 331\u001b[0m IndexMixin\u001b[38;5;241m.\u001b[39m\u001b[38;5;21m__setitem__\u001b[39m(\u001b[38;5;28mself\u001b[39m, key, x)\n",
      "File \u001b[1;32mC:\\ProgramData\\anaconda3\\Lib\\site-packages\\scipy\\sparse\\_index.py:97\u001b[0m, in \u001b[0;36mIndexMixin.__setitem__\u001b[1;34m(self, key, x)\u001b[0m\n\u001b[0;32m     96\u001b[0m \u001b[38;5;28;01mdef\u001b[39;00m \u001b[38;5;21m__setitem__\u001b[39m(\u001b[38;5;28mself\u001b[39m, key, x):\n\u001b[1;32m---> 97\u001b[0m     row, col \u001b[38;5;241m=\u001b[39m \u001b[38;5;28mself\u001b[39m\u001b[38;5;241m.\u001b[39m_validate_indices(key)\n\u001b[0;32m     99\u001b[0m     \u001b[38;5;28;01mif\u001b[39;00m \u001b[38;5;28misinstance\u001b[39m(row, INT_TYPES) \u001b[38;5;129;01mand\u001b[39;00m \u001b[38;5;28misinstance\u001b[39m(col, INT_TYPES):\n\u001b[0;32m    100\u001b[0m         x \u001b[38;5;241m=\u001b[39m np\u001b[38;5;241m.\u001b[39masarray(x, dtype\u001b[38;5;241m=\u001b[39m\u001b[38;5;28mself\u001b[39m\u001b[38;5;241m.\u001b[39mdtype)\n",
      "File \u001b[1;32mC:\\ProgramData\\anaconda3\\Lib\\site-packages\\scipy\\sparse\\_index.py:150\u001b[0m, in \u001b[0;36mIndexMixin._validate_indices\u001b[1;34m(self, key)\u001b[0m\n\u001b[0;32m    148\u001b[0m \u001b[38;5;28;01mdef\u001b[39;00m \u001b[38;5;21m_validate_indices\u001b[39m(\u001b[38;5;28mself\u001b[39m, key):\n\u001b[0;32m    149\u001b[0m     M, N \u001b[38;5;241m=\u001b[39m \u001b[38;5;28mself\u001b[39m\u001b[38;5;241m.\u001b[39mshape\n\u001b[1;32m--> 150\u001b[0m     row, col \u001b[38;5;241m=\u001b[39m _unpack_index(key)\n\u001b[0;32m    152\u001b[0m     \u001b[38;5;28;01mif\u001b[39;00m isintlike(row):\n\u001b[0;32m    153\u001b[0m         row \u001b[38;5;241m=\u001b[39m \u001b[38;5;28mint\u001b[39m(row)\n",
      "File \u001b[1;32mC:\\ProgramData\\anaconda3\\Lib\\site-packages\\scipy\\sparse\\_index.py:275\u001b[0m, in \u001b[0;36m_unpack_index\u001b[1;34m(index)\u001b[0m\n\u001b[0;32m    272\u001b[0m \u001b[38;5;28;01mfrom\u001b[39;00m \u001b[38;5;21;01m.\u001b[39;00m\u001b[38;5;21;01m_base\u001b[39;00m \u001b[38;5;28;01mimport\u001b[39;00m spmatrix, isspmatrix\n\u001b[0;32m    273\u001b[0m \u001b[38;5;28;01mif\u001b[39;00m (\u001b[38;5;28misinstance\u001b[39m(index, (spmatrix, np\u001b[38;5;241m.\u001b[39mndarray)) \u001b[38;5;129;01mand\u001b[39;00m\n\u001b[0;32m    274\u001b[0m         index\u001b[38;5;241m.\u001b[39mndim \u001b[38;5;241m==\u001b[39m \u001b[38;5;241m2\u001b[39m \u001b[38;5;129;01mand\u001b[39;00m index\u001b[38;5;241m.\u001b[39mdtype\u001b[38;5;241m.\u001b[39mkind \u001b[38;5;241m==\u001b[39m \u001b[38;5;124m'\u001b[39m\u001b[38;5;124mb\u001b[39m\u001b[38;5;124m'\u001b[39m):\n\u001b[1;32m--> 275\u001b[0m     \u001b[38;5;28;01mreturn\u001b[39;00m index\u001b[38;5;241m.\u001b[39mnonzero()\n\u001b[0;32m    277\u001b[0m \u001b[38;5;66;03m# Parse any ellipses.\u001b[39;00m\n\u001b[0;32m    278\u001b[0m index \u001b[38;5;241m=\u001b[39m _check_ellipsis(index)\n",
      "\u001b[1;31mMemoryError\u001b[0m: Unable to allocate 51.2 GiB for an array with shape (3437476900, 2) and data type int64"
     ]
    }
   ],
   "source": [
    "# Perform feature selection using Fisher Score\n",
    "scores = fisher_score.fisher_score(X_np, y_np)\n",
    "\n",
    "# Get the indices of top k features\n",
    "k = 42  # Change this value as needed\n",
    "top_k_indices = (-scores).argsort()[:k]\n",
    "\n",
    "# Get the selected features\n",
    "selected_features_fisher = X.columns[top_k_indices]\n",
    "\n",
    "# Display the selected features and Fisher Score values\n",
    "print(\"Selected Features and Fisher Score Values:\")\n",
    "for feature, score in zip(selected_features_fisher, scores[top_k_indices]):\n",
    "    print(f\"{feature}: {score}\")"
   ]
  },
  {
   "cell_type": "code",
   "execution_count": null,
   "id": "373dbc75",
   "metadata": {},
   "outputs": [],
   "source": []
  },
  {
   "cell_type": "code",
   "execution_count": null,
   "id": "20d283f0",
   "metadata": {},
   "outputs": [],
   "source": []
  }
 ],
 "metadata": {
  "kernelspec": {
   "display_name": "Python 3 (ipykernel)",
   "language": "python",
   "name": "python3"
  },
  "language_info": {
   "codemirror_mode": {
    "name": "ipython",
    "version": 3
   },
   "file_extension": ".py",
   "mimetype": "text/x-python",
   "name": "python",
   "nbconvert_exporter": "python",
   "pygments_lexer": "ipython3",
   "version": "3.11.7"
  }
 },
 "nbformat": 4,
 "nbformat_minor": 5
}
