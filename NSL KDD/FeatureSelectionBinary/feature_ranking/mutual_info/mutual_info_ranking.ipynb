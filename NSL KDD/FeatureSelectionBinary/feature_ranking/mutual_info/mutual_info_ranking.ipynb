{
 "cells": [
  {
   "cell_type": "code",
   "execution_count": 1,
   "id": "initial_id",
   "metadata": {
    "collapsed": true,
    "ExecuteTime": {
     "end_time": "2024-02-02T19:30:18.031003Z",
     "start_time": "2024-02-02T19:30:17.228671Z"
    }
   },
   "outputs": [],
   "source": [
    "import pandas as pd\n",
    "from sklearn.feature_selection import mutual_info_classif"
   ]
  },
  {
   "cell_type": "code",
   "outputs": [],
   "source": [
    "#loading encoded data from csv\n",
    "\n",
    "df = pd.read_csv(\"../../data/BinaryClassify/train_nsl_kdd_binary_encoded.csv\")"
   ],
   "metadata": {
    "collapsed": false,
    "ExecuteTime": {
     "end_time": "2024-02-02T19:30:27.845852Z",
     "start_time": "2024-02-02T19:30:27.689977Z"
    }
   },
   "id": "199b9bb08148f0b8",
   "execution_count": 2
  },
  {
   "cell_type": "code",
   "outputs": [],
   "source": [
    "# Function to calculate Mutual Information between a feature and the target variable\n",
    "def calculate_mutual_information(feature, target):\n",
    "    return mutual_info_classif(feature.values.reshape(-1, 1), target)\n"
   ],
   "metadata": {
    "collapsed": false,
    "ExecuteTime": {
     "end_time": "2024-02-02T19:31:45.845199Z",
     "start_time": "2024-02-02T19:31:45.840519Z"
    }
   },
   "id": "391564cf74ee2e00",
   "execution_count": 6
  },
  {
   "cell_type": "code",
   "outputs": [],
   "source": [
    "# Calculate Mutual Information for each feature\n",
    "feature_mutual_info_values = {}\n",
    "target_column = 'binaryoutcome'"
   ],
   "metadata": {
    "collapsed": false,
    "ExecuteTime": {
     "end_time": "2024-02-02T19:32:49.073159Z",
     "start_time": "2024-02-02T19:32:49.070490Z"
    }
   },
   "id": "20988a0f8fe2bfbc",
   "execution_count": 9
  },
  {
   "cell_type": "code",
   "outputs": [],
   "source": [
    "for feature_column in df.columns[:-1]:  # Exclude the target column\n",
    "    mutual_info_value = calculate_mutual_information(df[feature_column], df[target_column])\n",
    "    feature_mutual_info_values[feature_column] = mutual_info_value[0]  # Extract the value from the array\n"
   ],
   "metadata": {
    "collapsed": false,
    "ExecuteTime": {
     "end_time": "2024-02-02T19:33:01.479260Z",
     "start_time": "2024-02-02T19:32:49.467928Z"
    }
   },
   "id": "f4d9bbd5809feb43",
   "execution_count": 10
  },
  {
   "cell_type": "code",
   "outputs": [],
   "source": [
    "# Sort the results in descending order\n",
    "sorted_results = sorted(feature_mutual_info_values.items(), key=lambda x: x[1], reverse=True)\n"
   ],
   "metadata": {
    "collapsed": false,
    "ExecuteTime": {
     "end_time": "2024-02-02T19:33:12.534646Z",
     "start_time": "2024-02-02T19:33:12.530626Z"
    }
   },
   "id": "1d770ead80a6c2e4",
   "execution_count": 11
  },
  {
   "cell_type": "code",
   "outputs": [],
   "source": [
    "# Create a DataFrame from the sorted results\n",
    "result_df = pd.DataFrame(sorted_results, columns=['Feature', 'Mutual Information'])\n"
   ],
   "metadata": {
    "collapsed": false,
    "ExecuteTime": {
     "end_time": "2024-02-02T19:33:21.620824Z",
     "start_time": "2024-02-02T19:33:21.616359Z"
    }
   },
   "id": "14e187ff4f40412a",
   "execution_count": 12
  },
  {
   "cell_type": "code",
   "outputs": [
    {
     "data": {
      "text/plain": "                        Feature  Mutual Information\n0                     src_bytes            0.566011\n1                       service            0.468994\n2                     dst_bytes            0.440932\n3                          flag            0.371680\n4                 same_srv_rate            0.367621\n5                 diff_srv_rate            0.360609\n6            dst_host_srv_count            0.337099\n7        dst_host_same_srv_rate            0.312376\n8                     logged_in            0.291848\n9          dst_host_serror_rate            0.287086\n10       dst_host_diff_srv_rate            0.284670\n11     dst_host_srv_serror_rate            0.281125\n12                  serror_rate            0.278151\n13              srv_serror_rate            0.268680\n14                        count            0.263915\n15  dst_host_srv_diff_host_rate            0.189877\n16                        level            0.152726\n17               dst_host_count            0.143882\n18  dst_host_same_src_port_rate            0.132519\n19           srv_diff_host_rate            0.100137\n20                    srv_count            0.064184\n21     dst_host_srv_rerror_rate            0.061556\n22                protocol_type            0.055292\n23                  rerror_rate            0.041006\n24              srv_rerror_rate            0.038439\n25         dst_host_rerror_rate            0.036027\n26                     duration            0.028128\n27                          hot            0.011050\n28               wrong_fragment            0.008038\n29              num_compromised            0.006607\n30                     num_root            0.003475\n31               is_guest_login            0.000789\n32             num_access_files            0.000446\n33           num_file_creations            0.000435\n34                       urgent            0.000254\n35                         land            0.000000\n36            num_failed_logins            0.000000\n37                   root_shell            0.000000\n38                 su_attempted            0.000000\n39                   num_shells            0.000000\n40            num_outbound_cmds            0.000000\n41                is_host_login            0.000000",
      "text/html": "<div>\n<style scoped>\n    .dataframe tbody tr th:only-of-type {\n        vertical-align: middle;\n    }\n\n    .dataframe tbody tr th {\n        vertical-align: top;\n    }\n\n    .dataframe thead th {\n        text-align: right;\n    }\n</style>\n<table border=\"1\" class=\"dataframe\">\n  <thead>\n    <tr style=\"text-align: right;\">\n      <th></th>\n      <th>Feature</th>\n      <th>Mutual Information</th>\n    </tr>\n  </thead>\n  <tbody>\n    <tr>\n      <th>0</th>\n      <td>src_bytes</td>\n      <td>0.566011</td>\n    </tr>\n    <tr>\n      <th>1</th>\n      <td>service</td>\n      <td>0.468994</td>\n    </tr>\n    <tr>\n      <th>2</th>\n      <td>dst_bytes</td>\n      <td>0.440932</td>\n    </tr>\n    <tr>\n      <th>3</th>\n      <td>flag</td>\n      <td>0.371680</td>\n    </tr>\n    <tr>\n      <th>4</th>\n      <td>same_srv_rate</td>\n      <td>0.367621</td>\n    </tr>\n    <tr>\n      <th>5</th>\n      <td>diff_srv_rate</td>\n      <td>0.360609</td>\n    </tr>\n    <tr>\n      <th>6</th>\n      <td>dst_host_srv_count</td>\n      <td>0.337099</td>\n    </tr>\n    <tr>\n      <th>7</th>\n      <td>dst_host_same_srv_rate</td>\n      <td>0.312376</td>\n    </tr>\n    <tr>\n      <th>8</th>\n      <td>logged_in</td>\n      <td>0.291848</td>\n    </tr>\n    <tr>\n      <th>9</th>\n      <td>dst_host_serror_rate</td>\n      <td>0.287086</td>\n    </tr>\n    <tr>\n      <th>10</th>\n      <td>dst_host_diff_srv_rate</td>\n      <td>0.284670</td>\n    </tr>\n    <tr>\n      <th>11</th>\n      <td>dst_host_srv_serror_rate</td>\n      <td>0.281125</td>\n    </tr>\n    <tr>\n      <th>12</th>\n      <td>serror_rate</td>\n      <td>0.278151</td>\n    </tr>\n    <tr>\n      <th>13</th>\n      <td>srv_serror_rate</td>\n      <td>0.268680</td>\n    </tr>\n    <tr>\n      <th>14</th>\n      <td>count</td>\n      <td>0.263915</td>\n    </tr>\n    <tr>\n      <th>15</th>\n      <td>dst_host_srv_diff_host_rate</td>\n      <td>0.189877</td>\n    </tr>\n    <tr>\n      <th>16</th>\n      <td>level</td>\n      <td>0.152726</td>\n    </tr>\n    <tr>\n      <th>17</th>\n      <td>dst_host_count</td>\n      <td>0.143882</td>\n    </tr>\n    <tr>\n      <th>18</th>\n      <td>dst_host_same_src_port_rate</td>\n      <td>0.132519</td>\n    </tr>\n    <tr>\n      <th>19</th>\n      <td>srv_diff_host_rate</td>\n      <td>0.100137</td>\n    </tr>\n    <tr>\n      <th>20</th>\n      <td>srv_count</td>\n      <td>0.064184</td>\n    </tr>\n    <tr>\n      <th>21</th>\n      <td>dst_host_srv_rerror_rate</td>\n      <td>0.061556</td>\n    </tr>\n    <tr>\n      <th>22</th>\n      <td>protocol_type</td>\n      <td>0.055292</td>\n    </tr>\n    <tr>\n      <th>23</th>\n      <td>rerror_rate</td>\n      <td>0.041006</td>\n    </tr>\n    <tr>\n      <th>24</th>\n      <td>srv_rerror_rate</td>\n      <td>0.038439</td>\n    </tr>\n    <tr>\n      <th>25</th>\n      <td>dst_host_rerror_rate</td>\n      <td>0.036027</td>\n    </tr>\n    <tr>\n      <th>26</th>\n      <td>duration</td>\n      <td>0.028128</td>\n    </tr>\n    <tr>\n      <th>27</th>\n      <td>hot</td>\n      <td>0.011050</td>\n    </tr>\n    <tr>\n      <th>28</th>\n      <td>wrong_fragment</td>\n      <td>0.008038</td>\n    </tr>\n    <tr>\n      <th>29</th>\n      <td>num_compromised</td>\n      <td>0.006607</td>\n    </tr>\n    <tr>\n      <th>30</th>\n      <td>num_root</td>\n      <td>0.003475</td>\n    </tr>\n    <tr>\n      <th>31</th>\n      <td>is_guest_login</td>\n      <td>0.000789</td>\n    </tr>\n    <tr>\n      <th>32</th>\n      <td>num_access_files</td>\n      <td>0.000446</td>\n    </tr>\n    <tr>\n      <th>33</th>\n      <td>num_file_creations</td>\n      <td>0.000435</td>\n    </tr>\n    <tr>\n      <th>34</th>\n      <td>urgent</td>\n      <td>0.000254</td>\n    </tr>\n    <tr>\n      <th>35</th>\n      <td>land</td>\n      <td>0.000000</td>\n    </tr>\n    <tr>\n      <th>36</th>\n      <td>num_failed_logins</td>\n      <td>0.000000</td>\n    </tr>\n    <tr>\n      <th>37</th>\n      <td>root_shell</td>\n      <td>0.000000</td>\n    </tr>\n    <tr>\n      <th>38</th>\n      <td>su_attempted</td>\n      <td>0.000000</td>\n    </tr>\n    <tr>\n      <th>39</th>\n      <td>num_shells</td>\n      <td>0.000000</td>\n    </tr>\n    <tr>\n      <th>40</th>\n      <td>num_outbound_cmds</td>\n      <td>0.000000</td>\n    </tr>\n    <tr>\n      <th>41</th>\n      <td>is_host_login</td>\n      <td>0.000000</td>\n    </tr>\n  </tbody>\n</table>\n</div>"
     },
     "execution_count": 13,
     "metadata": {},
     "output_type": "execute_result"
    }
   ],
   "source": [
    "result_df"
   ],
   "metadata": {
    "collapsed": false,
    "ExecuteTime": {
     "end_time": "2024-02-02T19:33:53.818646Z",
     "start_time": "2024-02-02T19:33:53.812824Z"
    }
   },
   "id": "92e24c02ff21e8fb",
   "execution_count": 13
  },
  {
   "cell_type": "code",
   "outputs": [],
   "source": [
    "# Save the results to an Excel file\n",
    "result_df.to_excel('mutual_info_results.xlsx', index=False)"
   ],
   "metadata": {
    "collapsed": false,
    "ExecuteTime": {
     "end_time": "2024-02-02T19:44:08.206636Z",
     "start_time": "2024-02-02T19:44:08.109766Z"
    }
   },
   "id": "5cfc17969dde89cd",
   "execution_count": 14
  },
  {
   "cell_type": "code",
   "outputs": [],
   "source": [],
   "metadata": {
    "collapsed": false
   },
   "id": "8ebea8ed9c73d835"
  }
 ],
 "metadata": {
  "kernelspec": {
   "display_name": "Python 3",
   "language": "python",
   "name": "python3"
  },
  "language_info": {
   "codemirror_mode": {
    "name": "ipython",
    "version": 2
   },
   "file_extension": ".py",
   "mimetype": "text/x-python",
   "name": "python",
   "nbconvert_exporter": "python",
   "pygments_lexer": "ipython2",
   "version": "2.7.6"
  }
 },
 "nbformat": 4,
 "nbformat_minor": 5
}
