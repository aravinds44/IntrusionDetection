{
 "cells": [
  {
   "cell_type": "code",
   "execution_count": 9,
   "id": "initial_id",
   "metadata": {
    "collapsed": true,
    "ExecuteTime": {
     "end_time": "2024-02-10T20:09:35.394573Z",
     "start_time": "2024-02-10T20:09:35.391473Z"
    }
   },
   "outputs": [],
   "source": [
    "import numpy as np\n",
    "from sklearn.preprocessing import MinMaxScaler\n",
    "import pandas as pd"
   ]
  },
  {
   "cell_type": "code",
   "outputs": [],
   "source": [
    "def passi_luuka_feat_sel(data, measure='luca', p=1):\n",
    "    num_classes = int(np.max(data[:, -1]) + 1)  # Number of classes\n",
    "    num_samples = data.shape[0]             # Number of samples\n",
    "    num_features = data.shape[1] - 1        # Number of features\n",
    "\n",
    "    data_old = data.copy()\n",
    "\n",
    "    # Extract features and labels\n",
    "    data_v = data[:, :num_features]\n",
    "    data_c = data[:, num_features]\n",
    "\n",
    "    # Initialize MinMaxScaler\n",
    "    scaler = MinMaxScaler()\n",
    "\n",
    "    # Fit the scaler to the feature data and transform it\n",
    "    data_v = scaler.fit_transform(data_v)\n",
    "\n",
    "    # Concatenate scaled features with labels\n",
    "    data = np.hstack((data_v, data_c.reshape(-1, 1)))\n",
    "\n",
    "    # Forming idealvec using arithmetic mean\n",
    "    idealvec_s = np.zeros((num_classes, num_features))\n",
    "    for k in range(num_classes):\n",
    "        idealvec_s[k, :] = np.mean(data[data[:, -1] == k][:, :num_features], axis=0)\n",
    "\n",
    "    # Sample data\n",
    "    datalearn_s = data[:, :num_features]\n",
    "\n",
    "    # Initialize similarity matrix\n",
    "    sim = np.zeros((num_classes, num_samples, num_features))\n",
    "\n",
    "    # Compute similarities\n",
    "    for i in range(num_classes):\n",
    "        mask = (data[:, -1] == i)\n",
    "        sim[i][mask] = (1 - np.abs(idealvec_s[i] ** p - datalearn_s[mask] ** p)) ** (1 / p)\n",
    "\n",
    "    A = np.sum(sim[0], axis=0)\n",
    "    B = np.sum(sim[1], axis=0)\n",
    "\n",
    "    Mu = A / (A + B)\n",
    "\n",
    "    H = -(Mu * np.log(Mu) + (1 - Mu) * np.log(1 - Mu))\n",
    "\n",
    "    return H\n"
   ],
   "metadata": {
    "collapsed": false,
    "ExecuteTime": {
     "end_time": "2024-02-10T20:09:11.993932Z",
     "start_time": "2024-02-10T20:09:11.989462Z"
    }
   },
   "id": "e78f0e4491514a97",
   "execution_count": 8
  },
  {
   "cell_type": "code",
   "outputs": [],
   "source": [
    "df = pd.read_csv(\"../../data/BinaryClassify/train_nsl_kdd_binary_encoded.csv\")"
   ],
   "metadata": {
    "collapsed": false,
    "ExecuteTime": {
     "end_time": "2024-02-10T20:11:05.208130Z",
     "start_time": "2024-02-10T20:11:05.066828Z"
    }
   },
   "id": "199b7b1ac6101af4",
   "execution_count": 10
  },
  {
   "cell_type": "code",
   "outputs": [],
   "source": [
    "data = np.array(df)"
   ],
   "metadata": {
    "collapsed": false,
    "ExecuteTime": {
     "end_time": "2024-02-10T20:11:17.865256Z",
     "start_time": "2024-02-10T20:11:17.824834Z"
    }
   },
   "id": "417cb19f7bb1ed16",
   "execution_count": 11
  },
  {
   "cell_type": "code",
   "outputs": [],
   "source": [
    "p_luuka_entropy = passi_luuka_feat_sel(data)"
   ],
   "metadata": {
    "collapsed": false,
    "ExecuteTime": {
     "end_time": "2024-02-10T20:19:54.079856Z",
     "start_time": "2024-02-10T20:19:53.991750Z"
    }
   },
   "id": "e5e40da57eebb216",
   "execution_count": 20
  },
  {
   "cell_type": "code",
   "outputs": [],
   "source": [
    "feature_entropy_values = {}\n",
    "\n",
    "for feature_column in df.columns[:-1]:  # Exclude the target column\n",
    "    idx = df.columns.get_loc(feature_column)\n",
    "    feature_entropy_values[feature_column] = p_luuka_entropy[idx]"
   ],
   "metadata": {
    "collapsed": false,
    "ExecuteTime": {
     "end_time": "2024-02-10T20:21:41.814245Z",
     "start_time": "2024-02-10T20:21:41.810139Z"
    }
   },
   "id": "e3154809543210ee",
   "execution_count": 22
  },
  {
   "cell_type": "code",
   "outputs": [],
   "source": [
    "# Sort the results in descending order\n",
    "sorted_results = sorted(feature_entropy_values.items(), key=lambda x: x[1])\n"
   ],
   "metadata": {
    "collapsed": false,
    "ExecuteTime": {
     "end_time": "2024-02-10T20:22:09.627027Z",
     "start_time": "2024-02-10T20:22:09.620818Z"
    }
   },
   "id": "eb532467add04f6e",
   "execution_count": 23
  },
  {
   "cell_type": "code",
   "outputs": [
    {
     "data": {
      "text/plain": "[('dst_host_srv_serror_rate', 0.6220370297819582),\n ('srv_serror_rate', 0.6240198676675358),\n ('serror_rate', 0.6258052872785959),\n ('dst_host_serror_rate', 0.6263134871652549),\n ('same_srv_rate', 0.6638089566073053),\n ('srv_rerror_rate', 0.6686237522545229),\n ('dst_host_srv_rerror_rate', 0.6687463874678481),\n ('rerror_rate', 0.6692347132348808),\n ('dst_host_rerror_rate', 0.6718650027462356),\n ('logged_in', 0.6802573250080093),\n ('count', 0.6820047789010824),\n ('dst_host_same_src_port_rate', 0.683461201288031),\n ('service', 0.6845612765787346),\n ('flag', 0.6864304149179581),\n ('dst_host_diff_srv_rate', 0.6869653573503149),\n ('diff_srv_rate', 0.688718657889495),\n ('dst_host_srv_diff_host_rate', 0.6889881078118948),\n ('level', 0.689044575746235),\n ('wrong_fragment', 0.689507464492956),\n ('duration', 0.6903243925094846),\n ('land', 0.6907398215255411),\n ('src_bytes', 0.6907503751479369),\n ('dst_bytes', 0.6907520357597836),\n ('num_outbound_cmds', 0.6907538405042426),\n ('is_host_login', 0.690754864088059),\n ('urgent', 0.6907556846279409),\n ('num_compromised', 0.6907583275289764),\n ('num_failed_logins', 0.6907585303248585),\n ('num_root', 0.69075896098617),\n ('num_shells', 0.6907683319291422),\n ('num_file_creations', 0.6907866985437175),\n ('hot', 0.6908042398849805),\n ('num_access_files', 0.6908092613502494),\n ('su_attempted', 0.6908233680776245),\n ('root_shell', 0.690855367891924),\n ('srv_count', 0.6908723111726727),\n ('is_guest_login', 0.6912496800963626),\n ('dst_host_srv_count', 0.6917323949590513),\n ('dst_host_same_srv_rate', 0.691881993788376),\n ('protocol_type', 0.692184757653467),\n ('dst_host_count', 0.6922109073827105),\n ('srv_diff_host_rate', 0.6925840866580957)]"
     },
     "execution_count": 24,
     "metadata": {},
     "output_type": "execute_result"
    }
   ],
   "source": [
    "sorted_results"
   ],
   "metadata": {
    "collapsed": false,
    "ExecuteTime": {
     "end_time": "2024-02-10T20:22:15.969697Z",
     "start_time": "2024-02-10T20:22:15.965974Z"
    }
   },
   "id": "3c76155c2dd87f1b",
   "execution_count": 24
  },
  {
   "cell_type": "code",
   "outputs": [],
   "source": [
    "# Create a DataFrame from the sorted results\n",
    "result_df = pd.DataFrame(sorted_results, columns=['Feature', 'PassiLuukaEntropy'])"
   ],
   "metadata": {
    "collapsed": false,
    "ExecuteTime": {
     "end_time": "2024-02-10T20:23:51.697200Z",
     "start_time": "2024-02-10T20:23:51.693557Z"
    }
   },
   "id": "c197d2fa95704fd1",
   "execution_count": 25
  },
  {
   "cell_type": "code",
   "outputs": [
    {
     "data": {
      "text/plain": "                        Feature  PassiLuukaEntropy\n0      dst_host_srv_serror_rate           0.622037\n1               srv_serror_rate           0.624020\n2                   serror_rate           0.625805\n3          dst_host_serror_rate           0.626313\n4                 same_srv_rate           0.663809\n5               srv_rerror_rate           0.668624\n6      dst_host_srv_rerror_rate           0.668746\n7                   rerror_rate           0.669235\n8          dst_host_rerror_rate           0.671865\n9                     logged_in           0.680257\n10                        count           0.682005\n11  dst_host_same_src_port_rate           0.683461\n12                      service           0.684561\n13                         flag           0.686430\n14       dst_host_diff_srv_rate           0.686965\n15                diff_srv_rate           0.688719\n16  dst_host_srv_diff_host_rate           0.688988\n17                        level           0.689045\n18               wrong_fragment           0.689507\n19                     duration           0.690324\n20                         land           0.690740\n21                    src_bytes           0.690750\n22                    dst_bytes           0.690752\n23            num_outbound_cmds           0.690754\n24                is_host_login           0.690755\n25                       urgent           0.690756\n26              num_compromised           0.690758\n27            num_failed_logins           0.690759\n28                     num_root           0.690759\n29                   num_shells           0.690768\n30           num_file_creations           0.690787\n31                          hot           0.690804\n32             num_access_files           0.690809\n33                 su_attempted           0.690823\n34                   root_shell           0.690855\n35                    srv_count           0.690872\n36               is_guest_login           0.691250\n37           dst_host_srv_count           0.691732\n38       dst_host_same_srv_rate           0.691882\n39                protocol_type           0.692185\n40               dst_host_count           0.692211\n41           srv_diff_host_rate           0.692584",
      "text/html": "<div>\n<style scoped>\n    .dataframe tbody tr th:only-of-type {\n        vertical-align: middle;\n    }\n\n    .dataframe tbody tr th {\n        vertical-align: top;\n    }\n\n    .dataframe thead th {\n        text-align: right;\n    }\n</style>\n<table border=\"1\" class=\"dataframe\">\n  <thead>\n    <tr style=\"text-align: right;\">\n      <th></th>\n      <th>Feature</th>\n      <th>PassiLuukaEntropy</th>\n    </tr>\n  </thead>\n  <tbody>\n    <tr>\n      <th>0</th>\n      <td>dst_host_srv_serror_rate</td>\n      <td>0.622037</td>\n    </tr>\n    <tr>\n      <th>1</th>\n      <td>srv_serror_rate</td>\n      <td>0.624020</td>\n    </tr>\n    <tr>\n      <th>2</th>\n      <td>serror_rate</td>\n      <td>0.625805</td>\n    </tr>\n    <tr>\n      <th>3</th>\n      <td>dst_host_serror_rate</td>\n      <td>0.626313</td>\n    </tr>\n    <tr>\n      <th>4</th>\n      <td>same_srv_rate</td>\n      <td>0.663809</td>\n    </tr>\n    <tr>\n      <th>5</th>\n      <td>srv_rerror_rate</td>\n      <td>0.668624</td>\n    </tr>\n    <tr>\n      <th>6</th>\n      <td>dst_host_srv_rerror_rate</td>\n      <td>0.668746</td>\n    </tr>\n    <tr>\n      <th>7</th>\n      <td>rerror_rate</td>\n      <td>0.669235</td>\n    </tr>\n    <tr>\n      <th>8</th>\n      <td>dst_host_rerror_rate</td>\n      <td>0.671865</td>\n    </tr>\n    <tr>\n      <th>9</th>\n      <td>logged_in</td>\n      <td>0.680257</td>\n    </tr>\n    <tr>\n      <th>10</th>\n      <td>count</td>\n      <td>0.682005</td>\n    </tr>\n    <tr>\n      <th>11</th>\n      <td>dst_host_same_src_port_rate</td>\n      <td>0.683461</td>\n    </tr>\n    <tr>\n      <th>12</th>\n      <td>service</td>\n      <td>0.684561</td>\n    </tr>\n    <tr>\n      <th>13</th>\n      <td>flag</td>\n      <td>0.686430</td>\n    </tr>\n    <tr>\n      <th>14</th>\n      <td>dst_host_diff_srv_rate</td>\n      <td>0.686965</td>\n    </tr>\n    <tr>\n      <th>15</th>\n      <td>diff_srv_rate</td>\n      <td>0.688719</td>\n    </tr>\n    <tr>\n      <th>16</th>\n      <td>dst_host_srv_diff_host_rate</td>\n      <td>0.688988</td>\n    </tr>\n    <tr>\n      <th>17</th>\n      <td>level</td>\n      <td>0.689045</td>\n    </tr>\n    <tr>\n      <th>18</th>\n      <td>wrong_fragment</td>\n      <td>0.689507</td>\n    </tr>\n    <tr>\n      <th>19</th>\n      <td>duration</td>\n      <td>0.690324</td>\n    </tr>\n    <tr>\n      <th>20</th>\n      <td>land</td>\n      <td>0.690740</td>\n    </tr>\n    <tr>\n      <th>21</th>\n      <td>src_bytes</td>\n      <td>0.690750</td>\n    </tr>\n    <tr>\n      <th>22</th>\n      <td>dst_bytes</td>\n      <td>0.690752</td>\n    </tr>\n    <tr>\n      <th>23</th>\n      <td>num_outbound_cmds</td>\n      <td>0.690754</td>\n    </tr>\n    <tr>\n      <th>24</th>\n      <td>is_host_login</td>\n      <td>0.690755</td>\n    </tr>\n    <tr>\n      <th>25</th>\n      <td>urgent</td>\n      <td>0.690756</td>\n    </tr>\n    <tr>\n      <th>26</th>\n      <td>num_compromised</td>\n      <td>0.690758</td>\n    </tr>\n    <tr>\n      <th>27</th>\n      <td>num_failed_logins</td>\n      <td>0.690759</td>\n    </tr>\n    <tr>\n      <th>28</th>\n      <td>num_root</td>\n      <td>0.690759</td>\n    </tr>\n    <tr>\n      <th>29</th>\n      <td>num_shells</td>\n      <td>0.690768</td>\n    </tr>\n    <tr>\n      <th>30</th>\n      <td>num_file_creations</td>\n      <td>0.690787</td>\n    </tr>\n    <tr>\n      <th>31</th>\n      <td>hot</td>\n      <td>0.690804</td>\n    </tr>\n    <tr>\n      <th>32</th>\n      <td>num_access_files</td>\n      <td>0.690809</td>\n    </tr>\n    <tr>\n      <th>33</th>\n      <td>su_attempted</td>\n      <td>0.690823</td>\n    </tr>\n    <tr>\n      <th>34</th>\n      <td>root_shell</td>\n      <td>0.690855</td>\n    </tr>\n    <tr>\n      <th>35</th>\n      <td>srv_count</td>\n      <td>0.690872</td>\n    </tr>\n    <tr>\n      <th>36</th>\n      <td>is_guest_login</td>\n      <td>0.691250</td>\n    </tr>\n    <tr>\n      <th>37</th>\n      <td>dst_host_srv_count</td>\n      <td>0.691732</td>\n    </tr>\n    <tr>\n      <th>38</th>\n      <td>dst_host_same_srv_rate</td>\n      <td>0.691882</td>\n    </tr>\n    <tr>\n      <th>39</th>\n      <td>protocol_type</td>\n      <td>0.692185</td>\n    </tr>\n    <tr>\n      <th>40</th>\n      <td>dst_host_count</td>\n      <td>0.692211</td>\n    </tr>\n    <tr>\n      <th>41</th>\n      <td>srv_diff_host_rate</td>\n      <td>0.692584</td>\n    </tr>\n  </tbody>\n</table>\n</div>"
     },
     "execution_count": 26,
     "metadata": {},
     "output_type": "execute_result"
    }
   ],
   "source": [
    "result_df"
   ],
   "metadata": {
    "collapsed": false,
    "ExecuteTime": {
     "end_time": "2024-02-10T20:23:56.202120Z",
     "start_time": "2024-02-10T20:23:56.199231Z"
    }
   },
   "id": "9494dbb2c81dee89",
   "execution_count": 26
  },
  {
   "cell_type": "code",
   "outputs": [],
   "source": [
    "# Save the results to an Excel file\n",
    "result_df.to_excel('passi_luuka_results.xlsx', index=False)"
   ],
   "metadata": {
    "collapsed": false,
    "ExecuteTime": {
     "end_time": "2024-02-10T20:24:43.769630Z",
     "start_time": "2024-02-10T20:24:43.634658Z"
    }
   },
   "id": "5bc7a1683b591446",
   "execution_count": 27
  },
  {
   "cell_type": "code",
   "outputs": [],
   "source": [],
   "metadata": {
    "collapsed": false
   },
   "id": "624fbf545915c5d2"
  }
 ],
 "metadata": {
  "kernelspec": {
   "display_name": "Python 3",
   "language": "python",
   "name": "python3"
  },
  "language_info": {
   "codemirror_mode": {
    "name": "ipython",
    "version": 2
   },
   "file_extension": ".py",
   "mimetype": "text/x-python",
   "name": "python",
   "nbconvert_exporter": "python",
   "pygments_lexer": "ipython2",
   "version": "2.7.6"
  }
 },
 "nbformat": 4,
 "nbformat_minor": 5
}
