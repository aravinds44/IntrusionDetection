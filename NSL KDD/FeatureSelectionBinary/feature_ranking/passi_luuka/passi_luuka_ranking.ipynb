{
 "cells": [
  {
   "cell_type": "code",
   "execution_count": 29,
   "id": "initial_id",
   "metadata": {
    "collapsed": true,
    "ExecuteTime": {
     "end_time": "2024-02-11T12:49:03.435342Z",
     "start_time": "2024-02-11T12:49:03.431441Z"
    }
   },
   "outputs": [],
   "source": [
    "import numpy as np\n",
    "from sklearn.preprocessing import MinMaxScaler\n",
    "import pandas as pd"
   ]
  },
  {
   "cell_type": "code",
   "outputs": [],
   "source": [
    "# def passi_luuka_feat_sel(data, measure='luca', p=1):\n",
    "#     num_classes = int(np.max(data[:, -1]) + 1)  # Number of classes\n",
    "#     num_samples = data.shape[0]             # Number of samples\n",
    "#     num_features = data.shape[1] - 1        # Number of features\n",
    "# \n",
    "#     data_old = data.copy()\n",
    "# \n",
    "#     # Extract features and labels\n",
    "#     data_v = data[:, :num_features]\n",
    "#     data_c = data[:, num_features]\n",
    "# \n",
    "#     # Initialize MinMaxScaler\n",
    "#     scaler = MinMaxScaler()\n",
    "# \n",
    "#     # Fit the scaler to the feature data and transform it\n",
    "#     data_v = scaler.fit_transform(data_v)\n",
    "# \n",
    "#     # Concatenate scaled features with labels\n",
    "#     data = np.hstack((data_v, data_c.reshape(-1, 1)))\n",
    "# \n",
    "#     # Forming idealvec using arithmetic mean\n",
    "#     idealvec_s = np.zeros((num_classes, num_features))\n",
    "#     for k in range(num_classes):\n",
    "#         idealvec_s[k, :] = np.mean(data[data[:, -1] == k][:, :num_features], axis=0)\n",
    "# \n",
    "#     # Sample data\n",
    "#     datalearn_s = data[:, :num_features]\n",
    "# \n",
    "#     # Initialize similarity matrix\n",
    "#     sim = np.zeros((num_classes, num_samples, num_features))\n",
    "# \n",
    "#     # Compute similarities\n",
    "#     for i in range(num_classes):\n",
    "#         mask = (data[:, -1] == i)\n",
    "#         sim[i][mask] = (1 - np.abs(idealvec_s[i] ** p - datalearn_s[mask] ** p)) ** (1 / p)\n",
    "# \n",
    "#     A = np.sum(sim[0], axis=0)\n",
    "#     B = np.sum(sim[1], axis=0)\n",
    "# \n",
    "#     Mu = A / (A + B)\n",
    "# \n",
    "#     H = -(Mu * np.log(Mu) + (1 - Mu) * np.log(1 - Mu))\n",
    "# \n",
    "#     return H\n"
   ],
   "metadata": {
    "collapsed": false,
    "ExecuteTime": {
     "end_time": "2024-02-10T20:09:11.993932Z",
     "start_time": "2024-02-10T20:09:11.989462Z"
    }
   },
   "id": "e78f0e4491514a97",
   "execution_count": 8
  },
  {
   "cell_type": "code",
   "outputs": [],
   "source": [
    "def passi_luuka_feat_sel(data, measure='luca', p=1):\n",
    "    num_classes = int(np.max(data[:, -1]) + 1)  # Number of classes\n",
    "    num_samples = data.shape[0]             # Number of samples\n",
    "    num_features = data.shape[1] - 1        # Number of features\n",
    "\n",
    "    data_old = data.copy()\n",
    "#-------------------------------------------------\n",
    "    # Extract features and labels\n",
    "    data_v = data[:, :num_features]\n",
    "    data_c = data[:, num_features]\n",
    "\n",
    "    # Initialize MinMaxScaler\n",
    "    scaler = MinMaxScaler()\n",
    "\n",
    "    # Fit the scaler to the feature data and transform it\n",
    "    data_v = scaler.fit_transform(data_v)\n",
    "# # --------------------------------\n",
    "#     data_v = data[:, :num_features]  # Extract first t columns\n",
    "#     data_c = data[:, num_features ]  # Extract column t+1 as labels\n",
    "#\n",
    "#     mins_v = np.min(data_v, axis=0)  # Find minimum values along each column\n",
    "#     Ones = np.ones_like(data_v)  # Create matrix of ones with same shape as data_v\n",
    "#\n",
    "#     # Perform matrix multiplication and addition to shift values\n",
    "#     data_v = data_v + Ones @ np.diag(np.abs(mins_v))\n",
    "# # ---------------------------------\n",
    "\n",
    "    # Concatenate scaled features with labels\n",
    "    data = np.hstack((data_v, data_c.reshape(-1, 1)))\n",
    "    # Forming idealvec using arithmetic mean\n",
    "    idealvec_s = np.zeros((num_classes, num_features))\n",
    "    for k in range(num_classes):\n",
    "        idealvec_s[k, :] = np.mean(data[data[:, -1] == k][:, :num_features], axis=0)\n",
    "\n",
    "    # Sample data\n",
    "    datalearn_s = data[:, :num_features]\n",
    "\n",
    "    # Initialize similarity matrix\n",
    "    sim = np.zeros((num_classes, num_samples, num_features))\n",
    "\n",
    "    # Compute similarities\n",
    "    for i in range(num_classes):\n",
    "        mask = (data[:, -1] == i)\n",
    "        sim[i][mask] = (1 - np.abs(idealvec_s[i] ** p - datalearn_s[mask] ** p)) ** (1 / p)\n",
    "\n",
    "    delta = 1E-10\n",
    "    sim[sim == 0] = delta\n",
    "    sim[sim == 1] = 1 - delta\n",
    "\n",
    "    sim = np.reshape(sim,(num_samples*num_classes,num_features))\n",
    "\n",
    "    H = np.sum(-(sim * np.log2(sim) + (1-sim) * np.log2(1-sim)), axis=0)\n",
    "\n",
    "    # ----------------\n",
    "    # A = np.sum(sim[0], axis=0)\n",
    "    # B = np.sum(sim[1], axis=0)\n",
    "    #\n",
    "    # Mu = A / (A + B)\n",
    "    #\n",
    "    # Mu_2 = B / (A+B)\n",
    "    #\n",
    "    # H = -(Mu * np.log2(Mu) + (Mu_2) * np.log2(Mu_2))\n",
    "    # --------------------------\n",
    "\n",
    "    # H = -(Mu * np.log(Mu) + (1 - Mu) * np.log(1 - Mu))\n",
    "\n",
    "    return H"
   ],
   "metadata": {
    "collapsed": false,
    "ExecuteTime": {
     "end_time": "2024-02-11T12:48:59.756885Z",
     "start_time": "2024-02-11T12:48:59.753268Z"
    }
   },
   "id": "64c74e143320ddc0",
   "execution_count": 28
  },
  {
   "cell_type": "code",
   "outputs": [],
   "source": [
    "df = pd.read_csv(\"../../data/BinaryClassify/train_nsl_kdd_binary_encoded.csv\")"
   ],
   "metadata": {
    "collapsed": false,
    "ExecuteTime": {
     "end_time": "2024-02-11T12:49:09.665695Z",
     "start_time": "2024-02-11T12:49:09.498411Z"
    }
   },
   "id": "199b7b1ac6101af4",
   "execution_count": 30
  },
  {
   "cell_type": "code",
   "outputs": [],
   "source": [
    "data = np.array(df)"
   ],
   "metadata": {
    "collapsed": false,
    "ExecuteTime": {
     "end_time": "2024-02-11T12:49:10.681007Z",
     "start_time": "2024-02-11T12:49:10.657960Z"
    }
   },
   "id": "417cb19f7bb1ed16",
   "execution_count": 31
  },
  {
   "cell_type": "code",
   "outputs": [],
   "source": [
    "p_luuka_entropy = passi_luuka_feat_sel(data)"
   ],
   "metadata": {
    "collapsed": false,
    "ExecuteTime": {
     "end_time": "2024-02-11T12:49:14.119733Z",
     "start_time": "2024-02-11T12:49:13.854411Z"
    }
   },
   "id": "e5e40da57eebb216",
   "execution_count": 32
  },
  {
   "cell_type": "code",
   "outputs": [],
   "source": [
    "feature_entropy_values = {}\n",
    "\n",
    "for feature_column in df.columns[:-1]:  # Exclude the target column\n",
    "    idx = df.columns.get_loc(feature_column)\n",
    "    feature_entropy_values[feature_column] = p_luuka_entropy[idx]"
   ],
   "metadata": {
    "collapsed": false,
    "ExecuteTime": {
     "end_time": "2024-02-11T12:49:16.539347Z",
     "start_time": "2024-02-11T12:49:16.533876Z"
    }
   },
   "id": "e3154809543210ee",
   "execution_count": 33
  },
  {
   "cell_type": "code",
   "outputs": [],
   "source": [
    "# Sort the results in descending order\n",
    "sorted_results = sorted(feature_entropy_values.items(), key=lambda x: x[1],reverse=True)\n"
   ],
   "metadata": {
    "collapsed": false,
    "ExecuteTime": {
     "end_time": "2024-02-11T12:52:41.601011Z",
     "start_time": "2024-02-11T12:52:41.594475Z"
    }
   },
   "id": "eb532467add04f6e",
   "execution_count": 36
  },
  {
   "cell_type": "code",
   "outputs": [
    {
     "data": {
      "text/plain": "[('dst_host_count', 92778.09323260994),\n ('dst_host_same_srv_rate', 81964.38259904082),\n ('dst_host_srv_count', 78752.93880708754),\n ('service', 75702.78023313169),\n ('dst_host_same_src_port_rate', 73535.63350375429),\n ('logged_in', 71002.86947704153),\n ('dst_host_serror_rate', 64978.2170593813),\n ('serror_rate', 64908.63186393407),\n ('srv_serror_rate', 64485.18895769182),\n ('dst_host_rerror_rate', 61598.199240626316),\n ('dst_host_srv_rerror_rate', 61511.38859457096),\n ('same_srv_rate', 61338.501010128726),\n ('dst_host_srv_serror_rate', 61241.31001468686),\n ('srv_rerror_rate', 61233.65694092055),\n ('rerror_rate', 61089.5458095035),\n ('protocol_type', 56392.80043503252),\n ('srv_diff_host_rate', 55511.3554640921),\n ('count', 54272.812186863666),\n ('flag', 43813.23923647417),\n ('dst_host_diff_srv_rate', 41596.58032041527),\n ('level', 38894.03041295156),\n ('srv_count', 33862.841075137585),\n ('diff_srv_rate', 32883.16836107924),\n ('dst_host_srv_diff_host_rate', 28134.506598883894),\n ('is_guest_login', 9545.280146912719),\n ('duration', 8678.05212752472),\n ('wrong_fragment', 7186.337456914728),\n ('hot', 4347.221274454734),\n ('root_shell', 1815.4039596494895),\n ('num_access_files', 875.9873858843534),\n ('su_attempted', 814.6210491610781),\n ('num_file_creations', 569.4726583021691),\n ('num_failed_logins', 503.9216699635424),\n ('num_shells', 392.414579885762),\n ('land', 338.73602507950636),\n ('num_root', 99.07283006544276),\n ('num_compromised', 93.34717441888041),\n ('urgent', 82.31404926229318),\n ('src_bytes', 77.19840556390449),\n ('dst_bytes', 35.36388713266825),\n ('is_host_login', 17.48254314435828),\n ('num_outbound_cmds', 0.0008732877240061318)]"
     },
     "execution_count": 37,
     "metadata": {},
     "output_type": "execute_result"
    }
   ],
   "source": [
    "sorted_results"
   ],
   "metadata": {
    "collapsed": false,
    "ExecuteTime": {
     "end_time": "2024-02-11T12:52:42.430886Z",
     "start_time": "2024-02-11T12:52:42.427113Z"
    }
   },
   "id": "3c76155c2dd87f1b",
   "execution_count": 37
  },
  {
   "cell_type": "code",
   "outputs": [],
   "source": [
    "# Create a DataFrame from the sorted results\n",
    "result_df = pd.DataFrame(sorted_results, columns=['Feature', 'PassiLuukaEntropy'])"
   ],
   "metadata": {
    "collapsed": false,
    "ExecuteTime": {
     "end_time": "2024-02-11T12:52:46.938887Z",
     "start_time": "2024-02-11T12:52:46.934071Z"
    }
   },
   "id": "c197d2fa95704fd1",
   "execution_count": 38
  },
  {
   "cell_type": "code",
   "outputs": [
    {
     "data": {
      "text/plain": "                        Feature  PassiLuukaEntropy\n0                dst_host_count       92778.093233\n1        dst_host_same_srv_rate       81964.382599\n2            dst_host_srv_count       78752.938807\n3                       service       75702.780233\n4   dst_host_same_src_port_rate       73535.633504\n5                     logged_in       71002.869477\n6          dst_host_serror_rate       64978.217059\n7                   serror_rate       64908.631864\n8               srv_serror_rate       64485.188958\n9          dst_host_rerror_rate       61598.199241\n10     dst_host_srv_rerror_rate       61511.388595\n11                same_srv_rate       61338.501010\n12     dst_host_srv_serror_rate       61241.310015\n13              srv_rerror_rate       61233.656941\n14                  rerror_rate       61089.545810\n15                protocol_type       56392.800435\n16           srv_diff_host_rate       55511.355464\n17                        count       54272.812187\n18                         flag       43813.239236\n19       dst_host_diff_srv_rate       41596.580320\n20                        level       38894.030413\n21                    srv_count       33862.841075\n22                diff_srv_rate       32883.168361\n23  dst_host_srv_diff_host_rate       28134.506599\n24               is_guest_login        9545.280147\n25                     duration        8678.052128\n26               wrong_fragment        7186.337457\n27                          hot        4347.221274\n28                   root_shell        1815.403960\n29             num_access_files         875.987386\n30                 su_attempted         814.621049\n31           num_file_creations         569.472658\n32            num_failed_logins         503.921670\n33                   num_shells         392.414580\n34                         land         338.736025\n35                     num_root          99.072830\n36              num_compromised          93.347174\n37                       urgent          82.314049\n38                    src_bytes          77.198406\n39                    dst_bytes          35.363887\n40                is_host_login          17.482543\n41            num_outbound_cmds           0.000873",
      "text/html": "<div>\n<style scoped>\n    .dataframe tbody tr th:only-of-type {\n        vertical-align: middle;\n    }\n\n    .dataframe tbody tr th {\n        vertical-align: top;\n    }\n\n    .dataframe thead th {\n        text-align: right;\n    }\n</style>\n<table border=\"1\" class=\"dataframe\">\n  <thead>\n    <tr style=\"text-align: right;\">\n      <th></th>\n      <th>Feature</th>\n      <th>PassiLuukaEntropy</th>\n    </tr>\n  </thead>\n  <tbody>\n    <tr>\n      <th>0</th>\n      <td>dst_host_count</td>\n      <td>92778.093233</td>\n    </tr>\n    <tr>\n      <th>1</th>\n      <td>dst_host_same_srv_rate</td>\n      <td>81964.382599</td>\n    </tr>\n    <tr>\n      <th>2</th>\n      <td>dst_host_srv_count</td>\n      <td>78752.938807</td>\n    </tr>\n    <tr>\n      <th>3</th>\n      <td>service</td>\n      <td>75702.780233</td>\n    </tr>\n    <tr>\n      <th>4</th>\n      <td>dst_host_same_src_port_rate</td>\n      <td>73535.633504</td>\n    </tr>\n    <tr>\n      <th>5</th>\n      <td>logged_in</td>\n      <td>71002.869477</td>\n    </tr>\n    <tr>\n      <th>6</th>\n      <td>dst_host_serror_rate</td>\n      <td>64978.217059</td>\n    </tr>\n    <tr>\n      <th>7</th>\n      <td>serror_rate</td>\n      <td>64908.631864</td>\n    </tr>\n    <tr>\n      <th>8</th>\n      <td>srv_serror_rate</td>\n      <td>64485.188958</td>\n    </tr>\n    <tr>\n      <th>9</th>\n      <td>dst_host_rerror_rate</td>\n      <td>61598.199241</td>\n    </tr>\n    <tr>\n      <th>10</th>\n      <td>dst_host_srv_rerror_rate</td>\n      <td>61511.388595</td>\n    </tr>\n    <tr>\n      <th>11</th>\n      <td>same_srv_rate</td>\n      <td>61338.501010</td>\n    </tr>\n    <tr>\n      <th>12</th>\n      <td>dst_host_srv_serror_rate</td>\n      <td>61241.310015</td>\n    </tr>\n    <tr>\n      <th>13</th>\n      <td>srv_rerror_rate</td>\n      <td>61233.656941</td>\n    </tr>\n    <tr>\n      <th>14</th>\n      <td>rerror_rate</td>\n      <td>61089.545810</td>\n    </tr>\n    <tr>\n      <th>15</th>\n      <td>protocol_type</td>\n      <td>56392.800435</td>\n    </tr>\n    <tr>\n      <th>16</th>\n      <td>srv_diff_host_rate</td>\n      <td>55511.355464</td>\n    </tr>\n    <tr>\n      <th>17</th>\n      <td>count</td>\n      <td>54272.812187</td>\n    </tr>\n    <tr>\n      <th>18</th>\n      <td>flag</td>\n      <td>43813.239236</td>\n    </tr>\n    <tr>\n      <th>19</th>\n      <td>dst_host_diff_srv_rate</td>\n      <td>41596.580320</td>\n    </tr>\n    <tr>\n      <th>20</th>\n      <td>level</td>\n      <td>38894.030413</td>\n    </tr>\n    <tr>\n      <th>21</th>\n      <td>srv_count</td>\n      <td>33862.841075</td>\n    </tr>\n    <tr>\n      <th>22</th>\n      <td>diff_srv_rate</td>\n      <td>32883.168361</td>\n    </tr>\n    <tr>\n      <th>23</th>\n      <td>dst_host_srv_diff_host_rate</td>\n      <td>28134.506599</td>\n    </tr>\n    <tr>\n      <th>24</th>\n      <td>is_guest_login</td>\n      <td>9545.280147</td>\n    </tr>\n    <tr>\n      <th>25</th>\n      <td>duration</td>\n      <td>8678.052128</td>\n    </tr>\n    <tr>\n      <th>26</th>\n      <td>wrong_fragment</td>\n      <td>7186.337457</td>\n    </tr>\n    <tr>\n      <th>27</th>\n      <td>hot</td>\n      <td>4347.221274</td>\n    </tr>\n    <tr>\n      <th>28</th>\n      <td>root_shell</td>\n      <td>1815.403960</td>\n    </tr>\n    <tr>\n      <th>29</th>\n      <td>num_access_files</td>\n      <td>875.987386</td>\n    </tr>\n    <tr>\n      <th>30</th>\n      <td>su_attempted</td>\n      <td>814.621049</td>\n    </tr>\n    <tr>\n      <th>31</th>\n      <td>num_file_creations</td>\n      <td>569.472658</td>\n    </tr>\n    <tr>\n      <th>32</th>\n      <td>num_failed_logins</td>\n      <td>503.921670</td>\n    </tr>\n    <tr>\n      <th>33</th>\n      <td>num_shells</td>\n      <td>392.414580</td>\n    </tr>\n    <tr>\n      <th>34</th>\n      <td>land</td>\n      <td>338.736025</td>\n    </tr>\n    <tr>\n      <th>35</th>\n      <td>num_root</td>\n      <td>99.072830</td>\n    </tr>\n    <tr>\n      <th>36</th>\n      <td>num_compromised</td>\n      <td>93.347174</td>\n    </tr>\n    <tr>\n      <th>37</th>\n      <td>urgent</td>\n      <td>82.314049</td>\n    </tr>\n    <tr>\n      <th>38</th>\n      <td>src_bytes</td>\n      <td>77.198406</td>\n    </tr>\n    <tr>\n      <th>39</th>\n      <td>dst_bytes</td>\n      <td>35.363887</td>\n    </tr>\n    <tr>\n      <th>40</th>\n      <td>is_host_login</td>\n      <td>17.482543</td>\n    </tr>\n    <tr>\n      <th>41</th>\n      <td>num_outbound_cmds</td>\n      <td>0.000873</td>\n    </tr>\n  </tbody>\n</table>\n</div>"
     },
     "execution_count": 39,
     "metadata": {},
     "output_type": "execute_result"
    }
   ],
   "source": [
    "result_df"
   ],
   "metadata": {
    "collapsed": false,
    "ExecuteTime": {
     "end_time": "2024-02-11T12:52:47.623763Z",
     "start_time": "2024-02-11T12:52:47.619884Z"
    }
   },
   "id": "9494dbb2c81dee89",
   "execution_count": 39
  },
  {
   "cell_type": "code",
   "outputs": [],
   "source": [
    "# Save the results to an Excel file\n",
    "result_df.to_excel('passi_luuka_results.xlsx', index=False)"
   ],
   "metadata": {
    "collapsed": false,
    "ExecuteTime": {
     "end_time": "2024-02-11T12:55:14.292130Z",
     "start_time": "2024-02-11T12:55:14.266607Z"
    }
   },
   "id": "5bc7a1683b591446",
   "execution_count": 42
  },
  {
   "cell_type": "code",
   "outputs": [
    {
     "data": {
      "text/plain": "   duration  protocol_type  service  flag  src_bytes  dst_bytes  land  \\\n0         0              2       44     9        146          0     0   \n1         0              1       49     5          0          0     0   \n2         0              1       24     9        232       8153     0   \n3         0              1       24     9        199        420     0   \n4         0              1       49     1          0          0     0   \n\n   wrong_fragment  urgent  hot  ...  dst_host_same_srv_rate  \\\n0               0       0    0  ...                    0.00   \n1               0       0    0  ...                    0.10   \n2               0       0    0  ...                    1.00   \n3               0       0    0  ...                    1.00   \n4               0       0    0  ...                    0.07   \n\n   dst_host_diff_srv_rate  dst_host_same_src_port_rate  \\\n0                    0.60                         0.88   \n1                    0.05                         0.00   \n2                    0.00                         0.03   \n3                    0.00                         0.00   \n4                    0.07                         0.00   \n\n   dst_host_srv_diff_host_rate  dst_host_serror_rate  \\\n0                         0.00                  0.00   \n1                         0.00                  1.00   \n2                         0.04                  0.03   \n3                         0.00                  0.00   \n4                         0.00                  0.00   \n\n   dst_host_srv_serror_rate  dst_host_rerror_rate  dst_host_srv_rerror_rate  \\\n0                      0.00                   0.0                      0.00   \n1                      1.00                   0.0                      0.00   \n2                      0.01                   0.0                      0.01   \n3                      0.00                   0.0                      0.00   \n4                      0.00                   1.0                      1.00   \n\n   level  binaryoutcome  \n0     15              1  \n1     19              0  \n2     21              1  \n3     21              1  \n4     21              0  \n\n[5 rows x 43 columns]",
      "text/html": "<div>\n<style scoped>\n    .dataframe tbody tr th:only-of-type {\n        vertical-align: middle;\n    }\n\n    .dataframe tbody tr th {\n        vertical-align: top;\n    }\n\n    .dataframe thead th {\n        text-align: right;\n    }\n</style>\n<table border=\"1\" class=\"dataframe\">\n  <thead>\n    <tr style=\"text-align: right;\">\n      <th></th>\n      <th>duration</th>\n      <th>protocol_type</th>\n      <th>service</th>\n      <th>flag</th>\n      <th>src_bytes</th>\n      <th>dst_bytes</th>\n      <th>land</th>\n      <th>wrong_fragment</th>\n      <th>urgent</th>\n      <th>hot</th>\n      <th>...</th>\n      <th>dst_host_same_srv_rate</th>\n      <th>dst_host_diff_srv_rate</th>\n      <th>dst_host_same_src_port_rate</th>\n      <th>dst_host_srv_diff_host_rate</th>\n      <th>dst_host_serror_rate</th>\n      <th>dst_host_srv_serror_rate</th>\n      <th>dst_host_rerror_rate</th>\n      <th>dst_host_srv_rerror_rate</th>\n      <th>level</th>\n      <th>binaryoutcome</th>\n    </tr>\n  </thead>\n  <tbody>\n    <tr>\n      <th>0</th>\n      <td>0</td>\n      <td>2</td>\n      <td>44</td>\n      <td>9</td>\n      <td>146</td>\n      <td>0</td>\n      <td>0</td>\n      <td>0</td>\n      <td>0</td>\n      <td>0</td>\n      <td>...</td>\n      <td>0.00</td>\n      <td>0.60</td>\n      <td>0.88</td>\n      <td>0.00</td>\n      <td>0.00</td>\n      <td>0.00</td>\n      <td>0.0</td>\n      <td>0.00</td>\n      <td>15</td>\n      <td>1</td>\n    </tr>\n    <tr>\n      <th>1</th>\n      <td>0</td>\n      <td>1</td>\n      <td>49</td>\n      <td>5</td>\n      <td>0</td>\n      <td>0</td>\n      <td>0</td>\n      <td>0</td>\n      <td>0</td>\n      <td>0</td>\n      <td>...</td>\n      <td>0.10</td>\n      <td>0.05</td>\n      <td>0.00</td>\n      <td>0.00</td>\n      <td>1.00</td>\n      <td>1.00</td>\n      <td>0.0</td>\n      <td>0.00</td>\n      <td>19</td>\n      <td>0</td>\n    </tr>\n    <tr>\n      <th>2</th>\n      <td>0</td>\n      <td>1</td>\n      <td>24</td>\n      <td>9</td>\n      <td>232</td>\n      <td>8153</td>\n      <td>0</td>\n      <td>0</td>\n      <td>0</td>\n      <td>0</td>\n      <td>...</td>\n      <td>1.00</td>\n      <td>0.00</td>\n      <td>0.03</td>\n      <td>0.04</td>\n      <td>0.03</td>\n      <td>0.01</td>\n      <td>0.0</td>\n      <td>0.01</td>\n      <td>21</td>\n      <td>1</td>\n    </tr>\n    <tr>\n      <th>3</th>\n      <td>0</td>\n      <td>1</td>\n      <td>24</td>\n      <td>9</td>\n      <td>199</td>\n      <td>420</td>\n      <td>0</td>\n      <td>0</td>\n      <td>0</td>\n      <td>0</td>\n      <td>...</td>\n      <td>1.00</td>\n      <td>0.00</td>\n      <td>0.00</td>\n      <td>0.00</td>\n      <td>0.00</td>\n      <td>0.00</td>\n      <td>0.0</td>\n      <td>0.00</td>\n      <td>21</td>\n      <td>1</td>\n    </tr>\n    <tr>\n      <th>4</th>\n      <td>0</td>\n      <td>1</td>\n      <td>49</td>\n      <td>1</td>\n      <td>0</td>\n      <td>0</td>\n      <td>0</td>\n      <td>0</td>\n      <td>0</td>\n      <td>0</td>\n      <td>...</td>\n      <td>0.07</td>\n      <td>0.07</td>\n      <td>0.00</td>\n      <td>0.00</td>\n      <td>0.00</td>\n      <td>0.00</td>\n      <td>1.0</td>\n      <td>1.00</td>\n      <td>21</td>\n      <td>0</td>\n    </tr>\n  </tbody>\n</table>\n<p>5 rows × 43 columns</p>\n</div>"
     },
     "execution_count": 40,
     "metadata": {},
     "output_type": "execute_result"
    }
   ],
   "source": [
    "df.head()"
   ],
   "metadata": {
    "collapsed": false,
    "ExecuteTime": {
     "end_time": "2024-02-11T12:53:19.075089Z",
     "start_time": "2024-02-11T12:53:19.062678Z"
    }
   },
   "id": "624fbf545915c5d2",
   "execution_count": 40
  },
  {
   "cell_type": "code",
   "outputs": [
    {
     "data": {
      "text/plain": "19"
     },
     "execution_count": 41,
     "metadata": {},
     "output_type": "execute_result"
    }
   ],
   "source": [
    "df.columns.get_loc('num_outbound_cmds')"
   ],
   "metadata": {
    "collapsed": false,
    "ExecuteTime": {
     "end_time": "2024-02-11T12:54:41.081354Z",
     "start_time": "2024-02-11T12:54:41.052293Z"
    }
   },
   "id": "e0a39f81361a95da",
   "execution_count": 41
  },
  {
   "cell_type": "code",
   "outputs": [],
   "source": [],
   "metadata": {
    "collapsed": false
   },
   "id": "3963d23b6dbfd428"
  }
 ],
 "metadata": {
  "kernelspec": {
   "display_name": "Python 3",
   "language": "python",
   "name": "python3"
  },
  "language_info": {
   "codemirror_mode": {
    "name": "ipython",
    "version": 2
   },
   "file_extension": ".py",
   "mimetype": "text/x-python",
   "name": "python",
   "nbconvert_exporter": "python",
   "pygments_lexer": "ipython2",
   "version": "2.7.6"
  }
 },
 "nbformat": 4,
 "nbformat_minor": 5
}
