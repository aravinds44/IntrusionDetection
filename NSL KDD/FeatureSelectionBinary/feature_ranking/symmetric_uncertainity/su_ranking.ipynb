{
 "cells": [
  {
   "cell_type": "code",
   "execution_count": 1,
   "id": "initial_id",
   "metadata": {
    "collapsed": true,
    "ExecuteTime": {
     "end_time": "2024-02-02T19:42:14.288038Z",
     "start_time": "2024-02-02T19:42:13.546678Z"
    }
   },
   "outputs": [],
   "source": [
    "import pandas as pd\n",
    "from sklearn.feature_selection import mutual_info_classif\n",
    "import numpy as np"
   ]
  },
  {
   "cell_type": "code",
   "outputs": [],
   "source": [
    "#loading encoded data from csv\n",
    "\n",
    "df = pd.read_csv(\"../../data/BinaryClassify/train_nsl_kdd_binary_encoded.csv\")"
   ],
   "metadata": {
    "collapsed": false,
    "ExecuteTime": {
     "end_time": "2024-02-02T19:42:25.308912Z",
     "start_time": "2024-02-02T19:42:25.158075Z"
    }
   },
   "id": "2d9c58d863f9b84b",
   "execution_count": 2
  },
  {
   "cell_type": "code",
   "outputs": [],
   "source": [
    "# Function to calculate Entropy\n",
    "def calculate_entropy(data):\n",
    "    _, counts = np.unique(data, return_counts=True)\n",
    "    probabilities = counts / len(data)\n",
    "    entropy = -np.sum(probabilities * np.log2(probabilities))\n",
    "    return entropy"
   ],
   "metadata": {
    "collapsed": false,
    "ExecuteTime": {
     "end_time": "2024-02-02T19:42:46.174908Z",
     "start_time": "2024-02-02T19:42:46.171279Z"
    }
   },
   "id": "535ed420d331a54f",
   "execution_count": 4
  },
  {
   "cell_type": "code",
   "outputs": [],
   "source": [
    "# Function to calculate Symmetric Uncertainty between a feature and the target variable\n",
    "def calculate_symmetric_uncertainty(feature, target):\n",
    "    mutual_info = mutual_info_classif(feature.values.reshape(-1, 1), target)\n",
    "    entropy_feature = calculate_entropy(feature)\n",
    "    entropy_target = calculate_entropy(target)\n",
    "    \n",
    "    if entropy_feature + entropy_target == 0:\n",
    "        return 0  # Avoid division by zero\n",
    "    \n",
    "    symmetric_uncertainty = 2 * mutual_info / (entropy_feature + entropy_target)\n",
    "\n",
    "    return symmetric_uncertainty[0]  # Extract the value from the array\n"
   ],
   "metadata": {
    "collapsed": false,
    "ExecuteTime": {
     "end_time": "2024-02-02T19:42:53.470823Z",
     "start_time": "2024-02-02T19:42:53.467646Z"
    }
   },
   "id": "6a8b2ee66e4f94ae",
   "execution_count": 5
  },
  {
   "cell_type": "code",
   "outputs": [],
   "source": [
    "# Calculate Symmetric Uncertainty for each feature\n",
    "feature_su_values = {}\n",
    "target_column = 'binaryoutcome'\n"
   ],
   "metadata": {
    "collapsed": false,
    "ExecuteTime": {
     "end_time": "2024-02-02T19:43:06.764266Z",
     "start_time": "2024-02-02T19:43:06.760788Z"
    }
   },
   "id": "695ce8b5556c9d65",
   "execution_count": 6
  },
  {
   "cell_type": "code",
   "outputs": [],
   "source": [
    "for feature_column in df.columns[:-1]:  # Exclude the target column\n",
    "    su_value = calculate_symmetric_uncertainty(df[feature_column], df[target_column])\n",
    "    feature_su_values[feature_column] = su_value"
   ],
   "metadata": {
    "collapsed": false,
    "ExecuteTime": {
     "end_time": "2024-02-02T19:43:27.356577Z",
     "start_time": "2024-02-02T19:43:15.083938Z"
    }
   },
   "id": "f578bbb7b4b373b8",
   "execution_count": 7
  },
  {
   "cell_type": "code",
   "outputs": [],
   "source": [
    "# Sort the results in descending order\n",
    "sorted_results = sorted(feature_su_values.items(), key=lambda x: x[1], reverse=True)"
   ],
   "metadata": {
    "collapsed": false,
    "ExecuteTime": {
     "end_time": "2024-02-02T19:43:33.297782Z",
     "start_time": "2024-02-02T19:43:33.294217Z"
    }
   },
   "id": "2b90af3838900414",
   "execution_count": 8
  },
  {
   "cell_type": "code",
   "outputs": [],
   "source": [
    "# Create a DataFrame from the sorted results\n",
    "result_df = pd.DataFrame(sorted_results, columns=['Feature', 'Symmetric Uncertainty'])"
   ],
   "metadata": {
    "collapsed": false,
    "ExecuteTime": {
     "end_time": "2024-02-02T19:43:40.946244Z",
     "start_time": "2024-02-02T19:43:40.942474Z"
    }
   },
   "id": "8a096414b120fedd",
   "execution_count": 9
  },
  {
   "cell_type": "code",
   "outputs": [],
   "source": [
    "# Save the results to an Excel file\n",
    "result_df.to_excel('symmetric_uncertainty_results.xlsx', index=False)"
   ],
   "metadata": {
    "collapsed": false,
    "ExecuteTime": {
     "end_time": "2024-02-02T19:43:52.852838Z",
     "start_time": "2024-02-02T19:43:52.750299Z"
    }
   },
   "id": "7f2b17e4b8a70a35",
   "execution_count": 10
  },
  {
   "cell_type": "code",
   "outputs": [],
   "source": [],
   "metadata": {
    "collapsed": false
   },
   "id": "f38cb6588839f011"
  }
 ],
 "metadata": {
  "kernelspec": {
   "display_name": "Python 3",
   "language": "python",
   "name": "python3"
  },
  "language_info": {
   "codemirror_mode": {
    "name": "ipython",
    "version": 2
   },
   "file_extension": ".py",
   "mimetype": "text/x-python",
   "name": "python",
   "nbconvert_exporter": "python",
   "pygments_lexer": "ipython2",
   "version": "2.7.6"
  }
 },
 "nbformat": 4,
 "nbformat_minor": 5
}
