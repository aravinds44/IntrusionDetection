{
 "cells": [
  {
   "cell_type": "code",
   "execution_count": 10,
   "id": "initial_id",
   "metadata": {
    "collapsed": true,
    "ExecuteTime": {
     "end_time": "2024-02-02T13:29:57.739563Z",
     "start_time": "2024-02-02T13:29:57.733968Z"
    }
   },
   "outputs": [],
   "source": [
    "import pandas as pd\n",
    "from scipy.stats import chi2_contingency"
   ]
  },
  {
   "cell_type": "code",
   "outputs": [],
   "source": [
    "#loading encoded data from csv\n",
    "\n",
    "df = pd.read_csv(\"../../data/BinaryClassify/train_nsl_kdd_binary_encoded.csv\")"
   ],
   "metadata": {
    "collapsed": false,
    "ExecuteTime": {
     "end_time": "2024-02-02T13:29:59.442317Z",
     "start_time": "2024-02-02T13:29:59.288684Z"
    }
   },
   "id": "f12da9f2a240dfe",
   "execution_count": 11
  },
  {
   "cell_type": "code",
   "outputs": [
    {
     "data": {
      "text/plain": "        duration  protocol_type  service  flag  src_bytes  dst_bytes  land  \\\n0              0              2       44     9        146          0     0   \n1              0              1       49     5          0          0     0   \n2              0              1       24     9        232       8153     0   \n3              0              1       24     9        199        420     0   \n4              0              1       49     1          0          0     0   \n...          ...            ...      ...   ...        ...        ...   ...   \n125967         0              1       49     5          0          0     0   \n125968         8              2       49     9        105        145     0   \n125969         0              1       54     9       2231        384     0   \n125970         0              1       30     5          0          0     0   \n125971         0              1       20     9        151          0     0   \n\n        wrong_fragment  urgent  hot  ...  dst_host_same_srv_rate  \\\n0                    0       0    0  ...                    0.00   \n1                    0       0    0  ...                    0.10   \n2                    0       0    0  ...                    1.00   \n3                    0       0    0  ...                    1.00   \n4                    0       0    0  ...                    0.07   \n...                ...     ...  ...  ...                     ...   \n125967               0       0    0  ...                    0.10   \n125968               0       0    0  ...                    0.96   \n125969               0       0    0  ...                    0.12   \n125970               0       0    0  ...                    0.03   \n125971               0       0    0  ...                    0.30   \n\n        dst_host_diff_srv_rate  dst_host_same_src_port_rate  \\\n0                         0.60                         0.88   \n1                         0.05                         0.00   \n2                         0.00                         0.03   \n3                         0.00                         0.00   \n4                         0.07                         0.00   \n...                        ...                          ...   \n125967                    0.06                         0.00   \n125968                    0.01                         0.01   \n125969                    0.06                         0.00   \n125970                    0.05                         0.00   \n125971                    0.03                         0.30   \n\n        dst_host_srv_diff_host_rate  dst_host_serror_rate  \\\n0                              0.00                  0.00   \n1                              0.00                  1.00   \n2                              0.04                  0.03   \n3                              0.00                  0.00   \n4                              0.00                  0.00   \n...                             ...                   ...   \n125967                         0.00                  1.00   \n125968                         0.00                  0.00   \n125969                         0.00                  0.72   \n125970                         0.00                  1.00   \n125971                         0.00                  0.00   \n\n        dst_host_srv_serror_rate  dst_host_rerror_rate  \\\n0                           0.00                  0.00   \n1                           1.00                  0.00   \n2                           0.01                  0.00   \n3                           0.00                  0.00   \n4                           0.00                  1.00   \n...                          ...                   ...   \n125967                      1.00                  0.00   \n125968                      0.00                  0.00   \n125969                      0.00                  0.01   \n125970                      1.00                  0.00   \n125971                      0.00                  0.00   \n\n        dst_host_srv_rerror_rate  level  binaryoutcome  \n0                           0.00     15              1  \n1                           0.00     19              0  \n2                           0.01     21              1  \n3                           0.00     21              1  \n4                           1.00     21              0  \n...                          ...    ...            ...  \n125967                      0.00     20              0  \n125968                      0.00     21              1  \n125969                      0.00     18              1  \n125970                      0.00     20              0  \n125971                      0.00     21              1  \n\n[125972 rows x 43 columns]",
      "text/html": "<div>\n<style scoped>\n    .dataframe tbody tr th:only-of-type {\n        vertical-align: middle;\n    }\n\n    .dataframe tbody tr th {\n        vertical-align: top;\n    }\n\n    .dataframe thead th {\n        text-align: right;\n    }\n</style>\n<table border=\"1\" class=\"dataframe\">\n  <thead>\n    <tr style=\"text-align: right;\">\n      <th></th>\n      <th>duration</th>\n      <th>protocol_type</th>\n      <th>service</th>\n      <th>flag</th>\n      <th>src_bytes</th>\n      <th>dst_bytes</th>\n      <th>land</th>\n      <th>wrong_fragment</th>\n      <th>urgent</th>\n      <th>hot</th>\n      <th>...</th>\n      <th>dst_host_same_srv_rate</th>\n      <th>dst_host_diff_srv_rate</th>\n      <th>dst_host_same_src_port_rate</th>\n      <th>dst_host_srv_diff_host_rate</th>\n      <th>dst_host_serror_rate</th>\n      <th>dst_host_srv_serror_rate</th>\n      <th>dst_host_rerror_rate</th>\n      <th>dst_host_srv_rerror_rate</th>\n      <th>level</th>\n      <th>binaryoutcome</th>\n    </tr>\n  </thead>\n  <tbody>\n    <tr>\n      <th>0</th>\n      <td>0</td>\n      <td>2</td>\n      <td>44</td>\n      <td>9</td>\n      <td>146</td>\n      <td>0</td>\n      <td>0</td>\n      <td>0</td>\n      <td>0</td>\n      <td>0</td>\n      <td>...</td>\n      <td>0.00</td>\n      <td>0.60</td>\n      <td>0.88</td>\n      <td>0.00</td>\n      <td>0.00</td>\n      <td>0.00</td>\n      <td>0.00</td>\n      <td>0.00</td>\n      <td>15</td>\n      <td>1</td>\n    </tr>\n    <tr>\n      <th>1</th>\n      <td>0</td>\n      <td>1</td>\n      <td>49</td>\n      <td>5</td>\n      <td>0</td>\n      <td>0</td>\n      <td>0</td>\n      <td>0</td>\n      <td>0</td>\n      <td>0</td>\n      <td>...</td>\n      <td>0.10</td>\n      <td>0.05</td>\n      <td>0.00</td>\n      <td>0.00</td>\n      <td>1.00</td>\n      <td>1.00</td>\n      <td>0.00</td>\n      <td>0.00</td>\n      <td>19</td>\n      <td>0</td>\n    </tr>\n    <tr>\n      <th>2</th>\n      <td>0</td>\n      <td>1</td>\n      <td>24</td>\n      <td>9</td>\n      <td>232</td>\n      <td>8153</td>\n      <td>0</td>\n      <td>0</td>\n      <td>0</td>\n      <td>0</td>\n      <td>...</td>\n      <td>1.00</td>\n      <td>0.00</td>\n      <td>0.03</td>\n      <td>0.04</td>\n      <td>0.03</td>\n      <td>0.01</td>\n      <td>0.00</td>\n      <td>0.01</td>\n      <td>21</td>\n      <td>1</td>\n    </tr>\n    <tr>\n      <th>3</th>\n      <td>0</td>\n      <td>1</td>\n      <td>24</td>\n      <td>9</td>\n      <td>199</td>\n      <td>420</td>\n      <td>0</td>\n      <td>0</td>\n      <td>0</td>\n      <td>0</td>\n      <td>...</td>\n      <td>1.00</td>\n      <td>0.00</td>\n      <td>0.00</td>\n      <td>0.00</td>\n      <td>0.00</td>\n      <td>0.00</td>\n      <td>0.00</td>\n      <td>0.00</td>\n      <td>21</td>\n      <td>1</td>\n    </tr>\n    <tr>\n      <th>4</th>\n      <td>0</td>\n      <td>1</td>\n      <td>49</td>\n      <td>1</td>\n      <td>0</td>\n      <td>0</td>\n      <td>0</td>\n      <td>0</td>\n      <td>0</td>\n      <td>0</td>\n      <td>...</td>\n      <td>0.07</td>\n      <td>0.07</td>\n      <td>0.00</td>\n      <td>0.00</td>\n      <td>0.00</td>\n      <td>0.00</td>\n      <td>1.00</td>\n      <td>1.00</td>\n      <td>21</td>\n      <td>0</td>\n    </tr>\n    <tr>\n      <th>...</th>\n      <td>...</td>\n      <td>...</td>\n      <td>...</td>\n      <td>...</td>\n      <td>...</td>\n      <td>...</td>\n      <td>...</td>\n      <td>...</td>\n      <td>...</td>\n      <td>...</td>\n      <td>...</td>\n      <td>...</td>\n      <td>...</td>\n      <td>...</td>\n      <td>...</td>\n      <td>...</td>\n      <td>...</td>\n      <td>...</td>\n      <td>...</td>\n      <td>...</td>\n      <td>...</td>\n    </tr>\n    <tr>\n      <th>125967</th>\n      <td>0</td>\n      <td>1</td>\n      <td>49</td>\n      <td>5</td>\n      <td>0</td>\n      <td>0</td>\n      <td>0</td>\n      <td>0</td>\n      <td>0</td>\n      <td>0</td>\n      <td>...</td>\n      <td>0.10</td>\n      <td>0.06</td>\n      <td>0.00</td>\n      <td>0.00</td>\n      <td>1.00</td>\n      <td>1.00</td>\n      <td>0.00</td>\n      <td>0.00</td>\n      <td>20</td>\n      <td>0</td>\n    </tr>\n    <tr>\n      <th>125968</th>\n      <td>8</td>\n      <td>2</td>\n      <td>49</td>\n      <td>9</td>\n      <td>105</td>\n      <td>145</td>\n      <td>0</td>\n      <td>0</td>\n      <td>0</td>\n      <td>0</td>\n      <td>...</td>\n      <td>0.96</td>\n      <td>0.01</td>\n      <td>0.01</td>\n      <td>0.00</td>\n      <td>0.00</td>\n      <td>0.00</td>\n      <td>0.00</td>\n      <td>0.00</td>\n      <td>21</td>\n      <td>1</td>\n    </tr>\n    <tr>\n      <th>125969</th>\n      <td>0</td>\n      <td>1</td>\n      <td>54</td>\n      <td>9</td>\n      <td>2231</td>\n      <td>384</td>\n      <td>0</td>\n      <td>0</td>\n      <td>0</td>\n      <td>0</td>\n      <td>...</td>\n      <td>0.12</td>\n      <td>0.06</td>\n      <td>0.00</td>\n      <td>0.00</td>\n      <td>0.72</td>\n      <td>0.00</td>\n      <td>0.01</td>\n      <td>0.00</td>\n      <td>18</td>\n      <td>1</td>\n    </tr>\n    <tr>\n      <th>125970</th>\n      <td>0</td>\n      <td>1</td>\n      <td>30</td>\n      <td>5</td>\n      <td>0</td>\n      <td>0</td>\n      <td>0</td>\n      <td>0</td>\n      <td>0</td>\n      <td>0</td>\n      <td>...</td>\n      <td>0.03</td>\n      <td>0.05</td>\n      <td>0.00</td>\n      <td>0.00</td>\n      <td>1.00</td>\n      <td>1.00</td>\n      <td>0.00</td>\n      <td>0.00</td>\n      <td>20</td>\n      <td>0</td>\n    </tr>\n    <tr>\n      <th>125971</th>\n      <td>0</td>\n      <td>1</td>\n      <td>20</td>\n      <td>9</td>\n      <td>151</td>\n      <td>0</td>\n      <td>0</td>\n      <td>0</td>\n      <td>0</td>\n      <td>0</td>\n      <td>...</td>\n      <td>0.30</td>\n      <td>0.03</td>\n      <td>0.30</td>\n      <td>0.00</td>\n      <td>0.00</td>\n      <td>0.00</td>\n      <td>0.00</td>\n      <td>0.00</td>\n      <td>21</td>\n      <td>1</td>\n    </tr>\n  </tbody>\n</table>\n<p>125972 rows × 43 columns</p>\n</div>"
     },
     "execution_count": 17,
     "metadata": {},
     "output_type": "execute_result"
    }
   ],
   "source": [
    "df"
   ],
   "metadata": {
    "collapsed": false,
    "ExecuteTime": {
     "end_time": "2024-02-02T13:31:56.309700Z",
     "start_time": "2024-02-02T13:31:56.288451Z"
    }
   },
   "id": "80c89733839378f0",
   "execution_count": 17
  },
  {
   "cell_type": "code",
   "outputs": [],
   "source": [
    "# Function to calculate chi-square value between a feature and the target variable\n",
    "def calculate_chi2(feature, target):\n",
    "    contingency_table = pd.crosstab(feature, target)\n",
    "    _, p_value, _, _ = chi2_contingency(contingency_table)\n",
    "    return p_value"
   ],
   "metadata": {
    "collapsed": false,
    "ExecuteTime": {
     "end_time": "2024-02-02T13:29:59.830326Z",
     "start_time": "2024-02-02T13:29:59.825468Z"
    }
   },
   "id": "6ca1733532b55460",
   "execution_count": 12
  },
  {
   "cell_type": "code",
   "outputs": [],
   "source": [
    "# Calculate chi-square values for each feature\n",
    "feature_chi2_values = {}\n",
    "target_column = 'binaryoutcome'"
   ],
   "metadata": {
    "collapsed": false,
    "ExecuteTime": {
     "end_time": "2024-02-02T13:30:00.283268Z",
     "start_time": "2024-02-02T13:30:00.279844Z"
    }
   },
   "id": "72c2103243443645",
   "execution_count": 13
  },
  {
   "cell_type": "code",
   "outputs": [],
   "source": [
    "for feature_column in df.columns[:-1]:  # Exclude the target column\n",
    "    chi2_value = calculate_chi2(df[feature_column], df[target_column])\n",
    "    feature_chi2_values[feature_column] = chi2_value"
   ],
   "metadata": {
    "collapsed": false,
    "ExecuteTime": {
     "end_time": "2024-02-02T13:30:01.034474Z",
     "start_time": "2024-02-02T13:30:00.708477Z"
    }
   },
   "id": "62b83eec8f881fc2",
   "execution_count": 14
  },
  {
   "cell_type": "code",
   "outputs": [],
   "source": [
    "# Sort the results in descending order\n",
    "sorted_results = sorted(feature_chi2_values.items(), key=lambda x: x[1])\n"
   ],
   "metadata": {
    "collapsed": false,
    "ExecuteTime": {
     "end_time": "2024-02-02T13:41:45.479178Z",
     "start_time": "2024-02-02T13:41:45.476321Z"
    }
   },
   "id": "3bf2d1726973b4f9",
   "execution_count": 21
  },
  {
   "cell_type": "code",
   "outputs": [
    {
     "data": {
      "text/plain": "[('protocol_type', 0.0),\n ('service', 0.0),\n ('flag', 0.0),\n ('src_bytes', 0.0),\n ('dst_bytes', 0.0),\n ('hot', 0.0),\n ('logged_in', 0.0),\n ('count', 0.0),\n ('srv_count', 0.0),\n ('serror_rate', 0.0),\n ('srv_serror_rate', 0.0),\n ('rerror_rate', 0.0),\n ('srv_rerror_rate', 0.0),\n ('same_srv_rate', 0.0),\n ('diff_srv_rate', 0.0),\n ('srv_diff_host_rate', 0.0),\n ('dst_host_count', 0.0),\n ('dst_host_srv_count', 0.0),\n ('dst_host_same_srv_rate', 0.0),\n ('dst_host_diff_srv_rate', 0.0),\n ('dst_host_same_src_port_rate', 0.0),\n ('dst_host_srv_diff_host_rate', 0.0),\n ('dst_host_serror_rate', 0.0),\n ('dst_host_srv_serror_rate', 0.0),\n ('dst_host_rerror_rate', 0.0),\n ('dst_host_srv_rerror_rate', 0.0),\n ('level', 0.0),\n ('wrong_fragment', 5.836058223662332e-275),\n ('duration', 1.1694790105913424e-250),\n ('num_compromised', 2.088161406614828e-155),\n ('num_root', 4.809373022863645e-65),\n ('num_access_files', 1.1016159716788412e-56),\n ('is_guest_login', 5.341541981819443e-44),\n ('num_file_creations', 1.2451629362396688e-17),\n ('su_attempted', 4.338519386638828e-15),\n ('root_shell', 1.0578304156274223e-12),\n ('num_shells', 3.325372882467624e-05),\n ('num_failed_logins', 0.015308326957232414),\n ('land', 0.018690126542010643),\n ('urgent', 0.7609158835334908),\n ('num_outbound_cmds', 1.0),\n ('is_host_login', 1.0)]"
     },
     "execution_count": 22,
     "metadata": {},
     "output_type": "execute_result"
    }
   ],
   "source": [
    "sorted_results "
   ],
   "metadata": {
    "collapsed": false,
    "ExecuteTime": {
     "end_time": "2024-02-02T13:41:47.154768Z",
     "start_time": "2024-02-02T13:41:47.150477Z"
    }
   },
   "id": "da02b6a54fef46d7",
   "execution_count": 22
  },
  {
   "cell_type": "code",
   "outputs": [],
   "source": [
    "# Create a DataFrame from the sorted results\n",
    "result_df = pd.DataFrame(sorted_results, columns=['Feature', 'Chi2 Value'])"
   ],
   "metadata": {
    "collapsed": false,
    "ExecuteTime": {
     "end_time": "2024-02-02T13:42:02.318931Z",
     "start_time": "2024-02-02T13:42:02.314117Z"
    }
   },
   "id": "60ecfd1637e4b6ea",
   "execution_count": 23
  },
  {
   "cell_type": "code",
   "outputs": [],
   "source": [
    "# Save the results to an Excel file\n",
    "result_df.to_excel('chi2_results.xlsx', index=False)"
   ],
   "metadata": {
    "collapsed": false,
    "ExecuteTime": {
     "end_time": "2024-02-02T13:42:05.703329Z",
     "start_time": "2024-02-02T13:42:05.687432Z"
    }
   },
   "id": "f93d6b9de9e390fb",
   "execution_count": 24
  },
  {
   "cell_type": "code",
   "outputs": [
    {
     "data": {
      "text/plain": "                        Feature     Chi2 Value\n0                 protocol_type   0.000000e+00\n1                       service   0.000000e+00\n2                          flag   0.000000e+00\n3                     src_bytes   0.000000e+00\n4                     dst_bytes   0.000000e+00\n5                           hot   0.000000e+00\n6                     logged_in   0.000000e+00\n7                         count   0.000000e+00\n8                     srv_count   0.000000e+00\n9                   serror_rate   0.000000e+00\n10              srv_serror_rate   0.000000e+00\n11                  rerror_rate   0.000000e+00\n12              srv_rerror_rate   0.000000e+00\n13                same_srv_rate   0.000000e+00\n14                diff_srv_rate   0.000000e+00\n15           srv_diff_host_rate   0.000000e+00\n16               dst_host_count   0.000000e+00\n17           dst_host_srv_count   0.000000e+00\n18       dst_host_same_srv_rate   0.000000e+00\n19       dst_host_diff_srv_rate   0.000000e+00\n20  dst_host_same_src_port_rate   0.000000e+00\n21  dst_host_srv_diff_host_rate   0.000000e+00\n22         dst_host_serror_rate   0.000000e+00\n23     dst_host_srv_serror_rate   0.000000e+00\n24         dst_host_rerror_rate   0.000000e+00\n25     dst_host_srv_rerror_rate   0.000000e+00\n26                        level   0.000000e+00\n27               wrong_fragment  5.836058e-275\n28                     duration  1.169479e-250\n29              num_compromised  2.088161e-155\n30                     num_root   4.809373e-65\n31             num_access_files   1.101616e-56\n32               is_guest_login   5.341542e-44\n33           num_file_creations   1.245163e-17\n34                 su_attempted   4.338519e-15\n35                   root_shell   1.057830e-12\n36                   num_shells   3.325373e-05\n37            num_failed_logins   1.530833e-02\n38                         land   1.869013e-02\n39                       urgent   7.609159e-01\n40            num_outbound_cmds   1.000000e+00\n41                is_host_login   1.000000e+00",
      "text/html": "<div>\n<style scoped>\n    .dataframe tbody tr th:only-of-type {\n        vertical-align: middle;\n    }\n\n    .dataframe tbody tr th {\n        vertical-align: top;\n    }\n\n    .dataframe thead th {\n        text-align: right;\n    }\n</style>\n<table border=\"1\" class=\"dataframe\">\n  <thead>\n    <tr style=\"text-align: right;\">\n      <th></th>\n      <th>Feature</th>\n      <th>Chi2 Value</th>\n    </tr>\n  </thead>\n  <tbody>\n    <tr>\n      <th>0</th>\n      <td>protocol_type</td>\n      <td>0.000000e+00</td>\n    </tr>\n    <tr>\n      <th>1</th>\n      <td>service</td>\n      <td>0.000000e+00</td>\n    </tr>\n    <tr>\n      <th>2</th>\n      <td>flag</td>\n      <td>0.000000e+00</td>\n    </tr>\n    <tr>\n      <th>3</th>\n      <td>src_bytes</td>\n      <td>0.000000e+00</td>\n    </tr>\n    <tr>\n      <th>4</th>\n      <td>dst_bytes</td>\n      <td>0.000000e+00</td>\n    </tr>\n    <tr>\n      <th>5</th>\n      <td>hot</td>\n      <td>0.000000e+00</td>\n    </tr>\n    <tr>\n      <th>6</th>\n      <td>logged_in</td>\n      <td>0.000000e+00</td>\n    </tr>\n    <tr>\n      <th>7</th>\n      <td>count</td>\n      <td>0.000000e+00</td>\n    </tr>\n    <tr>\n      <th>8</th>\n      <td>srv_count</td>\n      <td>0.000000e+00</td>\n    </tr>\n    <tr>\n      <th>9</th>\n      <td>serror_rate</td>\n      <td>0.000000e+00</td>\n    </tr>\n    <tr>\n      <th>10</th>\n      <td>srv_serror_rate</td>\n      <td>0.000000e+00</td>\n    </tr>\n    <tr>\n      <th>11</th>\n      <td>rerror_rate</td>\n      <td>0.000000e+00</td>\n    </tr>\n    <tr>\n      <th>12</th>\n      <td>srv_rerror_rate</td>\n      <td>0.000000e+00</td>\n    </tr>\n    <tr>\n      <th>13</th>\n      <td>same_srv_rate</td>\n      <td>0.000000e+00</td>\n    </tr>\n    <tr>\n      <th>14</th>\n      <td>diff_srv_rate</td>\n      <td>0.000000e+00</td>\n    </tr>\n    <tr>\n      <th>15</th>\n      <td>srv_diff_host_rate</td>\n      <td>0.000000e+00</td>\n    </tr>\n    <tr>\n      <th>16</th>\n      <td>dst_host_count</td>\n      <td>0.000000e+00</td>\n    </tr>\n    <tr>\n      <th>17</th>\n      <td>dst_host_srv_count</td>\n      <td>0.000000e+00</td>\n    </tr>\n    <tr>\n      <th>18</th>\n      <td>dst_host_same_srv_rate</td>\n      <td>0.000000e+00</td>\n    </tr>\n    <tr>\n      <th>19</th>\n      <td>dst_host_diff_srv_rate</td>\n      <td>0.000000e+00</td>\n    </tr>\n    <tr>\n      <th>20</th>\n      <td>dst_host_same_src_port_rate</td>\n      <td>0.000000e+00</td>\n    </tr>\n    <tr>\n      <th>21</th>\n      <td>dst_host_srv_diff_host_rate</td>\n      <td>0.000000e+00</td>\n    </tr>\n    <tr>\n      <th>22</th>\n      <td>dst_host_serror_rate</td>\n      <td>0.000000e+00</td>\n    </tr>\n    <tr>\n      <th>23</th>\n      <td>dst_host_srv_serror_rate</td>\n      <td>0.000000e+00</td>\n    </tr>\n    <tr>\n      <th>24</th>\n      <td>dst_host_rerror_rate</td>\n      <td>0.000000e+00</td>\n    </tr>\n    <tr>\n      <th>25</th>\n      <td>dst_host_srv_rerror_rate</td>\n      <td>0.000000e+00</td>\n    </tr>\n    <tr>\n      <th>26</th>\n      <td>level</td>\n      <td>0.000000e+00</td>\n    </tr>\n    <tr>\n      <th>27</th>\n      <td>wrong_fragment</td>\n      <td>5.836058e-275</td>\n    </tr>\n    <tr>\n      <th>28</th>\n      <td>duration</td>\n      <td>1.169479e-250</td>\n    </tr>\n    <tr>\n      <th>29</th>\n      <td>num_compromised</td>\n      <td>2.088161e-155</td>\n    </tr>\n    <tr>\n      <th>30</th>\n      <td>num_root</td>\n      <td>4.809373e-65</td>\n    </tr>\n    <tr>\n      <th>31</th>\n      <td>num_access_files</td>\n      <td>1.101616e-56</td>\n    </tr>\n    <tr>\n      <th>32</th>\n      <td>is_guest_login</td>\n      <td>5.341542e-44</td>\n    </tr>\n    <tr>\n      <th>33</th>\n      <td>num_file_creations</td>\n      <td>1.245163e-17</td>\n    </tr>\n    <tr>\n      <th>34</th>\n      <td>su_attempted</td>\n      <td>4.338519e-15</td>\n    </tr>\n    <tr>\n      <th>35</th>\n      <td>root_shell</td>\n      <td>1.057830e-12</td>\n    </tr>\n    <tr>\n      <th>36</th>\n      <td>num_shells</td>\n      <td>3.325373e-05</td>\n    </tr>\n    <tr>\n      <th>37</th>\n      <td>num_failed_logins</td>\n      <td>1.530833e-02</td>\n    </tr>\n    <tr>\n      <th>38</th>\n      <td>land</td>\n      <td>1.869013e-02</td>\n    </tr>\n    <tr>\n      <th>39</th>\n      <td>urgent</td>\n      <td>7.609159e-01</td>\n    </tr>\n    <tr>\n      <th>40</th>\n      <td>num_outbound_cmds</td>\n      <td>1.000000e+00</td>\n    </tr>\n    <tr>\n      <th>41</th>\n      <td>is_host_login</td>\n      <td>1.000000e+00</td>\n    </tr>\n  </tbody>\n</table>\n</div>"
     },
     "execution_count": 25,
     "metadata": {},
     "output_type": "execute_result"
    }
   ],
   "source": [
    "result_df"
   ],
   "metadata": {
    "collapsed": false,
    "ExecuteTime": {
     "end_time": "2024-02-02T13:42:07.087393Z",
     "start_time": "2024-02-02T13:42:07.084010Z"
    }
   },
   "id": "25eeb767c2dc8974",
   "execution_count": 25
  },
  {
   "cell_type": "code",
   "outputs": [],
   "source": [],
   "metadata": {
    "collapsed": false
   },
   "id": "222fc3f43a4a5ac2"
  }
 ],
 "metadata": {
  "kernelspec": {
   "display_name": "Python 3",
   "language": "python",
   "name": "python3"
  },
  "language_info": {
   "codemirror_mode": {
    "name": "ipython",
    "version": 2
   },
   "file_extension": ".py",
   "mimetype": "text/x-python",
   "name": "python",
   "nbconvert_exporter": "python",
   "pygments_lexer": "ipython2",
   "version": "2.7.6"
  }
 },
 "nbformat": 4,
 "nbformat_minor": 5
}
