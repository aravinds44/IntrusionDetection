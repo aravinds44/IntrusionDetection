{
 "cells": [
  {
   "cell_type": "code",
   "execution_count": 10,
   "id": "initial_id",
   "metadata": {
    "collapsed": true,
    "ExecuteTime": {
     "end_time": "2024-02-02T13:29:57.739563Z",
     "start_time": "2024-02-02T13:29:57.733968Z"
    }
   },
   "outputs": [],
   "source": [
    "import pandas as pd\n",
    "from scipy.stats import chi2_contingency"
   ]
  },
  {
   "cell_type": "code",
   "outputs": [],
   "source": [
    "#loading encoded data from csv\n",
    "\n",
    "df = pd.read_csv(\"../../data/BinaryClassify/train_nsl_kdd_binary_encoded.csv\")"
   ],
   "metadata": {
    "collapsed": false,
    "ExecuteTime": {
     "end_time": "2024-02-02T13:29:59.442317Z",
     "start_time": "2024-02-02T13:29:59.288684Z"
    }
   },
   "id": "f12da9f2a240dfe",
   "execution_count": 11
  },
  {
   "cell_type": "code",
   "outputs": [
    {
     "data": {
      "text/plain": "        duration  protocol_type  service  flag  src_bytes  dst_bytes  land  \\\n0              0              2       44     9        146          0     0   \n1              0              1       49     5          0          0     0   \n2              0              1       24     9        232       8153     0   \n3              0              1       24     9        199        420     0   \n4              0              1       49     1          0          0     0   \n...          ...            ...      ...   ...        ...        ...   ...   \n125967         0              1       49     5          0          0     0   \n125968         8              2       49     9        105        145     0   \n125969         0              1       54     9       2231        384     0   \n125970         0              1       30     5          0          0     0   \n125971         0              1       20     9        151          0     0   \n\n        wrong_fragment  urgent  hot  ...  dst_host_same_srv_rate  \\\n0                    0       0    0  ...                    0.00   \n1                    0       0    0  ...                    0.10   \n2                    0       0    0  ...                    1.00   \n3                    0       0    0  ...                    1.00   \n4                    0       0    0  ...                    0.07   \n...                ...     ...  ...  ...                     ...   \n125967               0       0    0  ...                    0.10   \n125968               0       0    0  ...                    0.96   \n125969               0       0    0  ...                    0.12   \n125970               0       0    0  ...                    0.03   \n125971               0       0    0  ...                    0.30   \n\n        dst_host_diff_srv_rate  dst_host_same_src_port_rate  \\\n0                         0.60                         0.88   \n1                         0.05                         0.00   \n2                         0.00                         0.03   \n3                         0.00                         0.00   \n4                         0.07                         0.00   \n...                        ...                          ...   \n125967                    0.06                         0.00   \n125968                    0.01                         0.01   \n125969                    0.06                         0.00   \n125970                    0.05                         0.00   \n125971                    0.03                         0.30   \n\n        dst_host_srv_diff_host_rate  dst_host_serror_rate  \\\n0                              0.00                  0.00   \n1                              0.00                  1.00   \n2                              0.04                  0.03   \n3                              0.00                  0.00   \n4                              0.00                  0.00   \n...                             ...                   ...   \n125967                         0.00                  1.00   \n125968                         0.00                  0.00   \n125969                         0.00                  0.72   \n125970                         0.00                  1.00   \n125971                         0.00                  0.00   \n\n        dst_host_srv_serror_rate  dst_host_rerror_rate  \\\n0                           0.00                  0.00   \n1                           1.00                  0.00   \n2                           0.01                  0.00   \n3                           0.00                  0.00   \n4                           0.00                  1.00   \n...                          ...                   ...   \n125967                      1.00                  0.00   \n125968                      0.00                  0.00   \n125969                      0.00                  0.01   \n125970                      1.00                  0.00   \n125971                      0.00                  0.00   \n\n        dst_host_srv_rerror_rate  level  binaryoutcome  \n0                           0.00     15              1  \n1                           0.00     19              0  \n2                           0.01     21              1  \n3                           0.00     21              1  \n4                           1.00     21              0  \n...                          ...    ...            ...  \n125967                      0.00     20              0  \n125968                      0.00     21              1  \n125969                      0.00     18              1  \n125970                      0.00     20              0  \n125971                      0.00     21              1  \n\n[125972 rows x 43 columns]",
      "text/html": "<div>\n<style scoped>\n    .dataframe tbody tr th:only-of-type {\n        vertical-align: middle;\n    }\n\n    .dataframe tbody tr th {\n        vertical-align: top;\n    }\n\n    .dataframe thead th {\n        text-align: right;\n    }\n</style>\n<table border=\"1\" class=\"dataframe\">\n  <thead>\n    <tr style=\"text-align: right;\">\n      <th></th>\n      <th>duration</th>\n      <th>protocol_type</th>\n      <th>service</th>\n      <th>flag</th>\n      <th>src_bytes</th>\n      <th>dst_bytes</th>\n      <th>land</th>\n      <th>wrong_fragment</th>\n      <th>urgent</th>\n      <th>hot</th>\n      <th>...</th>\n      <th>dst_host_same_srv_rate</th>\n      <th>dst_host_diff_srv_rate</th>\n      <th>dst_host_same_src_port_rate</th>\n      <th>dst_host_srv_diff_host_rate</th>\n      <th>dst_host_serror_rate</th>\n      <th>dst_host_srv_serror_rate</th>\n      <th>dst_host_rerror_rate</th>\n      <th>dst_host_srv_rerror_rate</th>\n      <th>level</th>\n      <th>binaryoutcome</th>\n    </tr>\n  </thead>\n  <tbody>\n    <tr>\n      <th>0</th>\n      <td>0</td>\n      <td>2</td>\n      <td>44</td>\n      <td>9</td>\n      <td>146</td>\n      <td>0</td>\n      <td>0</td>\n      <td>0</td>\n      <td>0</td>\n      <td>0</td>\n      <td>...</td>\n      <td>0.00</td>\n      <td>0.60</td>\n      <td>0.88</td>\n      <td>0.00</td>\n      <td>0.00</td>\n      <td>0.00</td>\n      <td>0.00</td>\n      <td>0.00</td>\n      <td>15</td>\n      <td>1</td>\n    </tr>\n    <tr>\n      <th>1</th>\n      <td>0</td>\n      <td>1</td>\n      <td>49</td>\n      <td>5</td>\n      <td>0</td>\n      <td>0</td>\n      <td>0</td>\n      <td>0</td>\n      <td>0</td>\n      <td>0</td>\n      <td>...</td>\n      <td>0.10</td>\n      <td>0.05</td>\n      <td>0.00</td>\n      <td>0.00</td>\n      <td>1.00</td>\n      <td>1.00</td>\n      <td>0.00</td>\n      <td>0.00</td>\n      <td>19</td>\n      <td>0</td>\n    </tr>\n    <tr>\n      <th>2</th>\n      <td>0</td>\n      <td>1</td>\n      <td>24</td>\n      <td>9</td>\n      <td>232</td>\n      <td>8153</td>\n      <td>0</td>\n      <td>0</td>\n      <td>0</td>\n      <td>0</td>\n      <td>...</td>\n      <td>1.00</td>\n      <td>0.00</td>\n      <td>0.03</td>\n      <td>0.04</td>\n      <td>0.03</td>\n      <td>0.01</td>\n      <td>0.00</td>\n      <td>0.01</td>\n      <td>21</td>\n      <td>1</td>\n    </tr>\n    <tr>\n      <th>3</th>\n      <td>0</td>\n      <td>1</td>\n      <td>24</td>\n      <td>9</td>\n      <td>199</td>\n      <td>420</td>\n      <td>0</td>\n      <td>0</td>\n      <td>0</td>\n      <td>0</td>\n      <td>...</td>\n      <td>1.00</td>\n      <td>0.00</td>\n      <td>0.00</td>\n      <td>0.00</td>\n      <td>0.00</td>\n      <td>0.00</td>\n      <td>0.00</td>\n      <td>0.00</td>\n      <td>21</td>\n      <td>1</td>\n    </tr>\n    <tr>\n      <th>4</th>\n      <td>0</td>\n      <td>1</td>\n      <td>49</td>\n      <td>1</td>\n      <td>0</td>\n      <td>0</td>\n      <td>0</td>\n      <td>0</td>\n      <td>0</td>\n      <td>0</td>\n      <td>...</td>\n      <td>0.07</td>\n      <td>0.07</td>\n      <td>0.00</td>\n      <td>0.00</td>\n      <td>0.00</td>\n      <td>0.00</td>\n      <td>1.00</td>\n      <td>1.00</td>\n      <td>21</td>\n      <td>0</td>\n    </tr>\n    <tr>\n      <th>...</th>\n      <td>...</td>\n      <td>...</td>\n      <td>...</td>\n      <td>...</td>\n      <td>...</td>\n      <td>...</td>\n      <td>...</td>\n      <td>...</td>\n      <td>...</td>\n      <td>...</td>\n      <td>...</td>\n      <td>...</td>\n      <td>...</td>\n      <td>...</td>\n      <td>...</td>\n      <td>...</td>\n      <td>...</td>\n      <td>...</td>\n      <td>...</td>\n      <td>...</td>\n      <td>...</td>\n    </tr>\n    <tr>\n      <th>125967</th>\n      <td>0</td>\n      <td>1</td>\n      <td>49</td>\n      <td>5</td>\n      <td>0</td>\n      <td>0</td>\n      <td>0</td>\n      <td>0</td>\n      <td>0</td>\n      <td>0</td>\n      <td>...</td>\n      <td>0.10</td>\n      <td>0.06</td>\n      <td>0.00</td>\n      <td>0.00</td>\n      <td>1.00</td>\n      <td>1.00</td>\n      <td>0.00</td>\n      <td>0.00</td>\n      <td>20</td>\n      <td>0</td>\n    </tr>\n    <tr>\n      <th>125968</th>\n      <td>8</td>\n      <td>2</td>\n      <td>49</td>\n      <td>9</td>\n      <td>105</td>\n      <td>145</td>\n      <td>0</td>\n      <td>0</td>\n      <td>0</td>\n      <td>0</td>\n      <td>...</td>\n      <td>0.96</td>\n      <td>0.01</td>\n      <td>0.01</td>\n      <td>0.00</td>\n      <td>0.00</td>\n      <td>0.00</td>\n      <td>0.00</td>\n      <td>0.00</td>\n      <td>21</td>\n      <td>1</td>\n    </tr>\n    <tr>\n      <th>125969</th>\n      <td>0</td>\n      <td>1</td>\n      <td>54</td>\n      <td>9</td>\n      <td>2231</td>\n      <td>384</td>\n      <td>0</td>\n      <td>0</td>\n      <td>0</td>\n      <td>0</td>\n      <td>...</td>\n      <td>0.12</td>\n      <td>0.06</td>\n      <td>0.00</td>\n      <td>0.00</td>\n      <td>0.72</td>\n      <td>0.00</td>\n      <td>0.01</td>\n      <td>0.00</td>\n      <td>18</td>\n      <td>1</td>\n    </tr>\n    <tr>\n      <th>125970</th>\n      <td>0</td>\n      <td>1</td>\n      <td>30</td>\n      <td>5</td>\n      <td>0</td>\n      <td>0</td>\n      <td>0</td>\n      <td>0</td>\n      <td>0</td>\n      <td>0</td>\n      <td>...</td>\n      <td>0.03</td>\n      <td>0.05</td>\n      <td>0.00</td>\n      <td>0.00</td>\n      <td>1.00</td>\n      <td>1.00</td>\n      <td>0.00</td>\n      <td>0.00</td>\n      <td>20</td>\n      <td>0</td>\n    </tr>\n    <tr>\n      <th>125971</th>\n      <td>0</td>\n      <td>1</td>\n      <td>20</td>\n      <td>9</td>\n      <td>151</td>\n      <td>0</td>\n      <td>0</td>\n      <td>0</td>\n      <td>0</td>\n      <td>0</td>\n      <td>...</td>\n      <td>0.30</td>\n      <td>0.03</td>\n      <td>0.30</td>\n      <td>0.00</td>\n      <td>0.00</td>\n      <td>0.00</td>\n      <td>0.00</td>\n      <td>0.00</td>\n      <td>21</td>\n      <td>1</td>\n    </tr>\n  </tbody>\n</table>\n<p>125972 rows × 43 columns</p>\n</div>"
     },
     "execution_count": 17,
     "metadata": {},
     "output_type": "execute_result"
    }
   ],
   "source": [
    "df"
   ],
   "metadata": {
    "collapsed": false,
    "ExecuteTime": {
     "end_time": "2024-02-02T13:31:56.309700Z",
     "start_time": "2024-02-02T13:31:56.288451Z"
    }
   },
   "id": "80c89733839378f0",
   "execution_count": 17
  },
  {
   "cell_type": "code",
   "outputs": [],
   "source": [
    "# Function to calculate chi-square value between a feature and the target variable\n",
    "def calculate_chi2(feature, target):\n",
    "    contingency_table = pd.crosstab(feature, target)\n",
    "    _, p_value, _, _ = chi2_contingency(contingency_table)\n",
    "    return p_value"
   ],
   "metadata": {
    "collapsed": false,
    "ExecuteTime": {
     "end_time": "2024-02-02T13:29:59.830326Z",
     "start_time": "2024-02-02T13:29:59.825468Z"
    }
   },
   "id": "6ca1733532b55460",
   "execution_count": 12
  },
  {
   "cell_type": "code",
   "outputs": [],
   "source": [
    "# Calculate chi-square values for each feature\n",
    "feature_chi2_values = {}\n",
    "target_column = 'binaryoutcome'"
   ],
   "metadata": {
    "collapsed": false,
    "ExecuteTime": {
     "end_time": "2024-02-02T13:30:00.283268Z",
     "start_time": "2024-02-02T13:30:00.279844Z"
    }
   },
   "id": "72c2103243443645",
   "execution_count": 13
  },
  {
   "cell_type": "code",
   "outputs": [],
   "source": [
    "for feature_column in df.columns[:-1]:  # Exclude the target column\n",
    "    chi2_value = calculate_chi2(df[feature_column], df[target_column])\n",
    "    feature_chi2_values[feature_column] = chi2_value"
   ],
   "metadata": {
    "collapsed": false,
    "ExecuteTime": {
     "end_time": "2024-02-02T13:30:01.034474Z",
     "start_time": "2024-02-02T13:30:00.708477Z"
    }
   },
   "id": "62b83eec8f881fc2",
   "execution_count": 14
  },
  {
   "cell_type": "code",
   "outputs": [],
   "source": [
    "# Sort the results in descending order\n",
    "sorted_results = sorted(feature_chi2_values.items(), key=lambda x: x[1])\n"
   ],
   "metadata": {
    "collapsed": false,
    "ExecuteTime": {
     "end_time": "2024-02-02T13:41:45.479178Z",
     "start_time": "2024-02-02T13:41:45.476321Z"
    }
   },
   "id": "3bf2d1726973b4f9",
   "execution_count": 21
  },
  {
   "cell_type": "code",
   "outputs": [
    {
     "data": {
      "text/plain": "[('protocol_type', 0.0),\n ('service', 0.0),\n ('flag', 0.0),\n ('src_bytes', 0.0),\n ('dst_bytes', 0.0),\n ('hot', 0.0),\n ('logged_in', 0.0),\n ('count', 0.0),\n ('srv_count', 0.0),\n ('serror_rate', 0.0),\n ('srv_serror_rate', 0.0),\n ('rerror_rate', 0.0),\n ('srv_rerror_rate', 0.0),\n ('same_srv_rate', 0.0),\n ('diff_srv_rate', 0.0),\n ('srv_diff_host_rate', 0.0),\n ('dst_host_count', 0.0),\n ('dst_host_srv_count', 0.0),\n ('dst_host_same_srv_rate', 0.0),\n ('dst_host_diff_srv_rate', 0.0),\n ('dst_host_same_src_port_rate', 0.0),\n ('dst_host_srv_diff_host_rate', 0.0),\n ('dst_host_serror_rate', 0.0),\n ('dst_host_srv_serror_rate', 0.0),\n ('dst_host_rerror_rate', 0.0),\n ('dst_host_srv_rerror_rate', 0.0),\n ('level', 0.0),\n ('wrong_fragment', 5.836058223662332e-275),\n ('duration', 1.1694790105913424e-250),\n ('num_compromised', 2.088161406614828e-155),\n ('num_root', 4.809373022863645e-65),\n ('num_access_files', 1.1016159716788412e-56),\n ('is_guest_login', 5.341541981819443e-44),\n ('num_file_creations', 1.2451629362396688e-17),\n ('su_attempted', 4.338519386638828e-15),\n ('root_shell', 1.0578304156274223e-12),\n ('num_shells', 3.325372882467624e-05),\n ('num_failed_logins', 0.015308326957232414),\n ('land', 0.018690126542010643),\n ('urgent', 0.7609158835334908),\n ('num_outbound_cmds', 1.0),\n ('is_host_login', 1.0)]"
     },
     "execution_count": 22,
     "metadata": {},
     "output_type": "execute_result"
    }
   ],
   "source": [
    "sorted_results "
   ],
   "metadata": {
    "collapsed": false,
    "ExecuteTime": {
     "end_time": "2024-02-02T13:41:47.154768Z",
     "start_time": "2024-02-02T13:41:47.150477Z"
    }
   },
   "id": "da02b6a54fef46d7",
   "execution_count": 22
  },
  {
   "cell_type": "code",
   "outputs": [],
   "source": [
    "# Create a DataFrame from the sorted results\n",
    "result_df = pd.DataFrame(sorted_results, columns=['Feature', 'Chi2 Value'])"
   ],
   "metadata": {
    "collapsed": false,
    "ExecuteTime": {
     "end_time": "2024-02-02T13:42:02.318931Z",
     "start_time": "2024-02-02T13:42:02.314117Z"
    }
   },
   "id": "60ecfd1637e4b6ea",
   "execution_count": 23
  },
  {
   "cell_type": "code",
   "outputs": [],
   "source": [
    "# Save the results to an Excel file\n",
    "result_df.to_excel('chi2_results.xlsx', index=False)"
   ],
   "metadata": {
    "collapsed": false,
    "ExecuteTime": {
     "end_time": "2024-02-02T13:42:05.703329Z",
     "start_time": "2024-02-02T13:42:05.687432Z"
    }
   },
   "id": "f93d6b9de9e390fb",
   "execution_count": 24
  },
  {
   "cell_type": "code",
   "outputs": [
    {
     "data": {
      "text/plain": "                        Feature     Chi2 Value\n0                 protocol_type   0.000000e+00\n1                       service   0.000000e+00\n2                          flag   0.000000e+00\n3                     src_bytes   0.000000e+00\n4                     dst_bytes   0.000000e+00\n5                           hot   0.000000e+00\n6                     logged_in   0.000000e+00\n7                         count   0.000000e+00\n8                     srv_count   0.000000e+00\n9                   serror_rate   0.000000e+00\n10              srv_serror_rate   0.000000e+00\n11                  rerror_rate   0.000000e+00\n12              srv_rerror_rate   0.000000e+00\n13                same_srv_rate   0.000000e+00\n14                diff_srv_rate   0.000000e+00\n15           srv_diff_host_rate   0.000000e+00\n16               dst_host_count   0.000000e+00\n17           dst_host_srv_count   0.000000e+00\n18       dst_host_same_srv_rate   0.000000e+00\n19       dst_host_diff_srv_rate   0.000000e+00\n20  dst_host_same_src_port_rate   0.000000e+00\n21  dst_host_srv_diff_host_rate   0.000000e+00\n22         dst_host_serror_rate   0.000000e+00\n23     dst_host_srv_serror_rate   0.000000e+00\n24         dst_host_rerror_rate   0.000000e+00\n25     dst_host_srv_rerror_rate   0.000000e+00\n26                        level   0.000000e+00\n27               wrong_fragment  5.836058e-275\n28                     duration  1.169479e-250\n29              num_compromised  2.088161e-155\n30                     num_root   4.809373e-65\n31             num_access_files   1.101616e-56\n32               is_guest_login   5.341542e-44\n33           num_file_creations   1.245163e-17\n34                 su_attempted   4.338519e-15\n35                   root_shell   1.057830e-12\n36                   num_shells   3.325373e-05\n37            num_failed_logins   1.530833e-02\n38                         land   1.869013e-02\n39                       urgent   7.609159e-01\n40            num_outbound_cmds   1.000000e+00\n41                is_host_login   1.000000e+00",
      "text/html": "<div>\n<style scoped>\n    .dataframe tbody tr th:only-of-type {\n        vertical-align: middle;\n    }\n\n    .dataframe tbody tr th {\n        vertical-align: top;\n    }\n\n    .dataframe thead th {\n        text-align: right;\n    }\n</style>\n<table border=\"1\" class=\"dataframe\">\n  <thead>\n    <tr style=\"text-align: right;\">\n      <th></th>\n      <th>Feature</th>\n      <th>Chi2 Value</th>\n    </tr>\n  </thead>\n  <tbody>\n    <tr>\n      <th>0</th>\n      <td>protocol_type</td>\n      <td>0.000000e+00</td>\n    </tr>\n    <tr>\n      <th>1</th>\n      <td>service</td>\n      <td>0.000000e+00</td>\n    </tr>\n    <tr>\n      <th>2</th>\n      <td>flag</td>\n      <td>0.000000e+00</td>\n    </tr>\n    <tr>\n      <th>3</th>\n      <td>src_bytes</td>\n      <td>0.000000e+00</td>\n    </tr>\n    <tr>\n      <th>4</th>\n      <td>dst_bytes</td>\n      <td>0.000000e+00</td>\n    </tr>\n    <tr>\n      <th>5</th>\n      <td>hot</td>\n      <td>0.000000e+00</td>\n    </tr>\n    <tr>\n      <th>6</th>\n      <td>logged_in</td>\n      <td>0.000000e+00</td>\n    </tr>\n    <tr>\n      <th>7</th>\n      <td>count</td>\n      <td>0.000000e+00</td>\n    </tr>\n    <tr>\n      <th>8</th>\n      <td>srv_count</td>\n      <td>0.000000e+00</td>\n    </tr>\n    <tr>\n      <th>9</th>\n      <td>serror_rate</td>\n      <td>0.000000e+00</td>\n    </tr>\n    <tr>\n      <th>10</th>\n      <td>srv_serror_rate</td>\n      <td>0.000000e+00</td>\n    </tr>\n    <tr>\n      <th>11</th>\n      <td>rerror_rate</td>\n      <td>0.000000e+00</td>\n    </tr>\n    <tr>\n      <th>12</th>\n      <td>srv_rerror_rate</td>\n      <td>0.000000e+00</td>\n    </tr>\n    <tr>\n      <th>13</th>\n      <td>same_srv_rate</td>\n      <td>0.000000e+00</td>\n    </tr>\n    <tr>\n      <th>14</th>\n      <td>diff_srv_rate</td>\n      <td>0.000000e+00</td>\n    </tr>\n    <tr>\n      <th>15</th>\n      <td>srv_diff_host_rate</td>\n      <td>0.000000e+00</td>\n    </tr>\n    <tr>\n      <th>16</th>\n      <td>dst_host_count</td>\n      <td>0.000000e+00</td>\n    </tr>\n    <tr>\n      <th>17</th>\n      <td>dst_host_srv_count</td>\n      <td>0.000000e+00</td>\n    </tr>\n    <tr>\n      <th>18</th>\n      <td>dst_host_same_srv_rate</td>\n      <td>0.000000e+00</td>\n    </tr>\n    <tr>\n      <th>19</th>\n      <td>dst_host_diff_srv_rate</td>\n      <td>0.000000e+00</td>\n    </tr>\n    <tr>\n      <th>20</th>\n      <td>dst_host_same_src_port_rate</td>\n      <td>0.000000e+00</td>\n    </tr>\n    <tr>\n      <th>21</th>\n      <td>dst_host_srv_diff_host_rate</td>\n      <td>0.000000e+00</td>\n    </tr>\n    <tr>\n      <th>22</th>\n      <td>dst_host_serror_rate</td>\n      <td>0.000000e+00</td>\n    </tr>\n    <tr>\n      <th>23</th>\n      <td>dst_host_srv_serror_rate</td>\n      <td>0.000000e+00</td>\n    </tr>\n    <tr>\n      <th>24</th>\n      <td>dst_host_rerror_rate</td>\n      <td>0.000000e+00</td>\n    </tr>\n    <tr>\n      <th>25</th>\n      <td>dst_host_srv_rerror_rate</td>\n      <td>0.000000e+00</td>\n    </tr>\n    <tr>\n      <th>26</th>\n      <td>level</td>\n      <td>0.000000e+00</td>\n    </tr>\n    <tr>\n      <th>27</th>\n      <td>wrong_fragment</td>\n      <td>5.836058e-275</td>\n    </tr>\n    <tr>\n      <th>28</th>\n      <td>duration</td>\n      <td>1.169479e-250</td>\n    </tr>\n    <tr>\n      <th>29</th>\n      <td>num_compromised</td>\n      <td>2.088161e-155</td>\n    </tr>\n    <tr>\n      <th>30</th>\n      <td>num_root</td>\n      <td>4.809373e-65</td>\n    </tr>\n    <tr>\n      <th>31</th>\n      <td>num_access_files</td>\n      <td>1.101616e-56</td>\n    </tr>\n    <tr>\n      <th>32</th>\n      <td>is_guest_login</td>\n      <td>5.341542e-44</td>\n    </tr>\n    <tr>\n      <th>33</th>\n      <td>num_file_creations</td>\n      <td>1.245163e-17</td>\n    </tr>\n    <tr>\n      <th>34</th>\n      <td>su_attempted</td>\n      <td>4.338519e-15</td>\n    </tr>\n    <tr>\n      <th>35</th>\n      <td>root_shell</td>\n      <td>1.057830e-12</td>\n    </tr>\n    <tr>\n      <th>36</th>\n      <td>num_shells</td>\n      <td>3.325373e-05</td>\n    </tr>\n    <tr>\n      <th>37</th>\n      <td>num_failed_logins</td>\n      <td>1.530833e-02</td>\n    </tr>\n    <tr>\n      <th>38</th>\n      <td>land</td>\n      <td>1.869013e-02</td>\n    </tr>\n    <tr>\n      <th>39</th>\n      <td>urgent</td>\n      <td>7.609159e-01</td>\n    </tr>\n    <tr>\n      <th>40</th>\n      <td>num_outbound_cmds</td>\n      <td>1.000000e+00</td>\n    </tr>\n    <tr>\n      <th>41</th>\n      <td>is_host_login</td>\n      <td>1.000000e+00</td>\n    </tr>\n  </tbody>\n</table>\n</div>"
     },
     "execution_count": 25,
     "metadata": {},
     "output_type": "execute_result"
    }
   ],
   "source": [
    "result_df"
   ],
   "metadata": {
    "collapsed": false,
    "ExecuteTime": {
     "end_time": "2024-02-02T13:42:07.087393Z",
     "start_time": "2024-02-02T13:42:07.084010Z"
    }
   },
   "id": "25eeb767c2dc8974",
   "execution_count": 25
  },
  {
   "cell_type": "markdown",
   "source": [
    "## Chi Square v2"
   ],
   "metadata": {
    "collapsed": false
   },
   "id": "6d97408728211a52"
  },
  {
   "cell_type": "code",
   "outputs": [],
   "source": [
    "import pandas as pd\n",
    "import numpy as np\n",
    "from sklearn.feature_selection import SelectKBest\n",
    "from sklearn.feature_selection import chi2"
   ],
   "metadata": {
    "collapsed": false,
    "ExecuteTime": {
     "end_time": "2024-02-25T09:58:21.465559Z",
     "start_time": "2024-02-25T09:58:20.469005Z"
    }
   },
   "id": "a0eff0b438f43698",
   "execution_count": 1
  },
  {
   "cell_type": "code",
   "outputs": [],
   "source": [
    "df = pd.read_csv(\"../../data/BinaryClassify/train_nsl_kdd_binary_encoded.csv\")"
   ],
   "metadata": {
    "collapsed": false,
    "ExecuteTime": {
     "end_time": "2024-02-25T09:58:39.833803Z",
     "start_time": "2024-02-25T09:58:39.704255Z"
    }
   },
   "id": "fecb5fb24386a132",
   "execution_count": 2
  },
  {
   "cell_type": "code",
   "outputs": [],
   "source": [
    "X = df.drop(\"binaryoutcome\", axis=1)\n",
    "y = df[\"binaryoutcome\"]"
   ],
   "metadata": {
    "collapsed": false,
    "ExecuteTime": {
     "end_time": "2024-02-25T09:59:17.848279Z",
     "start_time": "2024-02-25T09:59:17.835554Z"
    }
   },
   "id": "7dd5f719100c2e59",
   "execution_count": 3
  },
  {
   "cell_type": "code",
   "outputs": [
    {
     "data": {
      "text/plain": "SelectKBest(k='all', score_func=<function chi2 at 0x137bf14e0>)",
      "text/html": "<style>#sk-container-id-1 {\n  /* Definition of color scheme common for light and dark mode */\n  --sklearn-color-text: black;\n  --sklearn-color-line: gray;\n  /* Definition of color scheme for unfitted estimators */\n  --sklearn-color-unfitted-level-0: #fff5e6;\n  --sklearn-color-unfitted-level-1: #f6e4d2;\n  --sklearn-color-unfitted-level-2: #ffe0b3;\n  --sklearn-color-unfitted-level-3: chocolate;\n  /* Definition of color scheme for fitted estimators */\n  --sklearn-color-fitted-level-0: #f0f8ff;\n  --sklearn-color-fitted-level-1: #d4ebff;\n  --sklearn-color-fitted-level-2: #b3dbfd;\n  --sklearn-color-fitted-level-3: cornflowerblue;\n\n  /* Specific color for light theme */\n  --sklearn-color-text-on-default-background: var(--sg-text-color, var(--theme-code-foreground, var(--jp-content-font-color1, black)));\n  --sklearn-color-background: var(--sg-background-color, var(--theme-background, var(--jp-layout-color0, white)));\n  --sklearn-color-border-box: var(--sg-text-color, var(--theme-code-foreground, var(--jp-content-font-color1, black)));\n  --sklearn-color-icon: #696969;\n\n  @media (prefers-color-scheme: dark) {\n    /* Redefinition of color scheme for dark theme */\n    --sklearn-color-text-on-default-background: var(--sg-text-color, var(--theme-code-foreground, var(--jp-content-font-color1, white)));\n    --sklearn-color-background: var(--sg-background-color, var(--theme-background, var(--jp-layout-color0, #111)));\n    --sklearn-color-border-box: var(--sg-text-color, var(--theme-code-foreground, var(--jp-content-font-color1, white)));\n    --sklearn-color-icon: #878787;\n  }\n}\n\n#sk-container-id-1 {\n  color: var(--sklearn-color-text);\n}\n\n#sk-container-id-1 pre {\n  padding: 0;\n}\n\n#sk-container-id-1 input.sk-hidden--visually {\n  border: 0;\n  clip: rect(1px 1px 1px 1px);\n  clip: rect(1px, 1px, 1px, 1px);\n  height: 1px;\n  margin: -1px;\n  overflow: hidden;\n  padding: 0;\n  position: absolute;\n  width: 1px;\n}\n\n#sk-container-id-1 div.sk-dashed-wrapped {\n  border: 1px dashed var(--sklearn-color-line);\n  margin: 0 0.4em 0.5em 0.4em;\n  box-sizing: border-box;\n  padding-bottom: 0.4em;\n  background-color: var(--sklearn-color-background);\n}\n\n#sk-container-id-1 div.sk-container {\n  /* jupyter's `normalize.less` sets `[hidden] { display: none; }`\n     but bootstrap.min.css set `[hidden] { display: none !important; }`\n     so we also need the `!important` here to be able to override the\n     default hidden behavior on the sphinx rendered scikit-learn.org.\n     See: https://github.com/scikit-learn/scikit-learn/issues/21755 */\n  display: inline-block !important;\n  position: relative;\n}\n\n#sk-container-id-1 div.sk-text-repr-fallback {\n  display: none;\n}\n\ndiv.sk-parallel-item,\ndiv.sk-serial,\ndiv.sk-item {\n  /* draw centered vertical line to link estimators */\n  background-image: linear-gradient(var(--sklearn-color-text-on-default-background), var(--sklearn-color-text-on-default-background));\n  background-size: 2px 100%;\n  background-repeat: no-repeat;\n  background-position: center center;\n}\n\n/* Parallel-specific style estimator block */\n\n#sk-container-id-1 div.sk-parallel-item::after {\n  content: \"\";\n  width: 100%;\n  border-bottom: 2px solid var(--sklearn-color-text-on-default-background);\n  flex-grow: 1;\n}\n\n#sk-container-id-1 div.sk-parallel {\n  display: flex;\n  align-items: stretch;\n  justify-content: center;\n  background-color: var(--sklearn-color-background);\n  position: relative;\n}\n\n#sk-container-id-1 div.sk-parallel-item {\n  display: flex;\n  flex-direction: column;\n}\n\n#sk-container-id-1 div.sk-parallel-item:first-child::after {\n  align-self: flex-end;\n  width: 50%;\n}\n\n#sk-container-id-1 div.sk-parallel-item:last-child::after {\n  align-self: flex-start;\n  width: 50%;\n}\n\n#sk-container-id-1 div.sk-parallel-item:only-child::after {\n  width: 0;\n}\n\n/* Serial-specific style estimator block */\n\n#sk-container-id-1 div.sk-serial {\n  display: flex;\n  flex-direction: column;\n  align-items: center;\n  background-color: var(--sklearn-color-background);\n  padding-right: 1em;\n  padding-left: 1em;\n}\n\n\n/* Toggleable style: style used for estimator/Pipeline/ColumnTransformer box that is\nclickable and can be expanded/collapsed.\n- Pipeline and ColumnTransformer use this feature and define the default style\n- Estimators will overwrite some part of the style using the `sk-estimator` class\n*/\n\n/* Pipeline and ColumnTransformer style (default) */\n\n#sk-container-id-1 div.sk-toggleable {\n  /* Default theme specific background. It is overwritten whether we have a\n  specific estimator or a Pipeline/ColumnTransformer */\n  background-color: var(--sklearn-color-background);\n}\n\n/* Toggleable label */\n#sk-container-id-1 label.sk-toggleable__label {\n  cursor: pointer;\n  display: block;\n  width: 100%;\n  margin-bottom: 0;\n  padding: 0.5em;\n  box-sizing: border-box;\n  text-align: center;\n}\n\n#sk-container-id-1 label.sk-toggleable__label-arrow:before {\n  /* Arrow on the left of the label */\n  content: \"▸\";\n  float: left;\n  margin-right: 0.25em;\n  color: var(--sklearn-color-icon);\n}\n\n#sk-container-id-1 label.sk-toggleable__label-arrow:hover:before {\n  color: var(--sklearn-color-text);\n}\n\n/* Toggleable content - dropdown */\n\n#sk-container-id-1 div.sk-toggleable__content {\n  max-height: 0;\n  max-width: 0;\n  overflow: hidden;\n  text-align: left;\n  /* unfitted */\n  background-color: var(--sklearn-color-unfitted-level-0);\n}\n\n#sk-container-id-1 div.sk-toggleable__content.fitted {\n  /* fitted */\n  background-color: var(--sklearn-color-fitted-level-0);\n}\n\n#sk-container-id-1 div.sk-toggleable__content pre {\n  margin: 0.2em;\n  border-radius: 0.25em;\n  color: var(--sklearn-color-text);\n  /* unfitted */\n  background-color: var(--sklearn-color-unfitted-level-0);\n}\n\n#sk-container-id-1 div.sk-toggleable__content.fitted pre {\n  /* unfitted */\n  background-color: var(--sklearn-color-fitted-level-0);\n}\n\n#sk-container-id-1 input.sk-toggleable__control:checked~div.sk-toggleable__content {\n  /* Expand drop-down */\n  max-height: 200px;\n  max-width: 100%;\n  overflow: auto;\n}\n\n#sk-container-id-1 input.sk-toggleable__control:checked~label.sk-toggleable__label-arrow:before {\n  content: \"▾\";\n}\n\n/* Pipeline/ColumnTransformer-specific style */\n\n#sk-container-id-1 div.sk-label input.sk-toggleable__control:checked~label.sk-toggleable__label {\n  color: var(--sklearn-color-text);\n  background-color: var(--sklearn-color-unfitted-level-2);\n}\n\n#sk-container-id-1 div.sk-label.fitted input.sk-toggleable__control:checked~label.sk-toggleable__label {\n  background-color: var(--sklearn-color-fitted-level-2);\n}\n\n/* Estimator-specific style */\n\n/* Colorize estimator box */\n#sk-container-id-1 div.sk-estimator input.sk-toggleable__control:checked~label.sk-toggleable__label {\n  /* unfitted */\n  background-color: var(--sklearn-color-unfitted-level-2);\n}\n\n#sk-container-id-1 div.sk-estimator.fitted input.sk-toggleable__control:checked~label.sk-toggleable__label {\n  /* fitted */\n  background-color: var(--sklearn-color-fitted-level-2);\n}\n\n#sk-container-id-1 div.sk-label label.sk-toggleable__label,\n#sk-container-id-1 div.sk-label label {\n  /* The background is the default theme color */\n  color: var(--sklearn-color-text-on-default-background);\n}\n\n/* On hover, darken the color of the background */\n#sk-container-id-1 div.sk-label:hover label.sk-toggleable__label {\n  color: var(--sklearn-color-text);\n  background-color: var(--sklearn-color-unfitted-level-2);\n}\n\n/* Label box, darken color on hover, fitted */\n#sk-container-id-1 div.sk-label.fitted:hover label.sk-toggleable__label.fitted {\n  color: var(--sklearn-color-text);\n  background-color: var(--sklearn-color-fitted-level-2);\n}\n\n/* Estimator label */\n\n#sk-container-id-1 div.sk-label label {\n  font-family: monospace;\n  font-weight: bold;\n  display: inline-block;\n  line-height: 1.2em;\n}\n\n#sk-container-id-1 div.sk-label-container {\n  text-align: center;\n}\n\n/* Estimator-specific */\n#sk-container-id-1 div.sk-estimator {\n  font-family: monospace;\n  border: 1px dotted var(--sklearn-color-border-box);\n  border-radius: 0.25em;\n  box-sizing: border-box;\n  margin-bottom: 0.5em;\n  /* unfitted */\n  background-color: var(--sklearn-color-unfitted-level-0);\n}\n\n#sk-container-id-1 div.sk-estimator.fitted {\n  /* fitted */\n  background-color: var(--sklearn-color-fitted-level-0);\n}\n\n/* on hover */\n#sk-container-id-1 div.sk-estimator:hover {\n  /* unfitted */\n  background-color: var(--sklearn-color-unfitted-level-2);\n}\n\n#sk-container-id-1 div.sk-estimator.fitted:hover {\n  /* fitted */\n  background-color: var(--sklearn-color-fitted-level-2);\n}\n\n/* Specification for estimator info (e.g. \"i\" and \"?\") */\n\n/* Common style for \"i\" and \"?\" */\n\n.sk-estimator-doc-link,\na:link.sk-estimator-doc-link,\na:visited.sk-estimator-doc-link {\n  float: right;\n  font-size: smaller;\n  line-height: 1em;\n  font-family: monospace;\n  background-color: var(--sklearn-color-background);\n  border-radius: 1em;\n  height: 1em;\n  width: 1em;\n  text-decoration: none !important;\n  margin-left: 1ex;\n  /* unfitted */\n  border: var(--sklearn-color-unfitted-level-1) 1pt solid;\n  color: var(--sklearn-color-unfitted-level-1);\n}\n\n.sk-estimator-doc-link.fitted,\na:link.sk-estimator-doc-link.fitted,\na:visited.sk-estimator-doc-link.fitted {\n  /* fitted */\n  border: var(--sklearn-color-fitted-level-1) 1pt solid;\n  color: var(--sklearn-color-fitted-level-1);\n}\n\n/* On hover */\ndiv.sk-estimator:hover .sk-estimator-doc-link:hover,\n.sk-estimator-doc-link:hover,\ndiv.sk-label-container:hover .sk-estimator-doc-link:hover,\n.sk-estimator-doc-link:hover {\n  /* unfitted */\n  background-color: var(--sklearn-color-unfitted-level-3);\n  color: var(--sklearn-color-background);\n  text-decoration: none;\n}\n\ndiv.sk-estimator.fitted:hover .sk-estimator-doc-link.fitted:hover,\n.sk-estimator-doc-link.fitted:hover,\ndiv.sk-label-container:hover .sk-estimator-doc-link.fitted:hover,\n.sk-estimator-doc-link.fitted:hover {\n  /* fitted */\n  background-color: var(--sklearn-color-fitted-level-3);\n  color: var(--sklearn-color-background);\n  text-decoration: none;\n}\n\n/* Span, style for the box shown on hovering the info icon */\n.sk-estimator-doc-link span {\n  display: none;\n  z-index: 9999;\n  position: relative;\n  font-weight: normal;\n  right: .2ex;\n  padding: .5ex;\n  margin: .5ex;\n  width: min-content;\n  min-width: 20ex;\n  max-width: 50ex;\n  color: var(--sklearn-color-text);\n  box-shadow: 2pt 2pt 4pt #999;\n  /* unfitted */\n  background: var(--sklearn-color-unfitted-level-0);\n  border: .5pt solid var(--sklearn-color-unfitted-level-3);\n}\n\n.sk-estimator-doc-link.fitted span {\n  /* fitted */\n  background: var(--sklearn-color-fitted-level-0);\n  border: var(--sklearn-color-fitted-level-3);\n}\n\n.sk-estimator-doc-link:hover span {\n  display: block;\n}\n\n/* \"?\"-specific style due to the `<a>` HTML tag */\n\n#sk-container-id-1 a.estimator_doc_link {\n  float: right;\n  font-size: 1rem;\n  line-height: 1em;\n  font-family: monospace;\n  background-color: var(--sklearn-color-background);\n  border-radius: 1rem;\n  height: 1rem;\n  width: 1rem;\n  text-decoration: none;\n  /* unfitted */\n  color: var(--sklearn-color-unfitted-level-1);\n  border: var(--sklearn-color-unfitted-level-1) 1pt solid;\n}\n\n#sk-container-id-1 a.estimator_doc_link.fitted {\n  /* fitted */\n  border: var(--sklearn-color-fitted-level-1) 1pt solid;\n  color: var(--sklearn-color-fitted-level-1);\n}\n\n/* On hover */\n#sk-container-id-1 a.estimator_doc_link:hover {\n  /* unfitted */\n  background-color: var(--sklearn-color-unfitted-level-3);\n  color: var(--sklearn-color-background);\n  text-decoration: none;\n}\n\n#sk-container-id-1 a.estimator_doc_link.fitted:hover {\n  /* fitted */\n  background-color: var(--sklearn-color-fitted-level-3);\n}\n</style><div id=\"sk-container-id-1\" class=\"sk-top-container\"><div class=\"sk-text-repr-fallback\"><pre>SelectKBest(k=&#x27;all&#x27;, score_func=&lt;function chi2 at 0x137bf14e0&gt;)</pre><b>In a Jupyter environment, please rerun this cell to show the HTML representation or trust the notebook. <br />On GitHub, the HTML representation is unable to render, please try loading this page with nbviewer.org.</b></div><div class=\"sk-container\" hidden><div class=\"sk-item\"><div class=\"sk-estimator fitted sk-toggleable\"><input class=\"sk-toggleable__control sk-hidden--visually\" id=\"sk-estimator-id-1\" type=\"checkbox\" checked><label for=\"sk-estimator-id-1\" class=\"sk-toggleable__label fitted sk-toggleable__label-arrow fitted\">&nbsp;&nbsp;SelectKBest<a class=\"sk-estimator-doc-link fitted\" rel=\"noreferrer\" target=\"_blank\" href=\"https://scikit-learn.org/1.4/modules/generated/sklearn.feature_selection.SelectKBest.html\">?<span>Documentation for SelectKBest</span></a><span class=\"sk-estimator-doc-link fitted\">i<span>Fitted</span></span></label><div class=\"sk-toggleable__content fitted\"><pre>SelectKBest(k=&#x27;all&#x27;, score_func=&lt;function chi2 at 0x137bf14e0&gt;)</pre></div> </div></div></div></div>"
     },
     "execution_count": 4,
     "metadata": {},
     "output_type": "execute_result"
    }
   ],
   "source": [
    "# Compute chi-square statistics\n",
    "chi2_selector = SelectKBest(chi2, k='all')\n",
    "chi2_selector.fit(X, y)"
   ],
   "metadata": {
    "collapsed": false,
    "ExecuteTime": {
     "end_time": "2024-02-25T09:59:31.101384Z",
     "start_time": "2024-02-25T09:59:31.048417Z"
    }
   },
   "id": "3016d9b4f02e4132",
   "execution_count": 4
  },
  {
   "cell_type": "code",
   "outputs": [],
   "source": [
    "# Get chi-square values and corresponding feature names\n",
    "chi2_values = chi2_selector.scores_\n",
    "feature_names = [f\"Feature_{i}\" for i in range(X.shape[1])]"
   ],
   "metadata": {
    "collapsed": false,
    "ExecuteTime": {
     "end_time": "2024-02-25T09:59:49.195278Z",
     "start_time": "2024-02-25T09:59:49.183671Z"
    }
   },
   "id": "a473cd0ee289178b",
   "execution_count": 5
  },
  {
   "cell_type": "code",
   "outputs": [],
   "source": [
    "# Create a DataFrame to store feature names and their corresponding chi-square values\n",
    "feature_chi2_df = pd.DataFrame({\n",
    "    'Feature': X.columns,\n",
    "    'Chi-Square Value': chi2_values\n",
    "})"
   ],
   "metadata": {
    "collapsed": false,
    "ExecuteTime": {
     "end_time": "2024-02-25T10:03:31.354461Z",
     "start_time": "2024-02-25T10:03:31.345841Z"
    }
   },
   "id": "a6d2a1ef19b0b83",
   "execution_count": 11
  },
  {
   "cell_type": "code",
   "outputs": [
    {
     "data": {
      "text/plain": "                        Feature  Chi-Square Value\n0                      duration      7.082565e+06\n1                 protocol_type      1.723290e+03\n2                       service      8.243794e+04\n3                          flag      5.465393e+04\n4                     src_bytes      3.340258e+09\n5                     dst_bytes      1.746063e+09\n6                          land      6.512199e+00\n7                wrong_fragment      3.282678e+03\n8                        urgent      1.817181e+00\n9                           hot      4.876710e+02\n10            num_failed_logins      2.974009e+00\n11                    logged_in      3.625974e+04\n12              num_compromised      2.689475e+04\n13                   root_shell      5.176937e+01\n14                 su_attempted      1.173053e+02\n15                     num_root      3.255097e+04\n16           num_file_creations      1.053574e+03\n17                   num_shells      1.347134e+01\n18             num_access_files      4.090340e+02\n19            num_outbound_cmds               NaN\n20                is_host_login      8.706305e-01\n21               is_guest_login      1.925320e+02\n22                        count      6.525617e+06\n23                    srv_count      1.413592e+01\n24                  serror_rate      3.736484e+04\n25              srv_serror_rate      3.745132e+04\n26                  rerror_rate      6.923373e+03\n27              srv_rerror_rate      6.997368e+03\n28                same_srv_rate      2.082641e+04\n29                diff_srv_rate      2.694210e+03\n30           srv_diff_host_rate      1.245395e+03\n31               dst_host_count      9.574258e+05\n32           dst_host_srv_count      6.968827e+06\n33       dst_host_same_srv_rate      2.344821e+04\n34       dst_host_diff_srv_rate      3.197843e+03\n35  dst_host_same_src_port_rate      6.927568e+02\n36  dst_host_srv_diff_host_rate      1.905539e+02\n37         dst_host_serror_rate      3.722547e+04\n38     dst_host_srv_serror_rate      3.854382e+04\n39         dst_host_rerror_rate      6.354756e+03\n40     dst_host_srv_rerror_rate      6.866941e+03\n41                        level      4.889746e+03",
      "text/html": "<div>\n<style scoped>\n    .dataframe tbody tr th:only-of-type {\n        vertical-align: middle;\n    }\n\n    .dataframe tbody tr th {\n        vertical-align: top;\n    }\n\n    .dataframe thead th {\n        text-align: right;\n    }\n</style>\n<table border=\"1\" class=\"dataframe\">\n  <thead>\n    <tr style=\"text-align: right;\">\n      <th></th>\n      <th>Feature</th>\n      <th>Chi-Square Value</th>\n    </tr>\n  </thead>\n  <tbody>\n    <tr>\n      <th>0</th>\n      <td>duration</td>\n      <td>7.082565e+06</td>\n    </tr>\n    <tr>\n      <th>1</th>\n      <td>protocol_type</td>\n      <td>1.723290e+03</td>\n    </tr>\n    <tr>\n      <th>2</th>\n      <td>service</td>\n      <td>8.243794e+04</td>\n    </tr>\n    <tr>\n      <th>3</th>\n      <td>flag</td>\n      <td>5.465393e+04</td>\n    </tr>\n    <tr>\n      <th>4</th>\n      <td>src_bytes</td>\n      <td>3.340258e+09</td>\n    </tr>\n    <tr>\n      <th>5</th>\n      <td>dst_bytes</td>\n      <td>1.746063e+09</td>\n    </tr>\n    <tr>\n      <th>6</th>\n      <td>land</td>\n      <td>6.512199e+00</td>\n    </tr>\n    <tr>\n      <th>7</th>\n      <td>wrong_fragment</td>\n      <td>3.282678e+03</td>\n    </tr>\n    <tr>\n      <th>8</th>\n      <td>urgent</td>\n      <td>1.817181e+00</td>\n    </tr>\n    <tr>\n      <th>9</th>\n      <td>hot</td>\n      <td>4.876710e+02</td>\n    </tr>\n    <tr>\n      <th>10</th>\n      <td>num_failed_logins</td>\n      <td>2.974009e+00</td>\n    </tr>\n    <tr>\n      <th>11</th>\n      <td>logged_in</td>\n      <td>3.625974e+04</td>\n    </tr>\n    <tr>\n      <th>12</th>\n      <td>num_compromised</td>\n      <td>2.689475e+04</td>\n    </tr>\n    <tr>\n      <th>13</th>\n      <td>root_shell</td>\n      <td>5.176937e+01</td>\n    </tr>\n    <tr>\n      <th>14</th>\n      <td>su_attempted</td>\n      <td>1.173053e+02</td>\n    </tr>\n    <tr>\n      <th>15</th>\n      <td>num_root</td>\n      <td>3.255097e+04</td>\n    </tr>\n    <tr>\n      <th>16</th>\n      <td>num_file_creations</td>\n      <td>1.053574e+03</td>\n    </tr>\n    <tr>\n      <th>17</th>\n      <td>num_shells</td>\n      <td>1.347134e+01</td>\n    </tr>\n    <tr>\n      <th>18</th>\n      <td>num_access_files</td>\n      <td>4.090340e+02</td>\n    </tr>\n    <tr>\n      <th>19</th>\n      <td>num_outbound_cmds</td>\n      <td>NaN</td>\n    </tr>\n    <tr>\n      <th>20</th>\n      <td>is_host_login</td>\n      <td>8.706305e-01</td>\n    </tr>\n    <tr>\n      <th>21</th>\n      <td>is_guest_login</td>\n      <td>1.925320e+02</td>\n    </tr>\n    <tr>\n      <th>22</th>\n      <td>count</td>\n      <td>6.525617e+06</td>\n    </tr>\n    <tr>\n      <th>23</th>\n      <td>srv_count</td>\n      <td>1.413592e+01</td>\n    </tr>\n    <tr>\n      <th>24</th>\n      <td>serror_rate</td>\n      <td>3.736484e+04</td>\n    </tr>\n    <tr>\n      <th>25</th>\n      <td>srv_serror_rate</td>\n      <td>3.745132e+04</td>\n    </tr>\n    <tr>\n      <th>26</th>\n      <td>rerror_rate</td>\n      <td>6.923373e+03</td>\n    </tr>\n    <tr>\n      <th>27</th>\n      <td>srv_rerror_rate</td>\n      <td>6.997368e+03</td>\n    </tr>\n    <tr>\n      <th>28</th>\n      <td>same_srv_rate</td>\n      <td>2.082641e+04</td>\n    </tr>\n    <tr>\n      <th>29</th>\n      <td>diff_srv_rate</td>\n      <td>2.694210e+03</td>\n    </tr>\n    <tr>\n      <th>30</th>\n      <td>srv_diff_host_rate</td>\n      <td>1.245395e+03</td>\n    </tr>\n    <tr>\n      <th>31</th>\n      <td>dst_host_count</td>\n      <td>9.574258e+05</td>\n    </tr>\n    <tr>\n      <th>32</th>\n      <td>dst_host_srv_count</td>\n      <td>6.968827e+06</td>\n    </tr>\n    <tr>\n      <th>33</th>\n      <td>dst_host_same_srv_rate</td>\n      <td>2.344821e+04</td>\n    </tr>\n    <tr>\n      <th>34</th>\n      <td>dst_host_diff_srv_rate</td>\n      <td>3.197843e+03</td>\n    </tr>\n    <tr>\n      <th>35</th>\n      <td>dst_host_same_src_port_rate</td>\n      <td>6.927568e+02</td>\n    </tr>\n    <tr>\n      <th>36</th>\n      <td>dst_host_srv_diff_host_rate</td>\n      <td>1.905539e+02</td>\n    </tr>\n    <tr>\n      <th>37</th>\n      <td>dst_host_serror_rate</td>\n      <td>3.722547e+04</td>\n    </tr>\n    <tr>\n      <th>38</th>\n      <td>dst_host_srv_serror_rate</td>\n      <td>3.854382e+04</td>\n    </tr>\n    <tr>\n      <th>39</th>\n      <td>dst_host_rerror_rate</td>\n      <td>6.354756e+03</td>\n    </tr>\n    <tr>\n      <th>40</th>\n      <td>dst_host_srv_rerror_rate</td>\n      <td>6.866941e+03</td>\n    </tr>\n    <tr>\n      <th>41</th>\n      <td>level</td>\n      <td>4.889746e+03</td>\n    </tr>\n  </tbody>\n</table>\n</div>"
     },
     "execution_count": 12,
     "metadata": {},
     "output_type": "execute_result"
    }
   ],
   "source": [
    "feature_chi2_df"
   ],
   "metadata": {
    "collapsed": false,
    "ExecuteTime": {
     "end_time": "2024-02-25T10:03:32.675883Z",
     "start_time": "2024-02-25T10:03:32.672089Z"
    }
   },
   "id": "eccdb2997a2be6c5",
   "execution_count": 12
  },
  {
   "cell_type": "code",
   "outputs": [],
   "source": [
    "# Sort features by their chi-square values\n",
    "feature_chi2_df = feature_chi2_df.sort_values(by='Chi-Square Value', ascending=False)"
   ],
   "metadata": {
    "collapsed": false,
    "ExecuteTime": {
     "end_time": "2024-02-25T10:03:51.440735Z",
     "start_time": "2024-02-25T10:03:51.435452Z"
    }
   },
   "id": "6f7e9f29baab83ef",
   "execution_count": 13
  },
  {
   "cell_type": "code",
   "outputs": [],
   "source": [
    "# Save to Excel\n",
    "excel_file_path = 'chi_square_results_v2.xlsx'\n",
    "feature_chi2_df.to_excel(excel_file_path, index=False)\n"
   ],
   "metadata": {
    "collapsed": false,
    "ExecuteTime": {
     "end_time": "2024-02-25T10:04:20.252127Z",
     "start_time": "2024-02-25T10:04:20.228334Z"
    }
   },
   "id": "6270c99b39bcc06b",
   "execution_count": 14
  },
  {
   "cell_type": "code",
   "outputs": [
    {
     "data": {
      "text/plain": "                        Feature  Chi-Square Value\n4                     src_bytes      3.340258e+09\n5                     dst_bytes      1.746063e+09\n0                      duration      7.082565e+06\n32           dst_host_srv_count      6.968827e+06\n22                        count      6.525617e+06\n31               dst_host_count      9.574258e+05\n2                       service      8.243794e+04\n3                          flag      5.465393e+04\n38     dst_host_srv_serror_rate      3.854382e+04\n25              srv_serror_rate      3.745132e+04\n24                  serror_rate      3.736484e+04\n37         dst_host_serror_rate      3.722547e+04\n11                    logged_in      3.625974e+04\n15                     num_root      3.255097e+04\n12              num_compromised      2.689475e+04\n33       dst_host_same_srv_rate      2.344821e+04\n28                same_srv_rate      2.082641e+04\n27              srv_rerror_rate      6.997368e+03\n26                  rerror_rate      6.923373e+03\n40     dst_host_srv_rerror_rate      6.866941e+03\n39         dst_host_rerror_rate      6.354756e+03\n41                        level      4.889746e+03\n7                wrong_fragment      3.282678e+03\n34       dst_host_diff_srv_rate      3.197843e+03\n29                diff_srv_rate      2.694210e+03\n1                 protocol_type      1.723290e+03\n30           srv_diff_host_rate      1.245395e+03\n16           num_file_creations      1.053574e+03\n35  dst_host_same_src_port_rate      6.927568e+02\n9                           hot      4.876710e+02\n18             num_access_files      4.090340e+02\n21               is_guest_login      1.925320e+02\n36  dst_host_srv_diff_host_rate      1.905539e+02\n14                 su_attempted      1.173053e+02\n13                   root_shell      5.176937e+01\n23                    srv_count      1.413592e+01\n17                   num_shells      1.347134e+01\n6                          land      6.512199e+00\n10            num_failed_logins      2.974009e+00\n8                        urgent      1.817181e+00\n20                is_host_login      8.706305e-01\n19            num_outbound_cmds               NaN",
      "text/html": "<div>\n<style scoped>\n    .dataframe tbody tr th:only-of-type {\n        vertical-align: middle;\n    }\n\n    .dataframe tbody tr th {\n        vertical-align: top;\n    }\n\n    .dataframe thead th {\n        text-align: right;\n    }\n</style>\n<table border=\"1\" class=\"dataframe\">\n  <thead>\n    <tr style=\"text-align: right;\">\n      <th></th>\n      <th>Feature</th>\n      <th>Chi-Square Value</th>\n    </tr>\n  </thead>\n  <tbody>\n    <tr>\n      <th>4</th>\n      <td>src_bytes</td>\n      <td>3.340258e+09</td>\n    </tr>\n    <tr>\n      <th>5</th>\n      <td>dst_bytes</td>\n      <td>1.746063e+09</td>\n    </tr>\n    <tr>\n      <th>0</th>\n      <td>duration</td>\n      <td>7.082565e+06</td>\n    </tr>\n    <tr>\n      <th>32</th>\n      <td>dst_host_srv_count</td>\n      <td>6.968827e+06</td>\n    </tr>\n    <tr>\n      <th>22</th>\n      <td>count</td>\n      <td>6.525617e+06</td>\n    </tr>\n    <tr>\n      <th>31</th>\n      <td>dst_host_count</td>\n      <td>9.574258e+05</td>\n    </tr>\n    <tr>\n      <th>2</th>\n      <td>service</td>\n      <td>8.243794e+04</td>\n    </tr>\n    <tr>\n      <th>3</th>\n      <td>flag</td>\n      <td>5.465393e+04</td>\n    </tr>\n    <tr>\n      <th>38</th>\n      <td>dst_host_srv_serror_rate</td>\n      <td>3.854382e+04</td>\n    </tr>\n    <tr>\n      <th>25</th>\n      <td>srv_serror_rate</td>\n      <td>3.745132e+04</td>\n    </tr>\n    <tr>\n      <th>24</th>\n      <td>serror_rate</td>\n      <td>3.736484e+04</td>\n    </tr>\n    <tr>\n      <th>37</th>\n      <td>dst_host_serror_rate</td>\n      <td>3.722547e+04</td>\n    </tr>\n    <tr>\n      <th>11</th>\n      <td>logged_in</td>\n      <td>3.625974e+04</td>\n    </tr>\n    <tr>\n      <th>15</th>\n      <td>num_root</td>\n      <td>3.255097e+04</td>\n    </tr>\n    <tr>\n      <th>12</th>\n      <td>num_compromised</td>\n      <td>2.689475e+04</td>\n    </tr>\n    <tr>\n      <th>33</th>\n      <td>dst_host_same_srv_rate</td>\n      <td>2.344821e+04</td>\n    </tr>\n    <tr>\n      <th>28</th>\n      <td>same_srv_rate</td>\n      <td>2.082641e+04</td>\n    </tr>\n    <tr>\n      <th>27</th>\n      <td>srv_rerror_rate</td>\n      <td>6.997368e+03</td>\n    </tr>\n    <tr>\n      <th>26</th>\n      <td>rerror_rate</td>\n      <td>6.923373e+03</td>\n    </tr>\n    <tr>\n      <th>40</th>\n      <td>dst_host_srv_rerror_rate</td>\n      <td>6.866941e+03</td>\n    </tr>\n    <tr>\n      <th>39</th>\n      <td>dst_host_rerror_rate</td>\n      <td>6.354756e+03</td>\n    </tr>\n    <tr>\n      <th>41</th>\n      <td>level</td>\n      <td>4.889746e+03</td>\n    </tr>\n    <tr>\n      <th>7</th>\n      <td>wrong_fragment</td>\n      <td>3.282678e+03</td>\n    </tr>\n    <tr>\n      <th>34</th>\n      <td>dst_host_diff_srv_rate</td>\n      <td>3.197843e+03</td>\n    </tr>\n    <tr>\n      <th>29</th>\n      <td>diff_srv_rate</td>\n      <td>2.694210e+03</td>\n    </tr>\n    <tr>\n      <th>1</th>\n      <td>protocol_type</td>\n      <td>1.723290e+03</td>\n    </tr>\n    <tr>\n      <th>30</th>\n      <td>srv_diff_host_rate</td>\n      <td>1.245395e+03</td>\n    </tr>\n    <tr>\n      <th>16</th>\n      <td>num_file_creations</td>\n      <td>1.053574e+03</td>\n    </tr>\n    <tr>\n      <th>35</th>\n      <td>dst_host_same_src_port_rate</td>\n      <td>6.927568e+02</td>\n    </tr>\n    <tr>\n      <th>9</th>\n      <td>hot</td>\n      <td>4.876710e+02</td>\n    </tr>\n    <tr>\n      <th>18</th>\n      <td>num_access_files</td>\n      <td>4.090340e+02</td>\n    </tr>\n    <tr>\n      <th>21</th>\n      <td>is_guest_login</td>\n      <td>1.925320e+02</td>\n    </tr>\n    <tr>\n      <th>36</th>\n      <td>dst_host_srv_diff_host_rate</td>\n      <td>1.905539e+02</td>\n    </tr>\n    <tr>\n      <th>14</th>\n      <td>su_attempted</td>\n      <td>1.173053e+02</td>\n    </tr>\n    <tr>\n      <th>13</th>\n      <td>root_shell</td>\n      <td>5.176937e+01</td>\n    </tr>\n    <tr>\n      <th>23</th>\n      <td>srv_count</td>\n      <td>1.413592e+01</td>\n    </tr>\n    <tr>\n      <th>17</th>\n      <td>num_shells</td>\n      <td>1.347134e+01</td>\n    </tr>\n    <tr>\n      <th>6</th>\n      <td>land</td>\n      <td>6.512199e+00</td>\n    </tr>\n    <tr>\n      <th>10</th>\n      <td>num_failed_logins</td>\n      <td>2.974009e+00</td>\n    </tr>\n    <tr>\n      <th>8</th>\n      <td>urgent</td>\n      <td>1.817181e+00</td>\n    </tr>\n    <tr>\n      <th>20</th>\n      <td>is_host_login</td>\n      <td>8.706305e-01</td>\n    </tr>\n    <tr>\n      <th>19</th>\n      <td>num_outbound_cmds</td>\n      <td>NaN</td>\n    </tr>\n  </tbody>\n</table>\n</div>"
     },
     "execution_count": 15,
     "metadata": {},
     "output_type": "execute_result"
    }
   ],
   "source": [
    "feature_chi2_df"
   ],
   "metadata": {
    "collapsed": false,
    "ExecuteTime": {
     "end_time": "2024-02-25T10:04:27.874256Z",
     "start_time": "2024-02-25T10:04:27.867420Z"
    }
   },
   "id": "4462e3c10cf63efd",
   "execution_count": 15
  },
  {
   "cell_type": "code",
   "outputs": [],
   "source": [],
   "metadata": {
    "collapsed": false
   },
   "id": "d7988e97e61fd51"
  }
 ],
 "metadata": {
  "kernelspec": {
   "display_name": "Python 3",
   "language": "python",
   "name": "python3"
  },
  "language_info": {
   "codemirror_mode": {
    "name": "ipython",
    "version": 2
   },
   "file_extension": ".py",
   "mimetype": "text/x-python",
   "name": "python",
   "nbconvert_exporter": "python",
   "pygments_lexer": "ipython2",
   "version": "2.7.6"
  }
 },
 "nbformat": 4,
 "nbformat_minor": 5
}
