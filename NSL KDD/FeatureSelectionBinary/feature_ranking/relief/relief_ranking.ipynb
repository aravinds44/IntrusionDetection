{
 "cells": [
  {
   "cell_type": "code",
   "execution_count": 4,
   "id": "initial_id",
   "metadata": {
    "collapsed": true,
    "ExecuteTime": {
     "end_time": "2024-02-11T13:22:43.454178Z",
     "start_time": "2024-02-11T13:22:43.445433Z"
    }
   },
   "outputs": [],
   "source": [
    "# !pip install sklearn_relief"
   ]
  },
  {
   "cell_type": "code",
   "outputs": [],
   "source": [
    "import sklearn_relief as sr\n",
    "import pandas as pd\n",
    "import numpy as np\n",
    "from ReliefF import ReliefF"
   ],
   "metadata": {
    "collapsed": false,
    "ExecuteTime": {
     "end_time": "2024-02-11T19:03:35.419138Z",
     "start_time": "2024-02-11T19:03:35.416127Z"
    }
   },
   "id": "778bda131ed06668",
   "execution_count": 4
  },
  {
   "cell_type": "code",
   "outputs": [],
   "source": [
    "#loading encoded data from csv\n",
    "\n",
    "df = pd.read_csv(\"../../data/BinaryClassify/train_nsl_kdd_binary_encoded.csv\")"
   ],
   "metadata": {
    "collapsed": false,
    "ExecuteTime": {
     "end_time": "2024-02-11T19:03:36.028808Z",
     "start_time": "2024-02-11T19:03:35.887527Z"
    }
   },
   "id": "c18971e9615dd971",
   "execution_count": 5
  },
  {
   "cell_type": "code",
   "outputs": [],
   "source": [
    "X = df.drop(\"binaryoutcome\", axis=1) # Replace \"target\" with your actual target column name\n",
    "y = df[\"binaryoutcome\"]"
   ],
   "metadata": {
    "collapsed": false,
    "ExecuteTime": {
     "end_time": "2024-02-11T19:06:53.207594Z",
     "start_time": "2024-02-11T19:06:53.192787Z"
    }
   },
   "id": "db9120c68bfaec09",
   "execution_count": 13
  },
  {
   "cell_type": "code",
   "outputs": [],
   "source": [
    "X = np.array(X)\n",
    "y = np.array(y)"
   ],
   "metadata": {
    "collapsed": false,
    "ExecuteTime": {
     "end_time": "2024-02-11T19:06:58.865366Z",
     "start_time": "2024-02-11T19:06:58.853657Z"
    }
   },
   "id": "f3e16015e6d2e19a",
   "execution_count": 15
  },
  {
   "cell_type": "code",
   "outputs": [],
   "source": [
    "rf = ReliefF(n_neighbors=10,n_features_to_keep=42)"
   ],
   "metadata": {
    "collapsed": false,
    "ExecuteTime": {
     "end_time": "2024-02-11T19:07:13.914516Z",
     "start_time": "2024-02-11T19:07:13.911229Z"
    }
   },
   "id": "79d928f518dba3e1",
   "execution_count": 18
  },
  {
   "cell_type": "code",
   "outputs": [],
   "source": [
    "selected = rf.fit_transform(X, y)"
   ],
   "metadata": {
    "collapsed": false,
    "ExecuteTime": {
     "end_time": "2024-02-11T19:07:36.755683Z",
     "start_time": "2024-02-11T19:07:15.510715Z"
    }
   },
   "id": "a50990be2fa8197",
   "execution_count": 19
  },
  {
   "cell_type": "code",
   "outputs": [
    {
     "data": {
      "text/plain": "1036340.0"
     },
     "execution_count": 22,
     "metadata": {},
     "output_type": "execute_result"
    }
   ],
   "source": [
    "rf.feature_scores[0]"
   ],
   "metadata": {
    "collapsed": false,
    "ExecuteTime": {
     "end_time": "2024-02-11T19:09:22.971504Z",
     "start_time": "2024-02-11T19:09:22.968211Z"
    }
   },
   "id": "53c741c6b727e92f",
   "execution_count": 22
  },
  {
   "cell_type": "code",
   "outputs": [],
   "source": [
    "feature_relief_values = {}\n",
    "\n",
    "for feature_column in df.columns[:-1]:  # Exclude the target column\n",
    "    idx = df.columns.get_loc(feature_column)\n",
    "    feature_relief_values[feature_column] = rf.feature_scores[idx]"
   ],
   "metadata": {
    "collapsed": false,
    "ExecuteTime": {
     "end_time": "2024-02-11T19:10:12.282323Z",
     "start_time": "2024-02-11T19:10:12.275649Z"
    }
   },
   "id": "5173b76fdc61ca1d",
   "execution_count": 23
  },
  {
   "cell_type": "code",
   "outputs": [
    {
     "data": {
      "text/plain": "{'duration': 1036340.0,\n 'protocol_type': 1241760.0,\n 'service': 947144.0,\n 'flag': 1182444.0,\n 'src_bytes': 203876.0,\n 'dst_bytes': 318156.0,\n 'land': 1246118.0,\n 'wrong_fragment': 1246280.0,\n 'urgent': 1245950.0,\n 'hot': 1231366.0,\n 'num_failed_logins': 1245108.0,\n 'logged_in': 1196430.0,\n 'num_compromised': 1237684.0,\n 'root_shell': 1242972.0,\n 'su_attempted': 1244440.0,\n 'num_root': 1234340.0,\n 'num_file_creations': 1239828.0,\n 'num_shells': 1245530.0,\n 'num_access_files': 1239544.0,\n 'num_outbound_cmds': 1246056.0,\n 'is_host_login': 1246030.0,\n 'is_guest_login': 1245626.0,\n 'count': -462454.0,\n 'srv_count': -514984.0,\n 'serror_rate': 1107920.0,\n 'srv_serror_rate': 1143642.0,\n 'rerror_rate': 1161210.0,\n 'srv_rerror_rate': 1181802.0,\n 'same_srv_rate': 660328.0,\n 'diff_srv_rate': 727652.0,\n 'srv_diff_host_rate': 644822.0,\n 'dst_host_count': 294024.0,\n 'dst_host_srv_count': -100872.0,\n 'dst_host_same_srv_rate': 395886.0,\n 'dst_host_diff_srv_rate': 320656.0,\n 'dst_host_same_src_port_rate': 543380.0,\n 'dst_host_srv_diff_host_rate': 635598.0,\n 'dst_host_serror_rate': 970960.0,\n 'dst_host_srv_serror_rate': 1030834.0,\n 'dst_host_rerror_rate': 944858.0,\n 'dst_host_srv_rerror_rate': 1054228.0,\n 'level': 811114.0}"
     },
     "execution_count": 24,
     "metadata": {},
     "output_type": "execute_result"
    }
   ],
   "source": [
    "feature_relief_values"
   ],
   "metadata": {
    "collapsed": false,
    "ExecuteTime": {
     "end_time": "2024-02-11T19:10:22.851539Z",
     "start_time": "2024-02-11T19:10:22.847233Z"
    }
   },
   "id": "d84b51b64f407cf4",
   "execution_count": 24
  },
  {
   "cell_type": "code",
   "outputs": [],
   "source": [
    "# Sort the results in descending order\n",
    "sorted_results = sorted(feature_relief_values.items(), key=lambda x: x[1],reverse=True)\n"
   ],
   "metadata": {
    "collapsed": false,
    "ExecuteTime": {
     "end_time": "2024-02-11T19:10:42.988199Z",
     "start_time": "2024-02-11T19:10:42.983265Z"
    }
   },
   "id": "f08fe1f1f1d25324",
   "execution_count": 25
  },
  {
   "cell_type": "code",
   "outputs": [
    {
     "data": {
      "text/plain": "[('wrong_fragment', 1246280.0),\n ('land', 1246118.0),\n ('num_outbound_cmds', 1246056.0),\n ('is_host_login', 1246030.0),\n ('urgent', 1245950.0),\n ('is_guest_login', 1245626.0),\n ('num_shells', 1245530.0),\n ('num_failed_logins', 1245108.0),\n ('su_attempted', 1244440.0),\n ('root_shell', 1242972.0),\n ('protocol_type', 1241760.0),\n ('num_file_creations', 1239828.0),\n ('num_access_files', 1239544.0),\n ('num_compromised', 1237684.0),\n ('num_root', 1234340.0),\n ('hot', 1231366.0),\n ('logged_in', 1196430.0),\n ('flag', 1182444.0),\n ('srv_rerror_rate', 1181802.0),\n ('rerror_rate', 1161210.0),\n ('srv_serror_rate', 1143642.0),\n ('serror_rate', 1107920.0),\n ('dst_host_srv_rerror_rate', 1054228.0),\n ('duration', 1036340.0),\n ('dst_host_srv_serror_rate', 1030834.0),\n ('dst_host_serror_rate', 970960.0),\n ('service', 947144.0),\n ('dst_host_rerror_rate', 944858.0),\n ('level', 811114.0),\n ('diff_srv_rate', 727652.0),\n ('same_srv_rate', 660328.0),\n ('srv_diff_host_rate', 644822.0),\n ('dst_host_srv_diff_host_rate', 635598.0),\n ('dst_host_same_src_port_rate', 543380.0),\n ('dst_host_same_srv_rate', 395886.0),\n ('dst_host_diff_srv_rate', 320656.0),\n ('dst_bytes', 318156.0),\n ('dst_host_count', 294024.0),\n ('src_bytes', 203876.0),\n ('dst_host_srv_count', -100872.0),\n ('count', -462454.0),\n ('srv_count', -514984.0)]"
     },
     "execution_count": 26,
     "metadata": {},
     "output_type": "execute_result"
    }
   ],
   "source": [
    "sorted_results"
   ],
   "metadata": {
    "collapsed": false,
    "ExecuteTime": {
     "end_time": "2024-02-11T19:10:45.433469Z",
     "start_time": "2024-02-11T19:10:45.428504Z"
    }
   },
   "id": "25a3751ab73f0d40",
   "execution_count": 26
  },
  {
   "cell_type": "code",
   "outputs": [],
   "source": [
    "result_df = pd.DataFrame(sorted_results, columns=['Feature', 'ReliefF'])"
   ],
   "metadata": {
    "collapsed": false,
    "ExecuteTime": {
     "end_time": "2024-02-11T19:15:05.701300Z",
     "start_time": "2024-02-11T19:15:05.695038Z"
    }
   },
   "id": "ed6b51d76159516d",
   "execution_count": 27
  },
  {
   "cell_type": "code",
   "outputs": [
    {
     "data": {
      "text/plain": "                        Feature    ReliefF\n0                wrong_fragment  1246280.0\n1                          land  1246118.0\n2             num_outbound_cmds  1246056.0\n3                 is_host_login  1246030.0\n4                        urgent  1245950.0\n5                is_guest_login  1245626.0\n6                    num_shells  1245530.0\n7             num_failed_logins  1245108.0\n8                  su_attempted  1244440.0\n9                    root_shell  1242972.0\n10                protocol_type  1241760.0\n11           num_file_creations  1239828.0\n12             num_access_files  1239544.0\n13              num_compromised  1237684.0\n14                     num_root  1234340.0\n15                          hot  1231366.0\n16                    logged_in  1196430.0\n17                         flag  1182444.0\n18              srv_rerror_rate  1181802.0\n19                  rerror_rate  1161210.0\n20              srv_serror_rate  1143642.0\n21                  serror_rate  1107920.0\n22     dst_host_srv_rerror_rate  1054228.0\n23                     duration  1036340.0\n24     dst_host_srv_serror_rate  1030834.0\n25         dst_host_serror_rate   970960.0\n26                      service   947144.0\n27         dst_host_rerror_rate   944858.0\n28                        level   811114.0\n29                diff_srv_rate   727652.0\n30                same_srv_rate   660328.0\n31           srv_diff_host_rate   644822.0\n32  dst_host_srv_diff_host_rate   635598.0\n33  dst_host_same_src_port_rate   543380.0\n34       dst_host_same_srv_rate   395886.0\n35       dst_host_diff_srv_rate   320656.0\n36                    dst_bytes   318156.0\n37               dst_host_count   294024.0\n38                    src_bytes   203876.0\n39           dst_host_srv_count  -100872.0\n40                        count  -462454.0\n41                    srv_count  -514984.0",
      "text/html": "<div>\n<style scoped>\n    .dataframe tbody tr th:only-of-type {\n        vertical-align: middle;\n    }\n\n    .dataframe tbody tr th {\n        vertical-align: top;\n    }\n\n    .dataframe thead th {\n        text-align: right;\n    }\n</style>\n<table border=\"1\" class=\"dataframe\">\n  <thead>\n    <tr style=\"text-align: right;\">\n      <th></th>\n      <th>Feature</th>\n      <th>ReliefF</th>\n    </tr>\n  </thead>\n  <tbody>\n    <tr>\n      <th>0</th>\n      <td>wrong_fragment</td>\n      <td>1246280.0</td>\n    </tr>\n    <tr>\n      <th>1</th>\n      <td>land</td>\n      <td>1246118.0</td>\n    </tr>\n    <tr>\n      <th>2</th>\n      <td>num_outbound_cmds</td>\n      <td>1246056.0</td>\n    </tr>\n    <tr>\n      <th>3</th>\n      <td>is_host_login</td>\n      <td>1246030.0</td>\n    </tr>\n    <tr>\n      <th>4</th>\n      <td>urgent</td>\n      <td>1245950.0</td>\n    </tr>\n    <tr>\n      <th>5</th>\n      <td>is_guest_login</td>\n      <td>1245626.0</td>\n    </tr>\n    <tr>\n      <th>6</th>\n      <td>num_shells</td>\n      <td>1245530.0</td>\n    </tr>\n    <tr>\n      <th>7</th>\n      <td>num_failed_logins</td>\n      <td>1245108.0</td>\n    </tr>\n    <tr>\n      <th>8</th>\n      <td>su_attempted</td>\n      <td>1244440.0</td>\n    </tr>\n    <tr>\n      <th>9</th>\n      <td>root_shell</td>\n      <td>1242972.0</td>\n    </tr>\n    <tr>\n      <th>10</th>\n      <td>protocol_type</td>\n      <td>1241760.0</td>\n    </tr>\n    <tr>\n      <th>11</th>\n      <td>num_file_creations</td>\n      <td>1239828.0</td>\n    </tr>\n    <tr>\n      <th>12</th>\n      <td>num_access_files</td>\n      <td>1239544.0</td>\n    </tr>\n    <tr>\n      <th>13</th>\n      <td>num_compromised</td>\n      <td>1237684.0</td>\n    </tr>\n    <tr>\n      <th>14</th>\n      <td>num_root</td>\n      <td>1234340.0</td>\n    </tr>\n    <tr>\n      <th>15</th>\n      <td>hot</td>\n      <td>1231366.0</td>\n    </tr>\n    <tr>\n      <th>16</th>\n      <td>logged_in</td>\n      <td>1196430.0</td>\n    </tr>\n    <tr>\n      <th>17</th>\n      <td>flag</td>\n      <td>1182444.0</td>\n    </tr>\n    <tr>\n      <th>18</th>\n      <td>srv_rerror_rate</td>\n      <td>1181802.0</td>\n    </tr>\n    <tr>\n      <th>19</th>\n      <td>rerror_rate</td>\n      <td>1161210.0</td>\n    </tr>\n    <tr>\n      <th>20</th>\n      <td>srv_serror_rate</td>\n      <td>1143642.0</td>\n    </tr>\n    <tr>\n      <th>21</th>\n      <td>serror_rate</td>\n      <td>1107920.0</td>\n    </tr>\n    <tr>\n      <th>22</th>\n      <td>dst_host_srv_rerror_rate</td>\n      <td>1054228.0</td>\n    </tr>\n    <tr>\n      <th>23</th>\n      <td>duration</td>\n      <td>1036340.0</td>\n    </tr>\n    <tr>\n      <th>24</th>\n      <td>dst_host_srv_serror_rate</td>\n      <td>1030834.0</td>\n    </tr>\n    <tr>\n      <th>25</th>\n      <td>dst_host_serror_rate</td>\n      <td>970960.0</td>\n    </tr>\n    <tr>\n      <th>26</th>\n      <td>service</td>\n      <td>947144.0</td>\n    </tr>\n    <tr>\n      <th>27</th>\n      <td>dst_host_rerror_rate</td>\n      <td>944858.0</td>\n    </tr>\n    <tr>\n      <th>28</th>\n      <td>level</td>\n      <td>811114.0</td>\n    </tr>\n    <tr>\n      <th>29</th>\n      <td>diff_srv_rate</td>\n      <td>727652.0</td>\n    </tr>\n    <tr>\n      <th>30</th>\n      <td>same_srv_rate</td>\n      <td>660328.0</td>\n    </tr>\n    <tr>\n      <th>31</th>\n      <td>srv_diff_host_rate</td>\n      <td>644822.0</td>\n    </tr>\n    <tr>\n      <th>32</th>\n      <td>dst_host_srv_diff_host_rate</td>\n      <td>635598.0</td>\n    </tr>\n    <tr>\n      <th>33</th>\n      <td>dst_host_same_src_port_rate</td>\n      <td>543380.0</td>\n    </tr>\n    <tr>\n      <th>34</th>\n      <td>dst_host_same_srv_rate</td>\n      <td>395886.0</td>\n    </tr>\n    <tr>\n      <th>35</th>\n      <td>dst_host_diff_srv_rate</td>\n      <td>320656.0</td>\n    </tr>\n    <tr>\n      <th>36</th>\n      <td>dst_bytes</td>\n      <td>318156.0</td>\n    </tr>\n    <tr>\n      <th>37</th>\n      <td>dst_host_count</td>\n      <td>294024.0</td>\n    </tr>\n    <tr>\n      <th>38</th>\n      <td>src_bytes</td>\n      <td>203876.0</td>\n    </tr>\n    <tr>\n      <th>39</th>\n      <td>dst_host_srv_count</td>\n      <td>-100872.0</td>\n    </tr>\n    <tr>\n      <th>40</th>\n      <td>count</td>\n      <td>-462454.0</td>\n    </tr>\n    <tr>\n      <th>41</th>\n      <td>srv_count</td>\n      <td>-514984.0</td>\n    </tr>\n  </tbody>\n</table>\n</div>"
     },
     "execution_count": 28,
     "metadata": {},
     "output_type": "execute_result"
    }
   ],
   "source": [
    "result_df"
   ],
   "metadata": {
    "collapsed": false,
    "ExecuteTime": {
     "end_time": "2024-02-11T19:15:09.324096Z",
     "start_time": "2024-02-11T19:15:09.319909Z"
    }
   },
   "id": "392ec244d3d58493",
   "execution_count": 28
  },
  {
   "cell_type": "code",
   "outputs": [],
   "source": [
    "# Save the results to an Excel file\n",
    "result_df.to_excel('reliefF_results.xlsx', index=False)"
   ],
   "metadata": {
    "collapsed": false,
    "ExecuteTime": {
     "end_time": "2024-02-11T19:19:45.710944Z",
     "start_time": "2024-02-11T19:19:45.573870Z"
    }
   },
   "id": "9950eab8b64c0468",
   "execution_count": 29
  },
  {
   "cell_type": "markdown",
   "source": [
    "## Releif v2"
   ],
   "metadata": {
    "collapsed": false
   },
   "id": "d03c639e28f20fa2"
  },
  {
   "cell_type": "code",
   "outputs": [],
   "source": [
    "import pandas as pd\n",
    "from skrebate import ReliefF\n",
    "import numpy as np\n",
    "from sklearn.model_selection import train_test_split"
   ],
   "metadata": {
    "collapsed": false,
    "ExecuteTime": {
     "end_time": "2024-02-25T10:23:59.705328Z",
     "start_time": "2024-02-25T10:23:59.701896Z"
    }
   },
   "id": "b7fa5bd485680777",
   "execution_count": 6
  },
  {
   "cell_type": "code",
   "outputs": [],
   "source": [
    "df = pd.read_csv(\"../../data/BinaryClassify/train_nsl_kdd_binary_encoded.csv\")"
   ],
   "metadata": {
    "collapsed": false,
    "ExecuteTime": {
     "end_time": "2024-02-25T10:21:21.079028Z",
     "start_time": "2024-02-25T10:21:20.942063Z"
    }
   },
   "id": "4c6aa04173761896",
   "execution_count": 2
  },
  {
   "cell_type": "code",
   "outputs": [],
   "source": [
    "X = np.array(df.drop(\"binaryoutcome\", axis=1)) # Replace \"target\" with your actual target column name\n",
    "y = np.array(df[\"binaryoutcome\"])"
   ],
   "metadata": {
    "collapsed": false,
    "ExecuteTime": {
     "end_time": "2024-02-25T10:24:01.852530Z",
     "start_time": "2024-02-25T10:24:01.829693Z"
    }
   },
   "id": "4cd8e3f80f416a5d",
   "execution_count": 7
  },
  {
   "cell_type": "code",
   "outputs": [],
   "source": [
    "# Apply ReliefF\n",
    "fs = ReliefF()\n",
    "fs.fit(X, y)"
   ],
   "metadata": {
    "collapsed": false,
    "is_executing": true,
    "ExecuteTime": {
     "start_time": "2024-02-25T10:24:04.142627Z"
    }
   },
   "id": "f761b1482ac0d183",
   "execution_count": null
  },
  {
   "cell_type": "code",
   "outputs": [],
   "source": [
    " "
   ],
   "metadata": {
    "collapsed": false
   },
   "id": "fed436472fe57d4e"
  }
 ],
 "metadata": {
  "kernelspec": {
   "display_name": "Python 3",
   "language": "python",
   "name": "python3"
  },
  "language_info": {
   "codemirror_mode": {
    "name": "ipython",
    "version": 2
   },
   "file_extension": ".py",
   "mimetype": "text/x-python",
   "name": "python",
   "nbconvert_exporter": "python",
   "pygments_lexer": "ipython2",
   "version": "2.7.6"
  }
 },
 "nbformat": 4,
 "nbformat_minor": 5
}
