{
 "cells": [
  {
   "cell_type": "code",
   "execution_count": null,
   "id": "initial_id",
   "metadata": {
    "collapsed": true
   },
   "outputs": [],
   "source": []
  },
  {
   "cell_type": "code",
   "outputs": [],
   "source": [
    "import pandas as pd\n",
    "from scipy.stats import pearsonr"
   ],
   "metadata": {
    "collapsed": false,
    "ExecuteTime": {
     "end_time": "2024-02-02T13:46:15.572743Z",
     "start_time": "2024-02-02T13:46:14.991467Z"
    }
   },
   "id": "7f6456c6f632a127",
   "execution_count": 1
  },
  {
   "cell_type": "code",
   "outputs": [],
   "source": [
    "#loading encoded data from csv\n",
    "\n",
    "df = pd.read_csv(\"../../data/BinaryClassify/train_nsl_kdd_binary_encoded.csv\")"
   ],
   "metadata": {
    "collapsed": false,
    "ExecuteTime": {
     "end_time": "2024-02-02T13:46:25.105752Z",
     "start_time": "2024-02-02T13:46:24.955929Z"
    }
   },
   "id": "8cb4b7bec74ec51",
   "execution_count": 2
  },
  {
   "cell_type": "code",
   "outputs": [],
   "source": [
    "# Function to calculate Pearson correlation between a feature and the target variable\n",
    "def calculate_pearson_corr(feature, target):\n",
    "    if feature.nunique() > 1:  # Check if the feature has more than one unique value\n",
    "        corr, _ = pearsonr(feature, target)\n",
    "        return corr\n",
    "    else:\n",
    "        return 0  # Return 0 for constant features"
   ],
   "metadata": {
    "collapsed": false,
    "ExecuteTime": {
     "end_time": "2024-02-02T13:48:53.254935Z",
     "start_time": "2024-02-02T13:48:53.250030Z"
    }
   },
   "id": "7d52af62dd22692b",
   "execution_count": 11
  },
  {
   "cell_type": "code",
   "outputs": [],
   "source": [
    "# Calculate Pearson correlation for each numerical feature\n",
    "numerical_feature_corr_values = {}\n",
    "target_column = 'binaryoutcome'"
   ],
   "metadata": {
    "collapsed": false,
    "ExecuteTime": {
     "end_time": "2024-02-02T13:48:55.083121Z",
     "start_time": "2024-02-02T13:48:55.080662Z"
    }
   },
   "id": "18e213a09b21d0a7",
   "execution_count": 12
  },
  {
   "cell_type": "code",
   "outputs": [],
   "source": [
    "for feature_column in df.columns[:-1]:  # Exclude the target column\n",
    "    corr_value = calculate_pearson_corr(df[feature_column], df[target_column])\n",
    "    numerical_feature_corr_values[feature_column] = corr_value\n"
   ],
   "metadata": {
    "collapsed": false,
    "ExecuteTime": {
     "end_time": "2024-02-02T13:48:55.825093Z",
     "start_time": "2024-02-02T13:48:55.723720Z"
    }
   },
   "id": "2cd01abe44b7728f",
   "execution_count": 13
  },
  {
   "cell_type": "code",
   "outputs": [],
   "source": [
    "# Sort the results in descending order\n",
    "sorted_results = sorted(numerical_feature_corr_values.items(), key=lambda x: abs(x[1]), reverse=True)\n"
   ],
   "metadata": {
    "collapsed": false,
    "ExecuteTime": {
     "end_time": "2024-02-02T13:49:06.495384Z",
     "start_time": "2024-02-02T13:49:06.490402Z"
    }
   },
   "id": "29128bb5abf1b8e1",
   "execution_count": 14
  },
  {
   "cell_type": "code",
   "outputs": [],
   "source": [
    "# Create a DataFrame from the sorted results\n",
    "result_df = pd.DataFrame(sorted_results, columns=['Feature', 'Pearson Correlation'])\n"
   ],
   "metadata": {
    "collapsed": false,
    "ExecuteTime": {
     "end_time": "2024-02-02T13:50:28.365876Z",
     "start_time": "2024-02-02T13:50:28.360877Z"
    }
   },
   "id": "4592c789ee9fc4cd",
   "execution_count": 15
  },
  {
   "cell_type": "code",
   "outputs": [
    {
     "data": {
      "text/plain": "                        Feature  Pearson Correlation\n0                 same_srv_rate             0.751912\n1            dst_host_srv_count             0.722546\n2        dst_host_same_srv_rate             0.693813\n3                     logged_in             0.690181\n4      dst_host_srv_serror_rate            -0.654984\n5          dst_host_serror_rate            -0.651840\n6                   serror_rate            -0.650651\n7               srv_serror_rate            -0.648287\n8                          flag             0.647071\n9                         count            -0.576442\n10                        level             0.379707\n11               dst_host_count            -0.375051\n12                protocol_type             0.281357\n13                      service            -0.276545\n14              srv_rerror_rate            -0.253502\n15     dst_host_srv_rerror_rate            -0.253428\n16                  rerror_rate            -0.253395\n17         dst_host_rerror_rate            -0.252562\n18       dst_host_diff_srv_rate            -0.242897\n19                diff_srv_rate            -0.203658\n20           srv_diff_host_rate             0.119380\n21               wrong_fragment            -0.095905\n22  dst_host_same_src_port_rate            -0.092445\n23  dst_host_srv_diff_host_rate            -0.062330\n24                     duration            -0.048785\n25               is_guest_login             0.039280\n26             num_access_files             0.036701\n27                 su_attempted             0.022449\n28           num_file_creations             0.021271\n29                   root_shell             0.020286\n30                          hot             0.013084\n31                     num_root             0.011453\n32              num_compromised             0.010198\n33                   num_shells             0.009472\n34                         land            -0.007191\n35                    src_bytes            -0.005921\n36                    dst_bytes            -0.004118\n37            num_failed_logins             0.003755\n38                       urgent             0.002787\n39                is_host_login             0.002629\n40                    srv_count            -0.000768\n41            num_outbound_cmds             0.000000",
      "text/html": "<div>\n<style scoped>\n    .dataframe tbody tr th:only-of-type {\n        vertical-align: middle;\n    }\n\n    .dataframe tbody tr th {\n        vertical-align: top;\n    }\n\n    .dataframe thead th {\n        text-align: right;\n    }\n</style>\n<table border=\"1\" class=\"dataframe\">\n  <thead>\n    <tr style=\"text-align: right;\">\n      <th></th>\n      <th>Feature</th>\n      <th>Pearson Correlation</th>\n    </tr>\n  </thead>\n  <tbody>\n    <tr>\n      <th>0</th>\n      <td>same_srv_rate</td>\n      <td>0.751912</td>\n    </tr>\n    <tr>\n      <th>1</th>\n      <td>dst_host_srv_count</td>\n      <td>0.722546</td>\n    </tr>\n    <tr>\n      <th>2</th>\n      <td>dst_host_same_srv_rate</td>\n      <td>0.693813</td>\n    </tr>\n    <tr>\n      <th>3</th>\n      <td>logged_in</td>\n      <td>0.690181</td>\n    </tr>\n    <tr>\n      <th>4</th>\n      <td>dst_host_srv_serror_rate</td>\n      <td>-0.654984</td>\n    </tr>\n    <tr>\n      <th>5</th>\n      <td>dst_host_serror_rate</td>\n      <td>-0.651840</td>\n    </tr>\n    <tr>\n      <th>6</th>\n      <td>serror_rate</td>\n      <td>-0.650651</td>\n    </tr>\n    <tr>\n      <th>7</th>\n      <td>srv_serror_rate</td>\n      <td>-0.648287</td>\n    </tr>\n    <tr>\n      <th>8</th>\n      <td>flag</td>\n      <td>0.647071</td>\n    </tr>\n    <tr>\n      <th>9</th>\n      <td>count</td>\n      <td>-0.576442</td>\n    </tr>\n    <tr>\n      <th>10</th>\n      <td>level</td>\n      <td>0.379707</td>\n    </tr>\n    <tr>\n      <th>11</th>\n      <td>dst_host_count</td>\n      <td>-0.375051</td>\n    </tr>\n    <tr>\n      <th>12</th>\n      <td>protocol_type</td>\n      <td>0.281357</td>\n    </tr>\n    <tr>\n      <th>13</th>\n      <td>service</td>\n      <td>-0.276545</td>\n    </tr>\n    <tr>\n      <th>14</th>\n      <td>srv_rerror_rate</td>\n      <td>-0.253502</td>\n    </tr>\n    <tr>\n      <th>15</th>\n      <td>dst_host_srv_rerror_rate</td>\n      <td>-0.253428</td>\n    </tr>\n    <tr>\n      <th>16</th>\n      <td>rerror_rate</td>\n      <td>-0.253395</td>\n    </tr>\n    <tr>\n      <th>17</th>\n      <td>dst_host_rerror_rate</td>\n      <td>-0.252562</td>\n    </tr>\n    <tr>\n      <th>18</th>\n      <td>dst_host_diff_srv_rate</td>\n      <td>-0.242897</td>\n    </tr>\n    <tr>\n      <th>19</th>\n      <td>diff_srv_rate</td>\n      <td>-0.203658</td>\n    </tr>\n    <tr>\n      <th>20</th>\n      <td>srv_diff_host_rate</td>\n      <td>0.119380</td>\n    </tr>\n    <tr>\n      <th>21</th>\n      <td>wrong_fragment</td>\n      <td>-0.095905</td>\n    </tr>\n    <tr>\n      <th>22</th>\n      <td>dst_host_same_src_port_rate</td>\n      <td>-0.092445</td>\n    </tr>\n    <tr>\n      <th>23</th>\n      <td>dst_host_srv_diff_host_rate</td>\n      <td>-0.062330</td>\n    </tr>\n    <tr>\n      <th>24</th>\n      <td>duration</td>\n      <td>-0.048785</td>\n    </tr>\n    <tr>\n      <th>25</th>\n      <td>is_guest_login</td>\n      <td>0.039280</td>\n    </tr>\n    <tr>\n      <th>26</th>\n      <td>num_access_files</td>\n      <td>0.036701</td>\n    </tr>\n    <tr>\n      <th>27</th>\n      <td>su_attempted</td>\n      <td>0.022449</td>\n    </tr>\n    <tr>\n      <th>28</th>\n      <td>num_file_creations</td>\n      <td>0.021271</td>\n    </tr>\n    <tr>\n      <th>29</th>\n      <td>root_shell</td>\n      <td>0.020286</td>\n    </tr>\n    <tr>\n      <th>30</th>\n      <td>hot</td>\n      <td>0.013084</td>\n    </tr>\n    <tr>\n      <th>31</th>\n      <td>num_root</td>\n      <td>0.011453</td>\n    </tr>\n    <tr>\n      <th>32</th>\n      <td>num_compromised</td>\n      <td>0.010198</td>\n    </tr>\n    <tr>\n      <th>33</th>\n      <td>num_shells</td>\n      <td>0.009472</td>\n    </tr>\n    <tr>\n      <th>34</th>\n      <td>land</td>\n      <td>-0.007191</td>\n    </tr>\n    <tr>\n      <th>35</th>\n      <td>src_bytes</td>\n      <td>-0.005921</td>\n    </tr>\n    <tr>\n      <th>36</th>\n      <td>dst_bytes</td>\n      <td>-0.004118</td>\n    </tr>\n    <tr>\n      <th>37</th>\n      <td>num_failed_logins</td>\n      <td>0.003755</td>\n    </tr>\n    <tr>\n      <th>38</th>\n      <td>urgent</td>\n      <td>0.002787</td>\n    </tr>\n    <tr>\n      <th>39</th>\n      <td>is_host_login</td>\n      <td>0.002629</td>\n    </tr>\n    <tr>\n      <th>40</th>\n      <td>srv_count</td>\n      <td>-0.000768</td>\n    </tr>\n    <tr>\n      <th>41</th>\n      <td>num_outbound_cmds</td>\n      <td>0.000000</td>\n    </tr>\n  </tbody>\n</table>\n</div>"
     },
     "execution_count": 16,
     "metadata": {},
     "output_type": "execute_result"
    }
   ],
   "source": [
    "result_df"
   ],
   "metadata": {
    "collapsed": false,
    "ExecuteTime": {
     "end_time": "2024-02-02T13:50:34.096296Z",
     "start_time": "2024-02-02T13:50:34.091631Z"
    }
   },
   "id": "8dc7895fd508bf11",
   "execution_count": 16
  },
  {
   "cell_type": "code",
   "outputs": [],
   "source": [
    "# Save the results to an Excel file\n",
    "result_df.to_excel('pearson_corr_results.xlsx', index=False)"
   ],
   "metadata": {
    "collapsed": false,
    "ExecuteTime": {
     "end_time": "2024-02-02T13:52:41.123749Z",
     "start_time": "2024-02-02T13:52:41.022126Z"
    }
   },
   "id": "2c05740a6d8fa8c8",
   "execution_count": 17
  },
  {
   "cell_type": "code",
   "outputs": [],
   "source": [],
   "metadata": {
    "collapsed": false
   },
   "id": "762ebc79a70a3e39"
  }
 ],
 "metadata": {
  "kernelspec": {
   "display_name": "Python 3",
   "language": "python",
   "name": "python3"
  },
  "language_info": {
   "codemirror_mode": {
    "name": "ipython",
    "version": 2
   },
   "file_extension": ".py",
   "mimetype": "text/x-python",
   "name": "python",
   "nbconvert_exporter": "python",
   "pygments_lexer": "ipython2",
   "version": "2.7.6"
  }
 },
 "nbformat": 4,
 "nbformat_minor": 5
}
