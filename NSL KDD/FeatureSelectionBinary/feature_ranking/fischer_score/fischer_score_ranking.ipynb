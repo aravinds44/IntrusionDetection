{
 "cells": [
  {
   "cell_type": "code",
   "execution_count": null,
   "id": "initial_id",
   "metadata": {
    "collapsed": true
   },
   "outputs": [],
   "source": []
  },
  {
   "cell_type": "code",
   "outputs": [],
   "source": [
    "import pandas as pd\n",
    "from sklearn.feature_selection import f_classif\n",
    "import numpy as np\n"
   ],
   "metadata": {
    "collapsed": false,
    "ExecuteTime": {
     "end_time": "2024-02-02T20:17:35.221502Z",
     "start_time": "2024-02-02T20:17:35.216910Z"
    }
   },
   "id": "6fe800d881804ae3",
   "execution_count": 11
  },
  {
   "cell_type": "code",
   "outputs": [],
   "source": [
    "#loading encoded data from csv\n",
    "\n",
    "df = pd.read_csv(\"../../data/BinaryClassify/train_nsl_kdd_binary_encoded.csv\")"
   ],
   "metadata": {
    "collapsed": false,
    "ExecuteTime": {
     "end_time": "2024-02-02T20:09:31.267817Z",
     "start_time": "2024-02-02T20:09:31.096831Z"
    }
   },
   "id": "9f928c872c3e749",
   "execution_count": 2
  },
  {
   "cell_type": "code",
   "outputs": [],
   "source": [
    "# Identify features with zero variance\n",
    "constant_features = df.columns[df.nunique() == 1]\n"
   ],
   "metadata": {
    "collapsed": false,
    "ExecuteTime": {
     "end_time": "2024-02-02T20:16:02.108170Z",
     "start_time": "2024-02-02T20:16:02.070754Z"
    }
   },
   "id": "78b05b566ee0e207",
   "execution_count": 7
  },
  {
   "cell_type": "code",
   "outputs": [],
   "source": [
    "# Function to calculate Fisher Score\n",
    "def calculate_fisher_score(feature, target):\n",
    "    fisher_score, _ = f_classif(feature.values.reshape(-1, 1), target)\n",
    "    return fisher_score[0]  # Extract the value from the array"
   ],
   "metadata": {
    "collapsed": false,
    "ExecuteTime": {
     "end_time": "2024-02-02T20:16:22.114861Z",
     "start_time": "2024-02-02T20:16:22.110355Z"
    }
   },
   "id": "c46f88692b3f687c",
   "execution_count": 8
  },
  {
   "cell_type": "code",
   "outputs": [],
   "source": [
    "# Calculate Fisher Score for each feature\n",
    "feature_fisher_score_values = {}\n",
    "target_column = 'binaryoutcome'\n"
   ],
   "metadata": {
    "collapsed": false,
    "ExecuteTime": {
     "end_time": "2024-02-02T20:16:49.280041Z",
     "start_time": "2024-02-02T20:16:49.274798Z"
    }
   },
   "id": "1456f137bd17614",
   "execution_count": 9
  },
  {
   "cell_type": "code",
   "outputs": [],
   "source": [
    "for feature_column in df.columns[:-1]:  # Exclude the target column\n",
    "    if feature_column in constant_features:\n",
    "        fisher_score_value = np.nan  # Assign a placeholder value for features with zero variance\n",
    "    else:\n",
    "        fisher_score_value = calculate_fisher_score(df[feature_column], df[target_column])\n",
    "    feature_fisher_score_values[feature_column] = fisher_score_value"
   ],
   "metadata": {
    "collapsed": false,
    "ExecuteTime": {
     "end_time": "2024-02-02T20:17:39.255698Z",
     "start_time": "2024-02-02T20:17:39.128117Z"
    }
   },
   "id": "17dded1fca1e1050",
   "execution_count": 12
  },
  {
   "cell_type": "code",
   "outputs": [],
   "source": [
    "# Define a custom sorting function to handle NaN values\n",
    "def custom_sort(item):\n",
    "    return (float('-inf') if pd.isna(item[1]) else item[1])"
   ],
   "metadata": {
    "collapsed": false,
    "ExecuteTime": {
     "end_time": "2024-02-02T20:20:13.828188Z",
     "start_time": "2024-02-02T20:20:13.821704Z"
    }
   },
   "id": "b82b8bc6cd3f4341",
   "execution_count": 19
  },
  {
   "cell_type": "code",
   "outputs": [],
   "source": [
    "# Sort the results in descending order with NaN values last\n",
    "sorted_results = sorted(feature_fisher_score_values.items(), key=custom_sort, reverse=True)"
   ],
   "metadata": {
    "collapsed": false,
    "ExecuteTime": {
     "end_time": "2024-02-02T20:20:22.939963Z",
     "start_time": "2024-02-02T20:20:22.932805Z"
    }
   },
   "id": "f3671814bc5260c5",
   "execution_count": 20
  },
  {
   "cell_type": "code",
   "outputs": [],
   "source": [
    "# Create a DataFrame from the sorted results\n",
    "result_df = pd.DataFrame(sorted_results, columns=['Feature', 'Fisher Score'])"
   ],
   "metadata": {
    "collapsed": false,
    "ExecuteTime": {
     "end_time": "2024-02-02T20:20:23.794428Z",
     "start_time": "2024-02-02T20:20:23.790231Z"
    }
   },
   "id": "648669611be9282a",
   "execution_count": 21
  },
  {
   "cell_type": "code",
   "outputs": [
    {
     "data": {
      "text/plain": "                        Feature   Fisher Score\n0                 same_srv_rate  163863.933404\n1            dst_host_srv_count  137605.550047\n2        dst_host_same_srv_rate  116922.768004\n3                     logged_in  114591.302397\n4      dst_host_srv_serror_rate   94644.568965\n5          dst_host_serror_rate   93068.503988\n6                   serror_rate   92480.069220\n7               srv_serror_rate   91323.273042\n8                          flag   90734.329147\n9                         count   62688.481868\n10                        level   21221.681755\n11               dst_host_count   20619.816232\n12                protocol_type   10829.246291\n13                      service   10431.585196\n14              srv_rerror_rate    8651.212572\n15     dst_host_srv_rerror_rate    8645.828699\n16                  rerror_rate    8643.420842\n17         dst_host_rerror_rate    8582.793908\n18       dst_host_diff_srv_rate    7898.062301\n19                diff_srv_rate    5450.899044\n20           srv_diff_host_rate    1821.240953\n21               wrong_fragment    1169.402574\n22  dst_host_same_src_port_rate    1085.835436\n23  dst_host_srv_diff_host_rate     491.312680\n24                     duration     300.516907\n25               is_guest_login     194.660642\n26             num_access_files     169.905264\n27                 su_attempted      63.514163\n28           num_file_creations      57.021595\n29                   root_shell      51.859431\n30                          hot      21.569171\n31                     num_root      16.524716\n32              num_compromised      13.103297\n33                   num_shells      11.303290\n34                         land       6.513725\n35                    src_bytes       4.416869\n36                    dst_bytes       2.135720\n37            num_failed_logins       1.776477\n38                       urgent       0.978533\n39                is_host_login       0.870630\n40                    srv_count       0.074318\n41            num_outbound_cmds            NaN",
      "text/html": "<div>\n<style scoped>\n    .dataframe tbody tr th:only-of-type {\n        vertical-align: middle;\n    }\n\n    .dataframe tbody tr th {\n        vertical-align: top;\n    }\n\n    .dataframe thead th {\n        text-align: right;\n    }\n</style>\n<table border=\"1\" class=\"dataframe\">\n  <thead>\n    <tr style=\"text-align: right;\">\n      <th></th>\n      <th>Feature</th>\n      <th>Fisher Score</th>\n    </tr>\n  </thead>\n  <tbody>\n    <tr>\n      <th>0</th>\n      <td>same_srv_rate</td>\n      <td>163863.933404</td>\n    </tr>\n    <tr>\n      <th>1</th>\n      <td>dst_host_srv_count</td>\n      <td>137605.550047</td>\n    </tr>\n    <tr>\n      <th>2</th>\n      <td>dst_host_same_srv_rate</td>\n      <td>116922.768004</td>\n    </tr>\n    <tr>\n      <th>3</th>\n      <td>logged_in</td>\n      <td>114591.302397</td>\n    </tr>\n    <tr>\n      <th>4</th>\n      <td>dst_host_srv_serror_rate</td>\n      <td>94644.568965</td>\n    </tr>\n    <tr>\n      <th>5</th>\n      <td>dst_host_serror_rate</td>\n      <td>93068.503988</td>\n    </tr>\n    <tr>\n      <th>6</th>\n      <td>serror_rate</td>\n      <td>92480.069220</td>\n    </tr>\n    <tr>\n      <th>7</th>\n      <td>srv_serror_rate</td>\n      <td>91323.273042</td>\n    </tr>\n    <tr>\n      <th>8</th>\n      <td>flag</td>\n      <td>90734.329147</td>\n    </tr>\n    <tr>\n      <th>9</th>\n      <td>count</td>\n      <td>62688.481868</td>\n    </tr>\n    <tr>\n      <th>10</th>\n      <td>level</td>\n      <td>21221.681755</td>\n    </tr>\n    <tr>\n      <th>11</th>\n      <td>dst_host_count</td>\n      <td>20619.816232</td>\n    </tr>\n    <tr>\n      <th>12</th>\n      <td>protocol_type</td>\n      <td>10829.246291</td>\n    </tr>\n    <tr>\n      <th>13</th>\n      <td>service</td>\n      <td>10431.585196</td>\n    </tr>\n    <tr>\n      <th>14</th>\n      <td>srv_rerror_rate</td>\n      <td>8651.212572</td>\n    </tr>\n    <tr>\n      <th>15</th>\n      <td>dst_host_srv_rerror_rate</td>\n      <td>8645.828699</td>\n    </tr>\n    <tr>\n      <th>16</th>\n      <td>rerror_rate</td>\n      <td>8643.420842</td>\n    </tr>\n    <tr>\n      <th>17</th>\n      <td>dst_host_rerror_rate</td>\n      <td>8582.793908</td>\n    </tr>\n    <tr>\n      <th>18</th>\n      <td>dst_host_diff_srv_rate</td>\n      <td>7898.062301</td>\n    </tr>\n    <tr>\n      <th>19</th>\n      <td>diff_srv_rate</td>\n      <td>5450.899044</td>\n    </tr>\n    <tr>\n      <th>20</th>\n      <td>srv_diff_host_rate</td>\n      <td>1821.240953</td>\n    </tr>\n    <tr>\n      <th>21</th>\n      <td>wrong_fragment</td>\n      <td>1169.402574</td>\n    </tr>\n    <tr>\n      <th>22</th>\n      <td>dst_host_same_src_port_rate</td>\n      <td>1085.835436</td>\n    </tr>\n    <tr>\n      <th>23</th>\n      <td>dst_host_srv_diff_host_rate</td>\n      <td>491.312680</td>\n    </tr>\n    <tr>\n      <th>24</th>\n      <td>duration</td>\n      <td>300.516907</td>\n    </tr>\n    <tr>\n      <th>25</th>\n      <td>is_guest_login</td>\n      <td>194.660642</td>\n    </tr>\n    <tr>\n      <th>26</th>\n      <td>num_access_files</td>\n      <td>169.905264</td>\n    </tr>\n    <tr>\n      <th>27</th>\n      <td>su_attempted</td>\n      <td>63.514163</td>\n    </tr>\n    <tr>\n      <th>28</th>\n      <td>num_file_creations</td>\n      <td>57.021595</td>\n    </tr>\n    <tr>\n      <th>29</th>\n      <td>root_shell</td>\n      <td>51.859431</td>\n    </tr>\n    <tr>\n      <th>30</th>\n      <td>hot</td>\n      <td>21.569171</td>\n    </tr>\n    <tr>\n      <th>31</th>\n      <td>num_root</td>\n      <td>16.524716</td>\n    </tr>\n    <tr>\n      <th>32</th>\n      <td>num_compromised</td>\n      <td>13.103297</td>\n    </tr>\n    <tr>\n      <th>33</th>\n      <td>num_shells</td>\n      <td>11.303290</td>\n    </tr>\n    <tr>\n      <th>34</th>\n      <td>land</td>\n      <td>6.513725</td>\n    </tr>\n    <tr>\n      <th>35</th>\n      <td>src_bytes</td>\n      <td>4.416869</td>\n    </tr>\n    <tr>\n      <th>36</th>\n      <td>dst_bytes</td>\n      <td>2.135720</td>\n    </tr>\n    <tr>\n      <th>37</th>\n      <td>num_failed_logins</td>\n      <td>1.776477</td>\n    </tr>\n    <tr>\n      <th>38</th>\n      <td>urgent</td>\n      <td>0.978533</td>\n    </tr>\n    <tr>\n      <th>39</th>\n      <td>is_host_login</td>\n      <td>0.870630</td>\n    </tr>\n    <tr>\n      <th>40</th>\n      <td>srv_count</td>\n      <td>0.074318</td>\n    </tr>\n    <tr>\n      <th>41</th>\n      <td>num_outbound_cmds</td>\n      <td>NaN</td>\n    </tr>\n  </tbody>\n</table>\n</div>"
     },
     "execution_count": 22,
     "metadata": {},
     "output_type": "execute_result"
    }
   ],
   "source": [
    "result_df"
   ],
   "metadata": {
    "collapsed": false,
    "ExecuteTime": {
     "end_time": "2024-02-02T20:20:24.498688Z",
     "start_time": "2024-02-02T20:20:24.494832Z"
    }
   },
   "id": "e148c4793eb8fa",
   "execution_count": 22
  },
  {
   "cell_type": "code",
   "outputs": [],
   "source": [],
   "metadata": {
    "collapsed": false
   },
   "id": "12258b615f9cb35d"
  }
 ],
 "metadata": {
  "kernelspec": {
   "display_name": "Python 3",
   "language": "python",
   "name": "python3"
  },
  "language_info": {
   "codemirror_mode": {
    "name": "ipython",
    "version": 2
   },
   "file_extension": ".py",
   "mimetype": "text/x-python",
   "name": "python",
   "nbconvert_exporter": "python",
   "pygments_lexer": "ipython2",
   "version": "2.7.6"
  }
 },
 "nbformat": 4,
 "nbformat_minor": 5
}
