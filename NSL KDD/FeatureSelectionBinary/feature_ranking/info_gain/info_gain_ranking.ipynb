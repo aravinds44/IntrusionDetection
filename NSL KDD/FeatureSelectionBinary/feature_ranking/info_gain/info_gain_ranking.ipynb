{
 "cells": [
  {
   "cell_type": "code",
   "execution_count": null,
   "id": "initial_id",
   "metadata": {
    "collapsed": true
   },
   "outputs": [],
   "source": []
  },
  {
   "cell_type": "code",
   "outputs": [],
   "source": [
    "import pandas as pd\n",
    "from sklearn.feature_selection import mutual_info_classif\n",
    "import numpy as np"
   ],
   "metadata": {
    "collapsed": false,
    "ExecuteTime": {
     "end_time": "2024-02-02T19:48:32.948202Z",
     "start_time": "2024-02-02T19:48:32.217802Z"
    }
   },
   "id": "d985a7688cae9eff",
   "execution_count": 1
  },
  {
   "cell_type": "code",
   "outputs": [],
   "source": [
    "#loading encoded data from csv\n",
    "\n",
    "df = pd.read_csv(\"../../data/BinaryClassify/train_nsl_kdd_binary_encoded.csv\")"
   ],
   "metadata": {
    "collapsed": false,
    "ExecuteTime": {
     "end_time": "2024-02-02T19:48:43.282128Z",
     "start_time": "2024-02-02T19:48:43.131740Z"
    }
   },
   "id": "88785fed84026460",
   "execution_count": 2
  },
  {
   "cell_type": "code",
   "outputs": [],
   "source": [
    "# Function to calculate Entropy\n",
    "def calculate_entropy(data):\n",
    "    _, counts = np.unique(data, return_counts=True)\n",
    "    probabilities = counts / len(data)\n",
    "    entropy = -np.sum(probabilities * np.log2(probabilities))\n",
    "    return entropy"
   ],
   "metadata": {
    "collapsed": false,
    "ExecuteTime": {
     "end_time": "2024-02-02T19:48:51.741021Z",
     "start_time": "2024-02-02T19:48:51.737900Z"
    }
   },
   "id": "34823257c859f2e1",
   "execution_count": 3
  },
  {
   "cell_type": "code",
   "outputs": [],
   "source": [
    "# Function to calculate Information Gain between a feature and the target variable\n",
    "def calculate_information_gain(feature, target):\n",
    "    entropy_target = calculate_entropy(target)\n",
    "    entropy_feature = calculate_entropy(feature)\n",
    "    mutual_info = mutual_info_classif(feature.values.reshape(-1, 1), target)\n",
    "    \n",
    "    information_gain = entropy_target - entropy_feature + mutual_info\n",
    "\n",
    "    return information_gain[0]  # Extract the value from the array\n"
   ],
   "metadata": {
    "collapsed": false,
    "ExecuteTime": {
     "end_time": "2024-02-02T19:48:58.560732Z",
     "start_time": "2024-02-02T19:48:58.558906Z"
    }
   },
   "id": "d635275959c808a2",
   "execution_count": 4
  },
  {
   "cell_type": "code",
   "outputs": [],
   "source": [
    "# Calculate Information Gain for each feature\n",
    "feature_information_gain_values = {}\n",
    "target_column = 'binaryoutcome'"
   ],
   "metadata": {
    "collapsed": false,
    "ExecuteTime": {
     "end_time": "2024-02-02T19:49:11.567253Z",
     "start_time": "2024-02-02T19:49:11.564090Z"
    }
   },
   "id": "2908cdbf72921af",
   "execution_count": 5
  },
  {
   "cell_type": "code",
   "outputs": [],
   "source": [
    "for feature_column in df.columns[:-1]:  # Exclude the target column\n",
    "    information_gain_value = calculate_information_gain(df[feature_column], df[target_column])\n",
    "    feature_information_gain_values[feature_column] = information_gain_value"
   ],
   "metadata": {
    "collapsed": false,
    "ExecuteTime": {
     "end_time": "2024-02-02T19:49:33.212833Z",
     "start_time": "2024-02-02T19:49:20.807129Z"
    }
   },
   "id": "832012394ef56ab5",
   "execution_count": 6
  },
  {
   "cell_type": "code",
   "outputs": [],
   "source": [
    "# Sort the results in descending order\n",
    "sorted_results = sorted(feature_information_gain_values.items(), key=lambda x: x[1], reverse=True)"
   ],
   "metadata": {
    "collapsed": false,
    "ExecuteTime": {
     "end_time": "2024-02-02T19:49:42.360783Z",
     "start_time": "2024-02-02T19:49:42.358599Z"
    }
   },
   "id": "55d72db798987b7",
   "execution_count": 7
  },
  {
   "cell_type": "code",
   "outputs": [],
   "source": [
    "# Create a DataFrame from the sorted results\n",
    "result_df = pd.DataFrame(sorted_results, columns=['Feature', 'Information Gain'])"
   ],
   "metadata": {
    "collapsed": false,
    "ExecuteTime": {
     "end_time": "2024-02-02T19:50:46.258933Z",
     "start_time": "2024-02-02T19:50:46.251323Z"
    }
   },
   "id": "1d0de016b13248e",
   "execution_count": 8
  },
  {
   "cell_type": "code",
   "outputs": [],
   "source": [
    "# Save the results to an Excel file\n",
    "result_df.to_excel('information_gain_results.xlsx', index=False)"
   ],
   "metadata": {
    "collapsed": false,
    "ExecuteTime": {
     "end_time": "2024-02-02T19:50:54.561286Z",
     "start_time": "2024-02-02T19:50:54.456233Z"
    }
   },
   "id": "49d9b14a14042c12",
   "execution_count": 9
  },
  {
   "cell_type": "code",
   "outputs": [
    {
     "data": {
      "text/plain": "                        Feature  Information Gain\n0                 is_host_login          0.997581\n1             num_outbound_cmds          0.996547\n2                        urgent          0.995402\n3                          land          0.993950\n4                    num_shells          0.992347\n5                  su_attempted          0.989938\n6             num_failed_logins          0.985044\n7                    root_shell          0.983342\n8            num_file_creations          0.968503\n9              num_access_files          0.965693\n10                     num_root          0.936817\n11               wrong_fragment          0.926324\n12               is_guest_login          0.921789\n13              num_compromised          0.897973\n14                          hot          0.791491\n15              srv_rerror_rate          0.372563\n16                    logged_in          0.321303\n17                  rerror_rate          0.248174\n18              srv_serror_rate          0.205150\n19                protocol_type          0.189103\n20     dst_host_srv_rerror_rate          0.055080\n21                  serror_rate          0.028929\n22                     duration          0.018968\n23     dst_host_srv_serror_rate          0.013505\n24                         flag         -0.161254\n25         dst_host_serror_rate         -0.340751\n26         dst_host_rerror_rate         -0.403171\n27           srv_diff_host_rate         -0.659718\n28                diff_srv_rate         -0.873606\n29  dst_host_srv_diff_host_rate         -0.899136\n30                        level         -1.130508\n31                same_srv_rate         -1.488667\n32  dst_host_same_src_port_rate         -2.066764\n33       dst_host_diff_srv_rate         -2.226432\n34                      service         -2.421572\n35       dst_host_same_srv_rate         -2.883056\n36               dst_host_count         -2.895409\n37                    srv_count         -4.092257\n38           dst_host_srv_count         -4.244799\n39                    src_bytes         -4.580420\n40                    dst_bytes         -4.618700\n41                        count         -5.224715",
      "text/html": "<div>\n<style scoped>\n    .dataframe tbody tr th:only-of-type {\n        vertical-align: middle;\n    }\n\n    .dataframe tbody tr th {\n        vertical-align: top;\n    }\n\n    .dataframe thead th {\n        text-align: right;\n    }\n</style>\n<table border=\"1\" class=\"dataframe\">\n  <thead>\n    <tr style=\"text-align: right;\">\n      <th></th>\n      <th>Feature</th>\n      <th>Information Gain</th>\n    </tr>\n  </thead>\n  <tbody>\n    <tr>\n      <th>0</th>\n      <td>is_host_login</td>\n      <td>0.997581</td>\n    </tr>\n    <tr>\n      <th>1</th>\n      <td>num_outbound_cmds</td>\n      <td>0.996547</td>\n    </tr>\n    <tr>\n      <th>2</th>\n      <td>urgent</td>\n      <td>0.995402</td>\n    </tr>\n    <tr>\n      <th>3</th>\n      <td>land</td>\n      <td>0.993950</td>\n    </tr>\n    <tr>\n      <th>4</th>\n      <td>num_shells</td>\n      <td>0.992347</td>\n    </tr>\n    <tr>\n      <th>5</th>\n      <td>su_attempted</td>\n      <td>0.989938</td>\n    </tr>\n    <tr>\n      <th>6</th>\n      <td>num_failed_logins</td>\n      <td>0.985044</td>\n    </tr>\n    <tr>\n      <th>7</th>\n      <td>root_shell</td>\n      <td>0.983342</td>\n    </tr>\n    <tr>\n      <th>8</th>\n      <td>num_file_creations</td>\n      <td>0.968503</td>\n    </tr>\n    <tr>\n      <th>9</th>\n      <td>num_access_files</td>\n      <td>0.965693</td>\n    </tr>\n    <tr>\n      <th>10</th>\n      <td>num_root</td>\n      <td>0.936817</td>\n    </tr>\n    <tr>\n      <th>11</th>\n      <td>wrong_fragment</td>\n      <td>0.926324</td>\n    </tr>\n    <tr>\n      <th>12</th>\n      <td>is_guest_login</td>\n      <td>0.921789</td>\n    </tr>\n    <tr>\n      <th>13</th>\n      <td>num_compromised</td>\n      <td>0.897973</td>\n    </tr>\n    <tr>\n      <th>14</th>\n      <td>hot</td>\n      <td>0.791491</td>\n    </tr>\n    <tr>\n      <th>15</th>\n      <td>srv_rerror_rate</td>\n      <td>0.372563</td>\n    </tr>\n    <tr>\n      <th>16</th>\n      <td>logged_in</td>\n      <td>0.321303</td>\n    </tr>\n    <tr>\n      <th>17</th>\n      <td>rerror_rate</td>\n      <td>0.248174</td>\n    </tr>\n    <tr>\n      <th>18</th>\n      <td>srv_serror_rate</td>\n      <td>0.205150</td>\n    </tr>\n    <tr>\n      <th>19</th>\n      <td>protocol_type</td>\n      <td>0.189103</td>\n    </tr>\n    <tr>\n      <th>20</th>\n      <td>dst_host_srv_rerror_rate</td>\n      <td>0.055080</td>\n    </tr>\n    <tr>\n      <th>21</th>\n      <td>serror_rate</td>\n      <td>0.028929</td>\n    </tr>\n    <tr>\n      <th>22</th>\n      <td>duration</td>\n      <td>0.018968</td>\n    </tr>\n    <tr>\n      <th>23</th>\n      <td>dst_host_srv_serror_rate</td>\n      <td>0.013505</td>\n    </tr>\n    <tr>\n      <th>24</th>\n      <td>flag</td>\n      <td>-0.161254</td>\n    </tr>\n    <tr>\n      <th>25</th>\n      <td>dst_host_serror_rate</td>\n      <td>-0.340751</td>\n    </tr>\n    <tr>\n      <th>26</th>\n      <td>dst_host_rerror_rate</td>\n      <td>-0.403171</td>\n    </tr>\n    <tr>\n      <th>27</th>\n      <td>srv_diff_host_rate</td>\n      <td>-0.659718</td>\n    </tr>\n    <tr>\n      <th>28</th>\n      <td>diff_srv_rate</td>\n      <td>-0.873606</td>\n    </tr>\n    <tr>\n      <th>29</th>\n      <td>dst_host_srv_diff_host_rate</td>\n      <td>-0.899136</td>\n    </tr>\n    <tr>\n      <th>30</th>\n      <td>level</td>\n      <td>-1.130508</td>\n    </tr>\n    <tr>\n      <th>31</th>\n      <td>same_srv_rate</td>\n      <td>-1.488667</td>\n    </tr>\n    <tr>\n      <th>32</th>\n      <td>dst_host_same_src_port_rate</td>\n      <td>-2.066764</td>\n    </tr>\n    <tr>\n      <th>33</th>\n      <td>dst_host_diff_srv_rate</td>\n      <td>-2.226432</td>\n    </tr>\n    <tr>\n      <th>34</th>\n      <td>service</td>\n      <td>-2.421572</td>\n    </tr>\n    <tr>\n      <th>35</th>\n      <td>dst_host_same_srv_rate</td>\n      <td>-2.883056</td>\n    </tr>\n    <tr>\n      <th>36</th>\n      <td>dst_host_count</td>\n      <td>-2.895409</td>\n    </tr>\n    <tr>\n      <th>37</th>\n      <td>srv_count</td>\n      <td>-4.092257</td>\n    </tr>\n    <tr>\n      <th>38</th>\n      <td>dst_host_srv_count</td>\n      <td>-4.244799</td>\n    </tr>\n    <tr>\n      <th>39</th>\n      <td>src_bytes</td>\n      <td>-4.580420</td>\n    </tr>\n    <tr>\n      <th>40</th>\n      <td>dst_bytes</td>\n      <td>-4.618700</td>\n    </tr>\n    <tr>\n      <th>41</th>\n      <td>count</td>\n      <td>-5.224715</td>\n    </tr>\n  </tbody>\n</table>\n</div>"
     },
     "execution_count": 10,
     "metadata": {},
     "output_type": "execute_result"
    }
   ],
   "source": [
    "result_df"
   ],
   "metadata": {
    "collapsed": false,
    "ExecuteTime": {
     "end_time": "2024-02-02T19:50:57.717632Z",
     "start_time": "2024-02-02T19:50:57.713597Z"
    }
   },
   "id": "79b285eec0a20ea2",
   "execution_count": 10
  },
  {
   "cell_type": "markdown",
   "source": [
    "## Corrected INFO GAIN"
   ],
   "metadata": {
    "collapsed": false
   },
   "id": "23ed937ba5688469"
  },
  {
   "cell_type": "code",
   "outputs": [],
   "source": [
    "import pandas as pd\n",
    "from sklearn.feature_selection import mutual_info_classif\n",
    "import numpy as np"
   ],
   "metadata": {
    "collapsed": false,
    "ExecuteTime": {
     "end_time": "2024-02-25T11:36:13.711742Z",
     "start_time": "2024-02-25T11:36:11.621169Z"
    }
   },
   "id": "f2f8dcf3e35d7379",
   "execution_count": 1
  },
  {
   "cell_type": "code",
   "outputs": [],
   "source": [
    "# Function to calculate Entropy\n",
    "def calculate_entropy(data):\n",
    "    _, counts = np.unique(data, return_counts=True)\n",
    "    probabilities = counts / len(data)\n",
    "    entropy = -np.sum(probabilities * np.log2(probabilities))\n",
    "    return entropy"
   ],
   "metadata": {
    "collapsed": false,
    "ExecuteTime": {
     "end_time": "2024-02-25T11:36:26.343763Z",
     "start_time": "2024-02-25T11:36:26.339052Z"
    }
   },
   "id": "b4d531047ba071af",
   "execution_count": 2
  },
  {
   "cell_type": "code",
   "outputs": [],
   "source": [
    "# Function to calculate Conditional Entropy\n",
    "def calculate_conditional_entropy(feature, target):\n",
    "    feature_values = np.unique(feature)\n",
    "    weighted_feature_entropies = np.array([np.sum(feature == value) / len(feature) * calculate_entropy(target[feature == value]) for value in feature_values])\n",
    "    return np.sum(weighted_feature_entropies)\n"
   ],
   "metadata": {
    "collapsed": false,
    "ExecuteTime": {
     "end_time": "2024-02-25T11:36:36.603521Z",
     "start_time": "2024-02-25T11:36:36.599501Z"
    }
   },
   "id": "6f02f9d2ce3db40f",
   "execution_count": 3
  },
  {
   "cell_type": "code",
   "outputs": [],
   "source": [
    "# Function to calculate Information Gain between a feature and the target variable\n",
    "def calculate_information_gain(feature, target):\n",
    "    entropy_target = calculate_entropy(target)\n",
    "    conditional_entropy = calculate_conditional_entropy(feature, target)\n",
    "    \n",
    "    information_gain = entropy_target - conditional_entropy\n",
    "\n",
    "    return information_gain\n"
   ],
   "metadata": {
    "collapsed": false,
    "ExecuteTime": {
     "end_time": "2024-02-25T11:36:45.986405Z",
     "start_time": "2024-02-25T11:36:45.981709Z"
    }
   },
   "id": "4a406cd9358a9838",
   "execution_count": 4
  },
  {
   "cell_type": "code",
   "outputs": [],
   "source": [
    "#loading encoded data from csv\n",
    "\n",
    "df = pd.read_csv(\"../../data/BinaryClassify/train_nsl_kdd_binary_encoded.csv\")"
   ],
   "metadata": {
    "collapsed": false,
    "ExecuteTime": {
     "end_time": "2024-02-25T11:37:13.255467Z",
     "start_time": "2024-02-25T11:37:13.112556Z"
    }
   },
   "id": "6e44370f033500d4",
   "execution_count": 5
  },
  {
   "cell_type": "code",
   "outputs": [],
   "source": [
    "# Calculate Information Gain for each feature\n",
    "feature_information_gain_values = {}\n",
    "target_column = 'binaryoutcome'"
   ],
   "metadata": {
    "collapsed": false,
    "ExecuteTime": {
     "end_time": "2024-02-25T11:38:24.679669Z",
     "start_time": "2024-02-25T11:38:24.677031Z"
    }
   },
   "id": "dfaea681236010a",
   "execution_count": 10
  },
  {
   "cell_type": "code",
   "outputs": [],
   "source": [],
   "metadata": {
    "collapsed": false
   },
   "id": "3d5138aec88145c8"
  },
  {
   "cell_type": "code",
   "outputs": [],
   "source": [
    "for feature_column in df.columns[:-1]:  # Exclude the target column\n",
    "    information_gain_value = calculate_information_gain(df[feature_column], df[target_column])\n",
    "    feature_information_gain_values[feature_column] = information_gain_value"
   ],
   "metadata": {
    "collapsed": false,
    "ExecuteTime": {
     "end_time": "2024-02-25T11:38:28.599632Z",
     "start_time": "2024-02-25T11:38:25.380653Z"
    }
   },
   "id": "5d0c66ad538359c8",
   "execution_count": 11
  },
  {
   "cell_type": "code",
   "outputs": [],
   "source": [
    "# Sort the results in descending order\n",
    "sorted_results = sorted(feature_information_gain_values.items(), key=lambda x: x[1], reverse=True)"
   ],
   "metadata": {
    "collapsed": false,
    "ExecuteTime": {
     "end_time": "2024-02-25T11:38:57.059081Z",
     "start_time": "2024-02-25T11:38:57.052979Z"
    }
   },
   "id": "e0941ad372a99507",
   "execution_count": 12
  },
  {
   "cell_type": "code",
   "outputs": [],
   "source": [
    "# Create a DataFrame from the sorted results\n",
    "result_df = pd.DataFrame(sorted_results, columns=['Feature', 'Information Gain'])"
   ],
   "metadata": {
    "collapsed": false,
    "ExecuteTime": {
     "end_time": "2024-02-25T11:39:05.381907Z",
     "start_time": "2024-02-25T11:39:05.376834Z"
    }
   },
   "id": "76f9d8f9efe050",
   "execution_count": 13
  },
  {
   "cell_type": "code",
   "outputs": [
    {
     "data": {
      "text/plain": "                        Feature  Information Gain\n0                     src_bytes          0.822395\n1                       service          0.671567\n2                     dst_bytes          0.642459\n3                 diff_srv_rate          0.519832\n4                          flag          0.519387\n5                 same_srv_rate          0.510794\n6            dst_host_srv_count          0.478010\n7        dst_host_same_srv_rate          0.438669\n8        dst_host_diff_srv_rate          0.411750\n9          dst_host_serror_rate          0.406502\n10                    logged_in          0.404763\n11     dst_host_srv_serror_rate          0.398729\n12                  serror_rate          0.393296\n13                        count          0.384647\n14              srv_serror_rate          0.379860\n15  dst_host_srv_diff_host_rate          0.271366\n16                        level          0.211011\n17               dst_host_count          0.198517\n18  dst_host_same_src_port_rate          0.189521\n19           srv_diff_host_rate          0.142135\n20                    srv_count          0.095337\n21     dst_host_srv_rerror_rate          0.088906\n22                protocol_type          0.062640\n23                  rerror_rate          0.057307\n24         dst_host_rerror_rate          0.053249\n25              srv_rerror_rate          0.052153\n26                     duration          0.047268\n27                          hot          0.011722\n28               wrong_fragment          0.009610\n29              num_compromised          0.006725\n30                     num_root          0.004088\n31             num_access_files          0.002164\n32               is_guest_login          0.001168\n33           num_file_creations          0.001138\n34                 su_attempted          0.000530\n35                   root_shell          0.000324\n36                   num_shells          0.000136\n37            num_failed_logins          0.000113\n38                         land          0.000038\n39                       urgent          0.000009\n40                is_host_login          0.000007\n41            num_outbound_cmds          0.000000",
      "text/html": "<div>\n<style scoped>\n    .dataframe tbody tr th:only-of-type {\n        vertical-align: middle;\n    }\n\n    .dataframe tbody tr th {\n        vertical-align: top;\n    }\n\n    .dataframe thead th {\n        text-align: right;\n    }\n</style>\n<table border=\"1\" class=\"dataframe\">\n  <thead>\n    <tr style=\"text-align: right;\">\n      <th></th>\n      <th>Feature</th>\n      <th>Information Gain</th>\n    </tr>\n  </thead>\n  <tbody>\n    <tr>\n      <th>0</th>\n      <td>src_bytes</td>\n      <td>0.822395</td>\n    </tr>\n    <tr>\n      <th>1</th>\n      <td>service</td>\n      <td>0.671567</td>\n    </tr>\n    <tr>\n      <th>2</th>\n      <td>dst_bytes</td>\n      <td>0.642459</td>\n    </tr>\n    <tr>\n      <th>3</th>\n      <td>diff_srv_rate</td>\n      <td>0.519832</td>\n    </tr>\n    <tr>\n      <th>4</th>\n      <td>flag</td>\n      <td>0.519387</td>\n    </tr>\n    <tr>\n      <th>5</th>\n      <td>same_srv_rate</td>\n      <td>0.510794</td>\n    </tr>\n    <tr>\n      <th>6</th>\n      <td>dst_host_srv_count</td>\n      <td>0.478010</td>\n    </tr>\n    <tr>\n      <th>7</th>\n      <td>dst_host_same_srv_rate</td>\n      <td>0.438669</td>\n    </tr>\n    <tr>\n      <th>8</th>\n      <td>dst_host_diff_srv_rate</td>\n      <td>0.411750</td>\n    </tr>\n    <tr>\n      <th>9</th>\n      <td>dst_host_serror_rate</td>\n      <td>0.406502</td>\n    </tr>\n    <tr>\n      <th>10</th>\n      <td>logged_in</td>\n      <td>0.404763</td>\n    </tr>\n    <tr>\n      <th>11</th>\n      <td>dst_host_srv_serror_rate</td>\n      <td>0.398729</td>\n    </tr>\n    <tr>\n      <th>12</th>\n      <td>serror_rate</td>\n      <td>0.393296</td>\n    </tr>\n    <tr>\n      <th>13</th>\n      <td>count</td>\n      <td>0.384647</td>\n    </tr>\n    <tr>\n      <th>14</th>\n      <td>srv_serror_rate</td>\n      <td>0.379860</td>\n    </tr>\n    <tr>\n      <th>15</th>\n      <td>dst_host_srv_diff_host_rate</td>\n      <td>0.271366</td>\n    </tr>\n    <tr>\n      <th>16</th>\n      <td>level</td>\n      <td>0.211011</td>\n    </tr>\n    <tr>\n      <th>17</th>\n      <td>dst_host_count</td>\n      <td>0.198517</td>\n    </tr>\n    <tr>\n      <th>18</th>\n      <td>dst_host_same_src_port_rate</td>\n      <td>0.189521</td>\n    </tr>\n    <tr>\n      <th>19</th>\n      <td>srv_diff_host_rate</td>\n      <td>0.142135</td>\n    </tr>\n    <tr>\n      <th>20</th>\n      <td>srv_count</td>\n      <td>0.095337</td>\n    </tr>\n    <tr>\n      <th>21</th>\n      <td>dst_host_srv_rerror_rate</td>\n      <td>0.088906</td>\n    </tr>\n    <tr>\n      <th>22</th>\n      <td>protocol_type</td>\n      <td>0.062640</td>\n    </tr>\n    <tr>\n      <th>23</th>\n      <td>rerror_rate</td>\n      <td>0.057307</td>\n    </tr>\n    <tr>\n      <th>24</th>\n      <td>dst_host_rerror_rate</td>\n      <td>0.053249</td>\n    </tr>\n    <tr>\n      <th>25</th>\n      <td>srv_rerror_rate</td>\n      <td>0.052153</td>\n    </tr>\n    <tr>\n      <th>26</th>\n      <td>duration</td>\n      <td>0.047268</td>\n    </tr>\n    <tr>\n      <th>27</th>\n      <td>hot</td>\n      <td>0.011722</td>\n    </tr>\n    <tr>\n      <th>28</th>\n      <td>wrong_fragment</td>\n      <td>0.009610</td>\n    </tr>\n    <tr>\n      <th>29</th>\n      <td>num_compromised</td>\n      <td>0.006725</td>\n    </tr>\n    <tr>\n      <th>30</th>\n      <td>num_root</td>\n      <td>0.004088</td>\n    </tr>\n    <tr>\n      <th>31</th>\n      <td>num_access_files</td>\n      <td>0.002164</td>\n    </tr>\n    <tr>\n      <th>32</th>\n      <td>is_guest_login</td>\n      <td>0.001168</td>\n    </tr>\n    <tr>\n      <th>33</th>\n      <td>num_file_creations</td>\n      <td>0.001138</td>\n    </tr>\n    <tr>\n      <th>34</th>\n      <td>su_attempted</td>\n      <td>0.000530</td>\n    </tr>\n    <tr>\n      <th>35</th>\n      <td>root_shell</td>\n      <td>0.000324</td>\n    </tr>\n    <tr>\n      <th>36</th>\n      <td>num_shells</td>\n      <td>0.000136</td>\n    </tr>\n    <tr>\n      <th>37</th>\n      <td>num_failed_logins</td>\n      <td>0.000113</td>\n    </tr>\n    <tr>\n      <th>38</th>\n      <td>land</td>\n      <td>0.000038</td>\n    </tr>\n    <tr>\n      <th>39</th>\n      <td>urgent</td>\n      <td>0.000009</td>\n    </tr>\n    <tr>\n      <th>40</th>\n      <td>is_host_login</td>\n      <td>0.000007</td>\n    </tr>\n    <tr>\n      <th>41</th>\n      <td>num_outbound_cmds</td>\n      <td>0.000000</td>\n    </tr>\n  </tbody>\n</table>\n</div>"
     },
     "execution_count": 14,
     "metadata": {},
     "output_type": "execute_result"
    }
   ],
   "source": [
    "result_df"
   ],
   "metadata": {
    "collapsed": false,
    "ExecuteTime": {
     "end_time": "2024-02-25T11:39:07.214845Z",
     "start_time": "2024-02-25T11:39:07.210403Z"
    }
   },
   "id": "470c0156d97e77f2",
   "execution_count": 14
  },
  {
   "cell_type": "code",
   "outputs": [],
   "source": [
    "# Save the results to an Excel file\n",
    "result_df.to_excel('information_gain_results.xlsx', index=False)"
   ],
   "metadata": {
    "collapsed": false,
    "ExecuteTime": {
     "end_time": "2024-02-25T11:40:29.831032Z",
     "start_time": "2024-02-25T11:40:29.804973Z"
    }
   },
   "id": "4020ebcf17dd874a",
   "execution_count": 15
  },
  {
   "cell_type": "code",
   "outputs": [],
   "source": [],
   "metadata": {
    "collapsed": false
   },
   "id": "dbda2fb502453c85"
  }
 ],
 "metadata": {
  "kernelspec": {
   "display_name": "Python 3",
   "language": "python",
   "name": "python3"
  },
  "language_info": {
   "codemirror_mode": {
    "name": "ipython",
    "version": 2
   },
   "file_extension": ".py",
   "mimetype": "text/x-python",
   "name": "python",
   "nbconvert_exporter": "python",
   "pygments_lexer": "ipython2",
   "version": "2.7.6"
  }
 },
 "nbformat": 4,
 "nbformat_minor": 5
}
