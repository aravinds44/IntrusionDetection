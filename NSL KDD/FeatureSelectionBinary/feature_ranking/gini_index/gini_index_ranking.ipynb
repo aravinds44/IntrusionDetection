{
 "cells": [
  {
   "cell_type": "code",
   "execution_count": 4,
   "id": "initial_id",
   "metadata": {
    "collapsed": true,
    "ExecuteTime": {
     "end_time": "2024-02-02T20:00:22.022423Z",
     "start_time": "2024-02-02T20:00:22.019654Z"
    }
   },
   "outputs": [],
   "source": [
    "import pandas as pd\n",
    "import numpy as np"
   ]
  },
  {
   "cell_type": "code",
   "outputs": [],
   "source": [
    "#loading encoded data from csv\n",
    "\n",
    "df = pd.read_csv(\"../../data/BinaryClassify/train_nsl_kdd_binary_encoded.csv\")"
   ],
   "metadata": {
    "collapsed": false,
    "ExecuteTime": {
     "end_time": "2024-02-02T19:59:49.222104Z",
     "start_time": "2024-02-02T19:59:49.066699Z"
    }
   },
   "id": "f352c3eece0ad39",
   "execution_count": 2
  },
  {
   "cell_type": "code",
   "outputs": [],
   "source": [
    "# Function to calculate Gini Index\n",
    "def calculate_gini_index(data):\n",
    "    classes, counts = np.unique(data, return_counts=True)\n",
    "    probabilities = counts / len(data)\n",
    "    gini_index = 1 - np.sum(probabilities**2)\n",
    "    return gini_index\n"
   ],
   "metadata": {
    "collapsed": false,
    "ExecuteTime": {
     "end_time": "2024-02-02T20:00:25.140992Z",
     "start_time": "2024-02-02T20:00:25.138760Z"
    }
   },
   "id": "736e136587b15e00",
   "execution_count": 5
  },
  {
   "cell_type": "code",
   "outputs": [],
   "source": [
    "# Function to calculate Weighted Gini Index\n",
    "def calculate_weighted_gini_index(feature, target):\n",
    "    unique_values = feature.unique()\n",
    "    weighted_gini_index = 0\n",
    "\n",
    "    for value in unique_values:\n",
    "        subset_target = target[feature == value]\n",
    "        weight = len(subset_target) / len(target)\n",
    "        gini_index = calculate_gini_index(subset_target)\n",
    "        weighted_gini_index += weight * gini_index\n",
    "\n",
    "    return weighted_gini_index"
   ],
   "metadata": {
    "collapsed": false,
    "ExecuteTime": {
     "end_time": "2024-02-02T20:00:35.503628Z",
     "start_time": "2024-02-02T20:00:35.500835Z"
    }
   },
   "id": "15a95265cbbb3592",
   "execution_count": 6
  },
  {
   "cell_type": "code",
   "outputs": [],
   "source": [
    "# Calculate Gini Index for each feature\n",
    "feature_gini_index_values = {}\n",
    "target_column = 'binaryoutcome'"
   ],
   "metadata": {
    "collapsed": false,
    "ExecuteTime": {
     "end_time": "2024-02-02T20:01:08.539595Z",
     "start_time": "2024-02-02T20:01:08.536374Z"
    }
   },
   "id": "aa9e6d514b0ac1f8",
   "execution_count": 7
  },
  {
   "cell_type": "code",
   "outputs": [],
   "source": [
    "for feature_column in df.columns[:-1]:  # Exclude the target column\n",
    "    gini_index_value = calculate_weighted_gini_index(df[feature_column], df[target_column])\n",
    "    feature_gini_index_values[feature_column] = gini_index_value"
   ],
   "metadata": {
    "collapsed": false,
    "ExecuteTime": {
     "end_time": "2024-02-02T20:01:21.474006Z",
     "start_time": "2024-02-02T20:01:19.647346Z"
    }
   },
   "id": "a29befe26ab01bc",
   "execution_count": 8
  },
  {
   "cell_type": "code",
   "outputs": [],
   "source": [
    "# Sort the results in ascending order\n",
    "sorted_results = sorted(feature_gini_index_values.items(), key=lambda x: x[1])"
   ],
   "metadata": {
    "collapsed": false,
    "ExecuteTime": {
     "end_time": "2024-02-02T20:01:31.582216Z",
     "start_time": "2024-02-02T20:01:31.577981Z"
    }
   },
   "id": "32dd29e54da1b6b6",
   "execution_count": 9
  },
  {
   "cell_type": "code",
   "outputs": [],
   "source": [
    "# Create a DataFrame from the sorted results\n",
    "result_df = pd.DataFrame(sorted_results, columns=['Feature', 'Gini Index'])"
   ],
   "metadata": {
    "collapsed": false,
    "ExecuteTime": {
     "end_time": "2024-02-02T20:01:41.748323Z",
     "start_time": "2024-02-02T20:01:41.744966Z"
    }
   },
   "id": "501e7627992e72c3",
   "execution_count": 10
  },
  {
   "cell_type": "code",
   "outputs": [
    {
     "data": {
      "text/plain": "                        Feature  Gini Index\n0                     src_bytes    0.063043\n1                       service    0.129299\n2                     dst_bytes    0.149816\n3                          flag    0.198776\n4                 diff_srv_rate    0.204492\n5                 same_srv_rate    0.205581\n6            dst_host_srv_count    0.220301\n7        dst_host_same_srv_rate    0.232535\n8        dst_host_diff_srv_rate    0.248657\n9                     logged_in    0.260573\n10                        count    0.265173\n11         dst_host_serror_rate    0.270251\n12                  serror_rate    0.272998\n13     dst_host_srv_serror_rate    0.278614\n14              srv_serror_rate    0.283308\n15  dst_host_srv_diff_host_rate    0.348983\n16                        level    0.362298\n17               dst_host_count    0.374146\n18  dst_host_same_src_port_rate    0.377715\n19           srv_diff_host_rate    0.421389\n20                    srv_count    0.438248\n21     dst_host_srv_rerror_rate    0.444192\n22                protocol_type    0.457991\n23                  rerror_rate    0.461887\n24         dst_host_rerror_rate    0.462730\n25              srv_rerror_rate    0.463709\n26                     duration    0.472332\n27                          hot    0.491000\n28               wrong_fragment    0.492620\n29              num_compromised    0.493652\n30                     num_root    0.495560\n31             num_access_files    0.496472\n32               is_guest_login    0.496841\n33           num_file_creations    0.496991\n34                 su_attempted    0.497347\n35                   root_shell    0.497404\n36                   num_shells    0.497527\n37            num_failed_logins    0.497553\n38                         land    0.497583\n39                       urgent    0.497604\n40                is_host_login    0.497605\n41            num_outbound_cmds    0.497609",
      "text/html": "<div>\n<style scoped>\n    .dataframe tbody tr th:only-of-type {\n        vertical-align: middle;\n    }\n\n    .dataframe tbody tr th {\n        vertical-align: top;\n    }\n\n    .dataframe thead th {\n        text-align: right;\n    }\n</style>\n<table border=\"1\" class=\"dataframe\">\n  <thead>\n    <tr style=\"text-align: right;\">\n      <th></th>\n      <th>Feature</th>\n      <th>Gini Index</th>\n    </tr>\n  </thead>\n  <tbody>\n    <tr>\n      <th>0</th>\n      <td>src_bytes</td>\n      <td>0.063043</td>\n    </tr>\n    <tr>\n      <th>1</th>\n      <td>service</td>\n      <td>0.129299</td>\n    </tr>\n    <tr>\n      <th>2</th>\n      <td>dst_bytes</td>\n      <td>0.149816</td>\n    </tr>\n    <tr>\n      <th>3</th>\n      <td>flag</td>\n      <td>0.198776</td>\n    </tr>\n    <tr>\n      <th>4</th>\n      <td>diff_srv_rate</td>\n      <td>0.204492</td>\n    </tr>\n    <tr>\n      <th>5</th>\n      <td>same_srv_rate</td>\n      <td>0.205581</td>\n    </tr>\n    <tr>\n      <th>6</th>\n      <td>dst_host_srv_count</td>\n      <td>0.220301</td>\n    </tr>\n    <tr>\n      <th>7</th>\n      <td>dst_host_same_srv_rate</td>\n      <td>0.232535</td>\n    </tr>\n    <tr>\n      <th>8</th>\n      <td>dst_host_diff_srv_rate</td>\n      <td>0.248657</td>\n    </tr>\n    <tr>\n      <th>9</th>\n      <td>logged_in</td>\n      <td>0.260573</td>\n    </tr>\n    <tr>\n      <th>10</th>\n      <td>count</td>\n      <td>0.265173</td>\n    </tr>\n    <tr>\n      <th>11</th>\n      <td>dst_host_serror_rate</td>\n      <td>0.270251</td>\n    </tr>\n    <tr>\n      <th>12</th>\n      <td>serror_rate</td>\n      <td>0.272998</td>\n    </tr>\n    <tr>\n      <th>13</th>\n      <td>dst_host_srv_serror_rate</td>\n      <td>0.278614</td>\n    </tr>\n    <tr>\n      <th>14</th>\n      <td>srv_serror_rate</td>\n      <td>0.283308</td>\n    </tr>\n    <tr>\n      <th>15</th>\n      <td>dst_host_srv_diff_host_rate</td>\n      <td>0.348983</td>\n    </tr>\n    <tr>\n      <th>16</th>\n      <td>level</td>\n      <td>0.362298</td>\n    </tr>\n    <tr>\n      <th>17</th>\n      <td>dst_host_count</td>\n      <td>0.374146</td>\n    </tr>\n    <tr>\n      <th>18</th>\n      <td>dst_host_same_src_port_rate</td>\n      <td>0.377715</td>\n    </tr>\n    <tr>\n      <th>19</th>\n      <td>srv_diff_host_rate</td>\n      <td>0.421389</td>\n    </tr>\n    <tr>\n      <th>20</th>\n      <td>srv_count</td>\n      <td>0.438248</td>\n    </tr>\n    <tr>\n      <th>21</th>\n      <td>dst_host_srv_rerror_rate</td>\n      <td>0.444192</td>\n    </tr>\n    <tr>\n      <th>22</th>\n      <td>protocol_type</td>\n      <td>0.457991</td>\n    </tr>\n    <tr>\n      <th>23</th>\n      <td>rerror_rate</td>\n      <td>0.461887</td>\n    </tr>\n    <tr>\n      <th>24</th>\n      <td>dst_host_rerror_rate</td>\n      <td>0.462730</td>\n    </tr>\n    <tr>\n      <th>25</th>\n      <td>srv_rerror_rate</td>\n      <td>0.463709</td>\n    </tr>\n    <tr>\n      <th>26</th>\n      <td>duration</td>\n      <td>0.472332</td>\n    </tr>\n    <tr>\n      <th>27</th>\n      <td>hot</td>\n      <td>0.491000</td>\n    </tr>\n    <tr>\n      <th>28</th>\n      <td>wrong_fragment</td>\n      <td>0.492620</td>\n    </tr>\n    <tr>\n      <th>29</th>\n      <td>num_compromised</td>\n      <td>0.493652</td>\n    </tr>\n    <tr>\n      <th>30</th>\n      <td>num_root</td>\n      <td>0.495560</td>\n    </tr>\n    <tr>\n      <th>31</th>\n      <td>num_access_files</td>\n      <td>0.496472</td>\n    </tr>\n    <tr>\n      <th>32</th>\n      <td>is_guest_login</td>\n      <td>0.496841</td>\n    </tr>\n    <tr>\n      <th>33</th>\n      <td>num_file_creations</td>\n      <td>0.496991</td>\n    </tr>\n    <tr>\n      <th>34</th>\n      <td>su_attempted</td>\n      <td>0.497347</td>\n    </tr>\n    <tr>\n      <th>35</th>\n      <td>root_shell</td>\n      <td>0.497404</td>\n    </tr>\n    <tr>\n      <th>36</th>\n      <td>num_shells</td>\n      <td>0.497527</td>\n    </tr>\n    <tr>\n      <th>37</th>\n      <td>num_failed_logins</td>\n      <td>0.497553</td>\n    </tr>\n    <tr>\n      <th>38</th>\n      <td>land</td>\n      <td>0.497583</td>\n    </tr>\n    <tr>\n      <th>39</th>\n      <td>urgent</td>\n      <td>0.497604</td>\n    </tr>\n    <tr>\n      <th>40</th>\n      <td>is_host_login</td>\n      <td>0.497605</td>\n    </tr>\n    <tr>\n      <th>41</th>\n      <td>num_outbound_cmds</td>\n      <td>0.497609</td>\n    </tr>\n  </tbody>\n</table>\n</div>"
     },
     "execution_count": 11,
     "metadata": {},
     "output_type": "execute_result"
    }
   ],
   "source": [
    "result_df"
   ],
   "metadata": {
    "collapsed": false,
    "ExecuteTime": {
     "end_time": "2024-02-02T20:01:50.067048Z",
     "start_time": "2024-02-02T20:01:50.063216Z"
    }
   },
   "id": "64d71184900fea52",
   "execution_count": 11
  },
  {
   "cell_type": "code",
   "outputs": [],
   "source": [
    "# Save the results to an Excel file\n",
    "result_df.to_excel('gini_index_results.xlsx', index=False)"
   ],
   "metadata": {
    "collapsed": false,
    "ExecuteTime": {
     "end_time": "2024-02-02T20:02:25.576303Z",
     "start_time": "2024-02-02T20:02:25.474742Z"
    }
   },
   "id": "bc07ef4ccfc400c3",
   "execution_count": 12
  },
  {
   "cell_type": "code",
   "outputs": [],
   "source": [],
   "metadata": {
    "collapsed": false
   },
   "id": "2ec0914e94c99f38"
  }
 ],
 "metadata": {
  "kernelspec": {
   "display_name": "Python 3",
   "language": "python",
   "name": "python3"
  },
  "language_info": {
   "codemirror_mode": {
    "name": "ipython",
    "version": 2
   },
   "file_extension": ".py",
   "mimetype": "text/x-python",
   "name": "python",
   "nbconvert_exporter": "python",
   "pygments_lexer": "ipython2",
   "version": "2.7.6"
  }
 },
 "nbformat": 4,
 "nbformat_minor": 5
}
