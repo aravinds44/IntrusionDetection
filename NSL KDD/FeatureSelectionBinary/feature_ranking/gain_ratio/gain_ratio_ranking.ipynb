{
 "cells": [
  {
   "cell_type": "code",
   "execution_count": 1,
   "id": "initial_id",
   "metadata": {
    "collapsed": true,
    "ExecuteTime": {
     "end_time": "2024-02-02T13:58:44.233685Z",
     "start_time": "2024-02-02T13:58:43.464741Z"
    }
   },
   "outputs": [],
   "source": [
    "import pandas as pd\n",
    "import numpy as np\n",
    "from sklearn.feature_selection import mutual_info_classif"
   ]
  },
  {
   "cell_type": "code",
   "outputs": [],
   "source": [
    "#loading encoded data from csv\n",
    "\n",
    "df = pd.read_csv(\"../../data/BinaryClassify/train_nsl_kdd_binary_encoded.csv\")"
   ],
   "metadata": {
    "collapsed": false,
    "ExecuteTime": {
     "end_time": "2024-02-02T13:58:52.900480Z",
     "start_time": "2024-02-02T13:58:52.748449Z"
    }
   },
   "id": "ba51fd5f87c58fe3",
   "execution_count": 2
  },
  {
   "cell_type": "code",
   "outputs": [],
   "source": [
    "# Function to calculate Gain Ratio between a feature and the target variable\n",
    "def calculate_gain_ratio(feature, target):\n",
    "    mutual_info = mutual_info_classif(feature.values.reshape(-1, 1), target)\n",
    "    entropy_feature = -sum(mutual_info)\n",
    "    entropy_target = -sum(mutual_info_classif(target.values.reshape(-1, 1), target))\n",
    "    if entropy_target == 0:\n",
    "        return 0  # Avoid division by zero\n",
    "    return entropy_feature / entropy_target"
   ],
   "metadata": {
    "collapsed": false,
    "ExecuteTime": {
     "end_time": "2024-02-02T13:59:08.564562Z",
     "start_time": "2024-02-02T13:59:08.561215Z"
    }
   },
   "id": "8b6b7b4f2c97fc5c",
   "execution_count": 3
  },
  {
   "cell_type": "code",
   "outputs": [],
   "source": [
    "# Calculate Gain Ratio for each feature\n",
    "feature_gain_ratio_values = {}\n",
    "target_column = 'binaryoutcome'"
   ],
   "metadata": {
    "collapsed": false,
    "ExecuteTime": {
     "end_time": "2024-02-02T13:59:38.969430Z",
     "start_time": "2024-02-02T13:59:38.965051Z"
    }
   },
   "id": "be957ea75fe86d0",
   "execution_count": 6
  },
  {
   "cell_type": "code",
   "outputs": [],
   "source": [
    "for feature_column in df.columns[:-1]:  # Exclude the target column\n",
    "    gain_ratio_value = calculate_gain_ratio(df[feature_column], df[target_column])\n",
    "    feature_gain_ratio_values[feature_column] = gain_ratio_value\n"
   ],
   "metadata": {
    "collapsed": false,
    "ExecuteTime": {
     "end_time": "2024-02-02T14:00:03.646638Z",
     "start_time": "2024-02-02T13:59:39.537145Z"
    }
   },
   "id": "bf684a723ca1aef0",
   "execution_count": 7
  },
  {
   "cell_type": "code",
   "outputs": [],
   "source": [
    "# Sort the results in descending order\n",
    "sorted_results = sorted(feature_gain_ratio_values.items(), key=lambda x: x[1], reverse=True)\n"
   ],
   "metadata": {
    "collapsed": false,
    "ExecuteTime": {
     "end_time": "2024-02-02T14:00:06.555804Z",
     "start_time": "2024-02-02T14:00:06.551751Z"
    }
   },
   "id": "cfe85893ec459b56",
   "execution_count": 8
  },
  {
   "cell_type": "code",
   "outputs": [
    {
     "data": {
      "text/plain": "[('src_bytes', 0.7944693425165142),\n ('service', 0.6584089850320466),\n ('dst_bytes', 0.6186411087678977),\n ('flag', 0.5169036936655363),\n ('same_srv_rate', 0.5158688294609312),\n ('diff_srv_rate', 0.5068708800860247),\n ('dst_host_srv_count', 0.47149855098181587),\n ('dst_host_same_srv_rate', 0.4379657859498922),\n ('logged_in', 0.4113786546928319),\n ('dst_host_serror_rate', 0.40050322354641754),\n ('dst_host_diff_srv_rate', 0.39894913516931957),\n ('dst_host_srv_serror_rate', 0.3956625786120282),\n ('serror_rate', 0.390384089807984),\n ('srv_serror_rate', 0.37662815841154895),\n ('count', 0.3747829071696078),\n ('dst_host_srv_diff_host_rate', 0.262952008032936),\n ('level', 0.2164044365929448),\n ('dst_host_count', 0.20504653315654717),\n ('dst_host_same_src_port_rate', 0.18301484932285284),\n ('srv_diff_host_rate', 0.1363682903391294),\n ('srv_count', 0.09212899461821034),\n ('dst_host_srv_rerror_rate', 0.08703517890087313),\n ('protocol_type', 0.0760603525198568),\n ('rerror_rate', 0.05670300689865128),\n ('srv_rerror_rate', 0.05203042283790516),\n ('dst_host_rerror_rate', 0.050744391081855425),\n ('duration', 0.033801348523974276),\n ('hot', 0.01227288732221386),\n ('wrong_fragment', 0.00813719387887287),\n ('is_guest_login', 0.004863033664464987),\n ('num_compromised', 0.004736416224508629),\n ('num_root', 0.004093224228283684),\n ('num_outbound_cmds', 0.0008383658478497471),\n ('is_host_login', 0.00020147097591217885),\n ('land', -0.0),\n ('urgent', -0.0),\n ('num_failed_logins', -0.0),\n ('root_shell', -0.0),\n ('su_attempted', -0.0),\n ('num_file_creations', -0.0),\n ('num_shells', -0.0),\n ('num_access_files', -0.0)]"
     },
     "execution_count": 9,
     "metadata": {},
     "output_type": "execute_result"
    }
   ],
   "source": [
    "sorted_results"
   ],
   "metadata": {
    "collapsed": false,
    "ExecuteTime": {
     "end_time": "2024-02-02T14:00:10.412107Z",
     "start_time": "2024-02-02T14:00:10.408142Z"
    }
   },
   "id": "7154a50358751fe8",
   "execution_count": 9
  },
  {
   "cell_type": "code",
   "outputs": [],
   "source": [
    "# Create a DataFrame from the sorted results\n",
    "result_df = pd.DataFrame(sorted_results, columns=['Feature', 'Gain Ratio'])"
   ],
   "metadata": {
    "collapsed": false,
    "ExecuteTime": {
     "end_time": "2024-02-02T14:17:59.143958Z",
     "start_time": "2024-02-02T14:17:59.140133Z"
    }
   },
   "id": "78968e83775fd666",
   "execution_count": 10
  },
  {
   "cell_type": "code",
   "outputs": [],
   "source": [
    "# Save the results to an Excel file\n",
    "result_df.to_excel('gain_ratio_results.xlsx', index=False)"
   ],
   "metadata": {
    "collapsed": false,
    "ExecuteTime": {
     "end_time": "2024-02-02T14:18:06.885294Z",
     "start_time": "2024-02-02T14:18:06.779497Z"
    }
   },
   "id": "63a3acbef9326ea9",
   "execution_count": 11
  },
  {
   "cell_type": "code",
   "outputs": [
    {
     "data": {
      "text/plain": "                        Feature  Gain Ratio\n0                     src_bytes    0.794469\n1                       service    0.658409\n2                     dst_bytes    0.618641\n3                          flag    0.516904\n4                 same_srv_rate    0.515869\n5                 diff_srv_rate    0.506871\n6            dst_host_srv_count    0.471499\n7        dst_host_same_srv_rate    0.437966\n8                     logged_in    0.411379\n9          dst_host_serror_rate    0.400503\n10       dst_host_diff_srv_rate    0.398949\n11     dst_host_srv_serror_rate    0.395663\n12                  serror_rate    0.390384\n13              srv_serror_rate    0.376628\n14                        count    0.374783\n15  dst_host_srv_diff_host_rate    0.262952\n16                        level    0.216404\n17               dst_host_count    0.205047\n18  dst_host_same_src_port_rate    0.183015\n19           srv_diff_host_rate    0.136368\n20                    srv_count    0.092129\n21     dst_host_srv_rerror_rate    0.087035\n22                protocol_type    0.076060\n23                  rerror_rate    0.056703\n24              srv_rerror_rate    0.052030\n25         dst_host_rerror_rate    0.050744\n26                     duration    0.033801\n27                          hot    0.012273\n28               wrong_fragment    0.008137\n29               is_guest_login    0.004863\n30              num_compromised    0.004736\n31                     num_root    0.004093\n32            num_outbound_cmds    0.000838\n33                is_host_login    0.000201\n34                         land   -0.000000\n35                       urgent   -0.000000\n36            num_failed_logins   -0.000000\n37                   root_shell   -0.000000\n38                 su_attempted   -0.000000\n39           num_file_creations   -0.000000\n40                   num_shells   -0.000000\n41             num_access_files   -0.000000",
      "text/html": "<div>\n<style scoped>\n    .dataframe tbody tr th:only-of-type {\n        vertical-align: middle;\n    }\n\n    .dataframe tbody tr th {\n        vertical-align: top;\n    }\n\n    .dataframe thead th {\n        text-align: right;\n    }\n</style>\n<table border=\"1\" class=\"dataframe\">\n  <thead>\n    <tr style=\"text-align: right;\">\n      <th></th>\n      <th>Feature</th>\n      <th>Gain Ratio</th>\n    </tr>\n  </thead>\n  <tbody>\n    <tr>\n      <th>0</th>\n      <td>src_bytes</td>\n      <td>0.794469</td>\n    </tr>\n    <tr>\n      <th>1</th>\n      <td>service</td>\n      <td>0.658409</td>\n    </tr>\n    <tr>\n      <th>2</th>\n      <td>dst_bytes</td>\n      <td>0.618641</td>\n    </tr>\n    <tr>\n      <th>3</th>\n      <td>flag</td>\n      <td>0.516904</td>\n    </tr>\n    <tr>\n      <th>4</th>\n      <td>same_srv_rate</td>\n      <td>0.515869</td>\n    </tr>\n    <tr>\n      <th>5</th>\n      <td>diff_srv_rate</td>\n      <td>0.506871</td>\n    </tr>\n    <tr>\n      <th>6</th>\n      <td>dst_host_srv_count</td>\n      <td>0.471499</td>\n    </tr>\n    <tr>\n      <th>7</th>\n      <td>dst_host_same_srv_rate</td>\n      <td>0.437966</td>\n    </tr>\n    <tr>\n      <th>8</th>\n      <td>logged_in</td>\n      <td>0.411379</td>\n    </tr>\n    <tr>\n      <th>9</th>\n      <td>dst_host_serror_rate</td>\n      <td>0.400503</td>\n    </tr>\n    <tr>\n      <th>10</th>\n      <td>dst_host_diff_srv_rate</td>\n      <td>0.398949</td>\n    </tr>\n    <tr>\n      <th>11</th>\n      <td>dst_host_srv_serror_rate</td>\n      <td>0.395663</td>\n    </tr>\n    <tr>\n      <th>12</th>\n      <td>serror_rate</td>\n      <td>0.390384</td>\n    </tr>\n    <tr>\n      <th>13</th>\n      <td>srv_serror_rate</td>\n      <td>0.376628</td>\n    </tr>\n    <tr>\n      <th>14</th>\n      <td>count</td>\n      <td>0.374783</td>\n    </tr>\n    <tr>\n      <th>15</th>\n      <td>dst_host_srv_diff_host_rate</td>\n      <td>0.262952</td>\n    </tr>\n    <tr>\n      <th>16</th>\n      <td>level</td>\n      <td>0.216404</td>\n    </tr>\n    <tr>\n      <th>17</th>\n      <td>dst_host_count</td>\n      <td>0.205047</td>\n    </tr>\n    <tr>\n      <th>18</th>\n      <td>dst_host_same_src_port_rate</td>\n      <td>0.183015</td>\n    </tr>\n    <tr>\n      <th>19</th>\n      <td>srv_diff_host_rate</td>\n      <td>0.136368</td>\n    </tr>\n    <tr>\n      <th>20</th>\n      <td>srv_count</td>\n      <td>0.092129</td>\n    </tr>\n    <tr>\n      <th>21</th>\n      <td>dst_host_srv_rerror_rate</td>\n      <td>0.087035</td>\n    </tr>\n    <tr>\n      <th>22</th>\n      <td>protocol_type</td>\n      <td>0.076060</td>\n    </tr>\n    <tr>\n      <th>23</th>\n      <td>rerror_rate</td>\n      <td>0.056703</td>\n    </tr>\n    <tr>\n      <th>24</th>\n      <td>srv_rerror_rate</td>\n      <td>0.052030</td>\n    </tr>\n    <tr>\n      <th>25</th>\n      <td>dst_host_rerror_rate</td>\n      <td>0.050744</td>\n    </tr>\n    <tr>\n      <th>26</th>\n      <td>duration</td>\n      <td>0.033801</td>\n    </tr>\n    <tr>\n      <th>27</th>\n      <td>hot</td>\n      <td>0.012273</td>\n    </tr>\n    <tr>\n      <th>28</th>\n      <td>wrong_fragment</td>\n      <td>0.008137</td>\n    </tr>\n    <tr>\n      <th>29</th>\n      <td>is_guest_login</td>\n      <td>0.004863</td>\n    </tr>\n    <tr>\n      <th>30</th>\n      <td>num_compromised</td>\n      <td>0.004736</td>\n    </tr>\n    <tr>\n      <th>31</th>\n      <td>num_root</td>\n      <td>0.004093</td>\n    </tr>\n    <tr>\n      <th>32</th>\n      <td>num_outbound_cmds</td>\n      <td>0.000838</td>\n    </tr>\n    <tr>\n      <th>33</th>\n      <td>is_host_login</td>\n      <td>0.000201</td>\n    </tr>\n    <tr>\n      <th>34</th>\n      <td>land</td>\n      <td>-0.000000</td>\n    </tr>\n    <tr>\n      <th>35</th>\n      <td>urgent</td>\n      <td>-0.000000</td>\n    </tr>\n    <tr>\n      <th>36</th>\n      <td>num_failed_logins</td>\n      <td>-0.000000</td>\n    </tr>\n    <tr>\n      <th>37</th>\n      <td>root_shell</td>\n      <td>-0.000000</td>\n    </tr>\n    <tr>\n      <th>38</th>\n      <td>su_attempted</td>\n      <td>-0.000000</td>\n    </tr>\n    <tr>\n      <th>39</th>\n      <td>num_file_creations</td>\n      <td>-0.000000</td>\n    </tr>\n    <tr>\n      <th>40</th>\n      <td>num_shells</td>\n      <td>-0.000000</td>\n    </tr>\n    <tr>\n      <th>41</th>\n      <td>num_access_files</td>\n      <td>-0.000000</td>\n    </tr>\n  </tbody>\n</table>\n</div>"
     },
     "execution_count": 12,
     "metadata": {},
     "output_type": "execute_result"
    }
   ],
   "source": [
    "result_df"
   ],
   "metadata": {
    "collapsed": false,
    "ExecuteTime": {
     "end_time": "2024-02-02T14:18:12.630491Z",
     "start_time": "2024-02-02T14:18:12.620085Z"
    }
   },
   "id": "faedfd0b8ad586ef",
   "execution_count": 12
  },
  {
   "cell_type": "code",
   "outputs": [],
   "source": [],
   "metadata": {
    "collapsed": false
   },
   "id": "36287c3c7e84035"
  }
 ],
 "metadata": {
  "kernelspec": {
   "display_name": "Python 3",
   "language": "python",
   "name": "python3"
  },
  "language_info": {
   "codemirror_mode": {
    "name": "ipython",
    "version": 2
   },
   "file_extension": ".py",
   "mimetype": "text/x-python",
   "name": "python",
   "nbconvert_exporter": "python",
   "pygments_lexer": "ipython2",
   "version": "2.7.6"
  }
 },
 "nbformat": 4,
 "nbformat_minor": 5
}
