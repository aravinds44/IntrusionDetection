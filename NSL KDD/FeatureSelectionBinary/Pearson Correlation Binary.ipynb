{
 "cells": [
  {
   "cell_type": "code",
   "execution_count": 2,
   "id": "d61fa9a2",
   "metadata": {},
   "outputs": [
    {
     "name": "stderr",
     "output_type": "stream",
     "text": [
      "C:\\Users\\aravi\\AppData\\Local\\Temp\\ipykernel_20716\\3085133660.py:1: DeprecationWarning: \n",
      "Pyarrow will become a required dependency of pandas in the next major release of pandas (pandas 3.0),\n",
      "(to allow more performant data types, such as the Arrow string type, and better interoperability with other libraries)\n",
      "but was not found to be installed on your system.\n",
      "If this would cause problems for you,\n",
      "please provide us feedback at https://github.com/pandas-dev/pandas/issues/54466\n",
      "        \n",
      "  import pandas as pd\n"
     ]
    }
   ],
   "source": [
    "import pandas as pd\n",
    "from sklearn.feature_selection import SelectKBest, f_classif"
   ]
  },
  {
   "cell_type": "code",
   "execution_count": 1,
   "id": "c23581a9",
   "metadata": {},
   "outputs": [
    {
     "ename": "NameError",
     "evalue": "name 'pd' is not defined",
     "output_type": "error",
     "traceback": [
      "\u001b[1;31m---------------------------------------------------------------------------\u001b[0m",
      "\u001b[1;31mNameError\u001b[0m                                 Traceback (most recent call last)",
      "Cell \u001b[1;32mIn[1], line 3\u001b[0m\n\u001b[0;32m      1\u001b[0m \u001b[38;5;66;03m#loading encoded data from csv\u001b[39;00m\n\u001b[1;32m----> 3\u001b[0m train_encoded \u001b[38;5;241m=\u001b[39m pd\u001b[38;5;241m.\u001b[39mread_csv(\u001b[38;5;124m\"\u001b[39m\u001b[38;5;124mdata/BinaryClassify/train_nsl_kdd_binary_encoded.csv\u001b[39m\u001b[38;5;124m\"\u001b[39m)\n\u001b[0;32m      4\u001b[0m test_encoded \u001b[38;5;241m=\u001b[39m pd\u001b[38;5;241m.\u001b[39mread_csv(\u001b[38;5;124m\"\u001b[39m\u001b[38;5;124mdata/BinaryClassify/train_nsl_kdd_binary_encoded.csv\u001b[39m\u001b[38;5;124m\"\u001b[39m)\n",
      "\u001b[1;31mNameError\u001b[0m: name 'pd' is not defined"
     ]
    }
   ],
   "source": [
    "#loading encoded data from csv\n",
    "\n",
    "train_encoded = pd.read_csv(\"data/BinaryClassify/train_nsl_kdd_binary_encoded.csv\")\n",
    "test_encoded = pd.read_csv(\"data/BinaryClassify/train_nsl_kdd_binary_encoded.csv\")"
   ]
  },
  {
   "cell_type": "code",
   "execution_count": 29,
   "id": "416f6ff5",
   "metadata": {},
   "outputs": [],
   "source": [
    "X = train_encoded.drop('binaryoutcome', axis=1)\n",
    "Y = train_encoded['binaryoutcome']"
   ]
  },
  {
   "cell_type": "code",
   "execution_count": 30,
   "id": "0aa5807d",
   "metadata": {},
   "outputs": [
    {
     "data": {
      "text/plain": [
       "0    125972\n",
       "Name: num_outbound_cmds, dtype: int64"
      ]
     },
     "execution_count": 30,
     "metadata": {},
     "output_type": "execute_result"
    }
   ],
   "source": [
    "X.num_outbound_cmds.value_counts()"
   ]
  },
  {
   "cell_type": "code",
   "execution_count": 31,
   "id": "b8638577",
   "metadata": {},
   "outputs": [],
   "source": [
    "# Calculate Pearson correlation matrix\n",
    "# corr_matrix = X.corr()\n",
    "\n",
    "# Select features with correlation greater than 0.5 or less than -0.5\n",
    "# high_corr_features = set()\n",
    "# for column in corr_matrix.columns:\n",
    "#     correlated_features_pos = corr_matrix.index[corr_matrix[column] > 0.5].tolist()\n",
    "#     correlated_features_neg = corr_matrix.index[corr_matrix[column] < -0.5].tolist()\n",
    "#     high_corr_features.update(correlated_features_pos + correlated_features_neg)\n"
   ]
  },
  {
   "cell_type": "code",
   "execution_count": 32,
   "id": "e787e8ab",
   "metadata": {},
   "outputs": [],
   "source": [
    "corr_mat= train_encoded.corr()"
   ]
  },
  {
   "cell_type": "code",
   "execution_count": 33,
   "id": "6a5ce9df",
   "metadata": {},
   "outputs": [
    {
     "data": {
      "text/plain": [
       "duration                      -0.048785\n",
       "protocol_type                  0.281357\n",
       "service                       -0.276545\n",
       "flag                           0.647071\n",
       "src_bytes                     -0.005921\n",
       "dst_bytes                     -0.004118\n",
       "land                          -0.007191\n",
       "wrong_fragment                -0.095905\n",
       "urgent                         0.002787\n",
       "hot                            0.013084\n",
       "num_failed_logins              0.003755\n",
       "logged_in                      0.690181\n",
       "num_compromised                0.010198\n",
       "root_shell                     0.020286\n",
       "su_attempted                   0.022449\n",
       "num_root                       0.011453\n",
       "num_file_creations             0.021271\n",
       "num_shells                     0.009472\n",
       "num_access_files               0.036701\n",
       "num_outbound_cmds                   NaN\n",
       "is_host_login                  0.002629\n",
       "is_guest_login                 0.039280\n",
       "count                         -0.576442\n",
       "srv_count                     -0.000768\n",
       "serror_rate                   -0.650651\n",
       "srv_serror_rate               -0.648287\n",
       "rerror_rate                   -0.253395\n",
       "srv_rerror_rate               -0.253502\n",
       "same_srv_rate                  0.751912\n",
       "diff_srv_rate                 -0.203658\n",
       "srv_diff_host_rate             0.119380\n",
       "dst_host_count                -0.375051\n",
       "dst_host_srv_count             0.722546\n",
       "dst_host_same_srv_rate         0.693813\n",
       "dst_host_diff_srv_rate        -0.242897\n",
       "dst_host_same_src_port_rate   -0.092445\n",
       "dst_host_srv_diff_host_rate   -0.062330\n",
       "dst_host_serror_rate          -0.651840\n",
       "dst_host_srv_serror_rate      -0.654984\n",
       "dst_host_rerror_rate          -0.252562\n",
       "dst_host_srv_rerror_rate      -0.253428\n",
       "level                          0.379707\n",
       "binaryoutcome                  1.000000\n",
       "Name: binaryoutcome, dtype: float64"
      ]
     },
     "execution_count": 33,
     "metadata": {},
     "output_type": "execute_result"
    }
   ],
   "source": [
    "corr_mat['binaryoutcome']"
   ]
  },
  {
   "cell_type": "code",
   "execution_count": 34,
   "id": "281990ae",
   "metadata": {},
   "outputs": [],
   "source": [
    "# # Remove duplicates (if any)\n",
    "# high_corr_features = list(high_corr_features)"
   ]
  },
  {
   "cell_type": "code",
   "execution_count": 35,
   "id": "3dee8528",
   "metadata": {},
   "outputs": [],
   "source": [
    "# Select the top 10 features based on F-statistic\n",
    "# k = 42\n",
    "# f_selector = SelectKBest(f_classif, k=k)\n",
    "# X_high_corr = X[high_corr_features]\n",
    "# X_top10 = f_selector.fit_transform(X_high_corr, Y)"
   ]
  },
  {
   "cell_type": "code",
   "execution_count": 36,
   "id": "edf44838",
   "metadata": {},
   "outputs": [],
   "source": [
    "# # Get the selected features and their correlation values\n",
    "# selected_features_top10 = X_high_corr.columns[f_selector.get_support()]\n",
    "# correlation_values_top10 = corr_matrix.loc[selected_features_top10, selected_features_top10]\n",
    "\n",
    "# # Display the selected top 10 features and their correlation values\n",
    "# print(\"Selected Top 10 Features with High Correlation and Their Correlation Values:\")\n",
    "# for feature in selected_features_top10:\n",
    "#     correlation_value = correlation_values_top10.loc[feature, feature]\n",
    "#     print(f\"{feature}: {correlation_value}\")"
   ]
  },
  {
   "cell_type": "code",
   "execution_count": 38,
   "id": "1ca95a5f",
   "metadata": {},
   "outputs": [],
   "source": [
    "corr_mat[['binaryoutcome']].sort_values(by='binaryoutcome').to_csv(\"pearson/sorted_pearson_features.csv\")"
   ]
  },
  {
   "cell_type": "code",
   "execution_count": null,
   "id": "cdd47d7d",
   "metadata": {},
   "outputs": [],
   "source": [
    "train"
   ]
  }
 ],
 "metadata": {
  "kernelspec": {
   "display_name": "Python 3 (ipykernel)",
   "language": "python",
   "name": "python3"
  },
  "language_info": {
   "codemirror_mode": {
    "name": "ipython",
    "version": 3
   },
   "file_extension": ".py",
   "mimetype": "text/x-python",
   "name": "python",
   "nbconvert_exporter": "python",
   "pygments_lexer": "ipython3",
   "version": "3.11.7"
  }
 },
 "nbformat": 4,
 "nbformat_minor": 5
}
