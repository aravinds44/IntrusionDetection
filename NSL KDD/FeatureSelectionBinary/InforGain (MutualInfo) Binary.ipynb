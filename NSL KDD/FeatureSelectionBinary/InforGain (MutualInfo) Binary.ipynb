{
 "cells": [
  {
   "cell_type": "code",
   "execution_count": 1,
   "id": "7d92273d",
   "metadata": {},
   "outputs": [],
   "source": [
    "import pandas as pd\n",
    "from sklearn.feature_selection import SelectKBest, mutual_info_classif"
   ]
  },
  {
   "cell_type": "code",
   "execution_count": 2,
   "id": "e8f2cce7",
   "metadata": {},
   "outputs": [],
   "source": [
    "#loading encoded data from csv\n",
    "\n",
    "train_encoded = pd.read_csv(\"data/BinaryClassify/train_nsl_kdd_binary_encoded.csv\")\n",
    "test_encoded = pd.read_csv(\"data/BinaryClassify/train_nsl_kdd_binary_encoded.csv\")"
   ]
  },
  {
   "cell_type": "code",
   "execution_count": 3,
   "id": "b47419d6",
   "metadata": {},
   "outputs": [],
   "source": [
    "X = train_encoded.drop('binaryoutcome', axis=1)\n",
    "Y = train_encoded['binaryoutcome']"
   ]
  },
  {
   "cell_type": "code",
   "execution_count": 4,
   "id": "44520639",
   "metadata": {},
   "outputs": [],
   "source": [
    "# Feature selection using Information Gain (mutual information)\n",
    "info_gain_selector = SelectKBest(mutual_info_classif, k=10)  # Select top 10 features (you can change this value)\n",
    "X_info_gain = info_gain_selector.fit_transform(X, Y)"
   ]
  },
  {
   "cell_type": "code",
   "execution_count": 5,
   "id": "dc3ce475",
   "metadata": {},
   "outputs": [],
   "source": [
    "# Get the selected features and Information Gain values\n",
    "selected_features_info_gain = X.columns[info_gain_selector.get_support()]\n",
    "info_gain_values = info_gain_selector.scores_"
   ]
  },
  {
   "cell_type": "code",
   "execution_count": 6,
   "id": "9ab4e7c6",
   "metadata": {},
   "outputs": [
    {
     "name": "stdout",
     "output_type": "stream",
     "text": [
      "Selected Features and Information Gain Values:\n",
      "service: 0.023342231588725948\n",
      "flag: 0.054949795459554585\n",
      "src_bytes: 0.4674473545565354\n",
      "dst_bytes: 0.3687183664247262\n",
      "logged_in: 0.5667356810416639\n",
      "same_srv_rate: 0.4406589249295212\n",
      "diff_srv_rate: 0.0\n",
      "dst_host_srv_count: 0.0060241098689910455\n",
      "dst_host_same_srv_rate: 0.0013017706521805117\n",
      "dst_host_serror_rate: 0.00877826977862739\n"
     ]
    }
   ],
   "source": [
    "# Display the selected features and Information Gain values\n",
    "print(\"Selected Features and Information Gain Values:\")\n",
    "for feature, info_gain_value in zip(selected_features_info_gain, info_gain_values):\n",
    "    print(f\"{feature}: {info_gain_value}\")"
   ]
  },
  {
   "cell_type": "code",
   "execution_count": null,
   "id": "bbcb8931",
   "metadata": {},
   "outputs": [],
   "source": []
  }
 ],
 "metadata": {
  "kernelspec": {
   "display_name": "Python 3 (ipykernel)",
   "language": "python",
   "name": "python3"
  },
  "language_info": {
   "codemirror_mode": {
    "name": "ipython",
    "version": 3
   },
   "file_extension": ".py",
   "mimetype": "text/x-python",
   "name": "python",
   "nbconvert_exporter": "python",
   "pygments_lexer": "ipython3",
   "version": "3.11.4"
  }
 },
 "nbformat": 4,
 "nbformat_minor": 5
}
